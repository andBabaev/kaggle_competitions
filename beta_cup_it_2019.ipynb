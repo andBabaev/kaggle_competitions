{
 "cells": [
  {
   "cell_type": "markdown",
   "metadata": {},
   "source": [
    "# Исходный код к заданию финального кейса Changellenge >>Cup IT 2019 (Data Science)\n",
    "\n",
    "## Команда beta"
   ]
  },
  {
   "cell_type": "markdown",
   "metadata": {
    "colab_type": "text",
    "id": "3pkyd4jL24eu"
   },
   "source": [
    "## Импорт библиотек"
   ]
  },
  {
   "cell_type": "code",
   "execution_count": 1,
   "metadata": {
    "colab": {},
    "colab_type": "code",
    "id": "Zgp8bRT-xj6Q"
   },
   "outputs": [
    {
     "name": "stderr",
     "output_type": "stream",
     "text": [
      "Using TensorFlow backend.\n"
     ]
    }
   ],
   "source": [
    "import numpy as np\n",
    "import pandas as pd\n",
    "import dask.dataframe as dd\n",
    "\n",
    "from keras.models import Sequential\n",
    "from keras.layers import Dense, Dropout\n",
    "\n",
    "from sklearn.metrics import mean_absolute_error, accuracy_score, classification_report, f1_score\n",
    "from sklearn.model_selection import train_test_split\n",
    "from sklearn.preprocessing import StandardScaler\n",
    "\n",
    "from sklearn.linear_model import LogisticRegression, SGDClassifier\n",
    "from sklearn.tree import DecisionTreeClassifier\n",
    "from sklearn.ensemble import RandomForestClassifier\n",
    "from sklearn.neighbors import KNeighborsClassifier\n",
    "from lightgbm import LGBMClassifier\n",
    "import gc"
   ]
  },
  {
   "cell_type": "markdown",
   "metadata": {
    "colab_type": "text",
    "id": "bn8Ypjnp3QsB"
   },
   "source": [
    "## Работа с данными"
   ]
  },
  {
   "cell_type": "markdown",
   "metadata": {
    "colab_type": "text",
    "id": "tCYISsl228L7"
   },
   "source": [
    "### Предварительный осмотр данных"
   ]
  },
  {
   "cell_type": "markdown",
   "metadata": {},
   "source": [
    "Файл *features.zip* имеет очень большой размер. Осмотрим данные в этом файле, чтобы понять, как лучше их загрузить"
   ]
  },
  {
   "cell_type": "code",
   "execution_count": 2,
   "metadata": {
    "colab": {
     "base_uri": "https://localhost:8080/",
     "height": 392
    },
    "colab_type": "code",
    "id": "VVToW5ctxmAP",
    "outputId": "58537fe0-682d-4f56-c08c-2086592a8b54"
   },
   "outputs": [
    {
     "data": {
      "text/html": [
       "<div>\n",
       "<style scoped>\n",
       "    .dataframe tbody tr th:only-of-type {\n",
       "        vertical-align: middle;\n",
       "    }\n",
       "\n",
       "    .dataframe tbody tr th {\n",
       "        vertical-align: top;\n",
       "    }\n",
       "\n",
       "    .dataframe thead th {\n",
       "        text-align: right;\n",
       "    }\n",
       "</style>\n",
       "<table border=\"1\" class=\"dataframe\">\n",
       "  <thead>\n",
       "    <tr style=\"text-align: right;\">\n",
       "      <th></th>\n",
       "      <th>id</th>\n",
       "      <th>buy_time</th>\n",
       "      <th>0</th>\n",
       "      <th>1</th>\n",
       "      <th>2</th>\n",
       "      <th>3</th>\n",
       "      <th>4</th>\n",
       "      <th>5</th>\n",
       "      <th>6</th>\n",
       "      <th>7</th>\n",
       "      <th>...</th>\n",
       "      <th>243</th>\n",
       "      <th>244</th>\n",
       "      <th>245</th>\n",
       "      <th>246</th>\n",
       "      <th>247</th>\n",
       "      <th>248</th>\n",
       "      <th>249</th>\n",
       "      <th>250</th>\n",
       "      <th>251</th>\n",
       "      <th>252</th>\n",
       "    </tr>\n",
       "  </thead>\n",
       "  <tbody>\n",
       "    <tr>\n",
       "      <th>0</th>\n",
       "      <td>2013026</td>\n",
       "      <td>1531688400</td>\n",
       "      <td>18.910029</td>\n",
       "      <td>46.980888</td>\n",
       "      <td>4.969214</td>\n",
       "      <td>-1.386798</td>\n",
       "      <td>3.791754</td>\n",
       "      <td>-14.01179</td>\n",
       "      <td>-16.08618</td>\n",
       "      <td>-65.076097</td>\n",
       "      <td>...</td>\n",
       "      <td>-977.373846</td>\n",
       "      <td>-613.770792</td>\n",
       "      <td>-25.996269</td>\n",
       "      <td>-37.630448</td>\n",
       "      <td>-301.747724</td>\n",
       "      <td>-25.832889</td>\n",
       "      <td>-0.694428</td>\n",
       "      <td>-12.175933</td>\n",
       "      <td>-0.45614</td>\n",
       "      <td>0.0</td>\n",
       "    </tr>\n",
       "    <tr>\n",
       "      <th>1</th>\n",
       "      <td>2014722</td>\n",
       "      <td>1539550800</td>\n",
       "      <td>36.690029</td>\n",
       "      <td>152.400888</td>\n",
       "      <td>448.069214</td>\n",
       "      <td>563.833202</td>\n",
       "      <td>463.841754</td>\n",
       "      <td>568.99821</td>\n",
       "      <td>-16.08618</td>\n",
       "      <td>-53.216097</td>\n",
       "      <td>...</td>\n",
       "      <td>-891.373846</td>\n",
       "      <td>-544.770792</td>\n",
       "      <td>-20.996269</td>\n",
       "      <td>48.369552</td>\n",
       "      <td>80.252276</td>\n",
       "      <td>-13.832889</td>\n",
       "      <td>-0.694428</td>\n",
       "      <td>-1.175933</td>\n",
       "      <td>-0.45614</td>\n",
       "      <td>0.0</td>\n",
       "    </tr>\n",
       "    <tr>\n",
       "      <th>2</th>\n",
       "      <td>2015199</td>\n",
       "      <td>1545598800</td>\n",
       "      <td>-67.019971</td>\n",
       "      <td>157.050888</td>\n",
       "      <td>-63.180786</td>\n",
       "      <td>178.103202</td>\n",
       "      <td>-68.598246</td>\n",
       "      <td>156.99821</td>\n",
       "      <td>3.51382</td>\n",
       "      <td>25.183903</td>\n",
       "      <td>...</td>\n",
       "      <td>-977.373846</td>\n",
       "      <td>-613.770792</td>\n",
       "      <td>-12.996269</td>\n",
       "      <td>-37.630448</td>\n",
       "      <td>10829.252276</td>\n",
       "      <td>-25.832889</td>\n",
       "      <td>-0.694428</td>\n",
       "      <td>-12.175933</td>\n",
       "      <td>-0.45614</td>\n",
       "      <td>0.0</td>\n",
       "    </tr>\n",
       "    <tr>\n",
       "      <th>3</th>\n",
       "      <td>2021765</td>\n",
       "      <td>1534107600</td>\n",
       "      <td>7.010029</td>\n",
       "      <td>150.200888</td>\n",
       "      <td>-6.930786</td>\n",
       "      <td>216.213202</td>\n",
       "      <td>76.621754</td>\n",
       "      <td>351.84821</td>\n",
       "      <td>-16.08618</td>\n",
       "      <td>-65.076097</td>\n",
       "      <td>...</td>\n",
       "      <td>-973.373846</td>\n",
       "      <td>-613.770792</td>\n",
       "      <td>-23.996269</td>\n",
       "      <td>-37.630448</td>\n",
       "      <td>-205.747724</td>\n",
       "      <td>-24.832889</td>\n",
       "      <td>-0.694428</td>\n",
       "      <td>-11.175933</td>\n",
       "      <td>-0.45614</td>\n",
       "      <td>1.0</td>\n",
       "    </tr>\n",
       "    <tr>\n",
       "      <th>4</th>\n",
       "      <td>2027465</td>\n",
       "      <td>1533502800</td>\n",
       "      <td>-90.439971</td>\n",
       "      <td>134.220888</td>\n",
       "      <td>-104.380786</td>\n",
       "      <td>153.643202</td>\n",
       "      <td>-109.798246</td>\n",
       "      <td>132.53821</td>\n",
       "      <td>-16.08618</td>\n",
       "      <td>-65.076097</td>\n",
       "      <td>...</td>\n",
       "      <td>1643.626154</td>\n",
       "      <td>2007.229208</td>\n",
       "      <td>206.003731</td>\n",
       "      <td>-21.630448</td>\n",
       "      <td>6667.252276</td>\n",
       "      <td>92.167111</td>\n",
       "      <td>-0.694428</td>\n",
       "      <td>49.824067</td>\n",
       "      <td>47.54386</td>\n",
       "      <td>0.0</td>\n",
       "    </tr>\n",
       "    <tr>\n",
       "      <th>5</th>\n",
       "      <td>2028410</td>\n",
       "      <td>1534107600</td>\n",
       "      <td>-96.799971</td>\n",
       "      <td>-26.819112</td>\n",
       "      <td>-110.740786</td>\n",
       "      <td>-79.426798</td>\n",
       "      <td>-116.158246</td>\n",
       "      <td>-100.53179</td>\n",
       "      <td>-16.08618</td>\n",
       "      <td>-65.076097</td>\n",
       "      <td>...</td>\n",
       "      <td>-11.373846</td>\n",
       "      <td>346.229208</td>\n",
       "      <td>-17.996269</td>\n",
       "      <td>127.369552</td>\n",
       "      <td>-159.747724</td>\n",
       "      <td>-17.832889</td>\n",
       "      <td>-0.694428</td>\n",
       "      <td>-4.175933</td>\n",
       "      <td>-0.45614</td>\n",
       "      <td>0.0</td>\n",
       "    </tr>\n",
       "    <tr>\n",
       "      <th>6</th>\n",
       "      <td>2030773</td>\n",
       "      <td>1544994000</td>\n",
       "      <td>284.560029</td>\n",
       "      <td>-26.819112</td>\n",
       "      <td>280.779214</td>\n",
       "      <td>-62.486798</td>\n",
       "      <td>275.361754</td>\n",
       "      <td>-83.59179</td>\n",
       "      <td>-16.08618</td>\n",
       "      <td>-65.076097</td>\n",
       "      <td>...</td>\n",
       "      <td>-854.373846</td>\n",
       "      <td>-552.770792</td>\n",
       "      <td>-20.996269</td>\n",
       "      <td>-37.630448</td>\n",
       "      <td>-63.747724</td>\n",
       "      <td>-25.832889</td>\n",
       "      <td>-0.694428</td>\n",
       "      <td>-12.175933</td>\n",
       "      <td>-0.45614</td>\n",
       "      <td>1.0</td>\n",
       "    </tr>\n",
       "    <tr>\n",
       "      <th>7</th>\n",
       "      <td>2032337</td>\n",
       "      <td>1537736400</td>\n",
       "      <td>92.550029</td>\n",
       "      <td>-140.459112</td>\n",
       "      <td>95.559214</td>\n",
       "      <td>-129.516798</td>\n",
       "      <td>90.141754</td>\n",
       "      <td>-150.62179</td>\n",
       "      <td>119.51382</td>\n",
       "      <td>70.523903</td>\n",
       "      <td>...</td>\n",
       "      <td>-568.373846</td>\n",
       "      <td>-207.770792</td>\n",
       "      <td>-23.996269</td>\n",
       "      <td>-37.630448</td>\n",
       "      <td>-36.747724</td>\n",
       "      <td>43.167111</td>\n",
       "      <td>35.305572</td>\n",
       "      <td>20.824067</td>\n",
       "      <td>-0.45614</td>\n",
       "      <td>1.0</td>\n",
       "    </tr>\n",
       "    <tr>\n",
       "      <th>8</th>\n",
       "      <td>2033486</td>\n",
       "      <td>1545598800</td>\n",
       "      <td>-93.749971</td>\n",
       "      <td>-123.939112</td>\n",
       "      <td>-77.190786</td>\n",
       "      <td>-82.536798</td>\n",
       "      <td>-82.608246</td>\n",
       "      <td>-103.64179</td>\n",
       "      <td>-16.08618</td>\n",
       "      <td>-65.076097</td>\n",
       "      <td>...</td>\n",
       "      <td>-962.373846</td>\n",
       "      <td>-598.770792</td>\n",
       "      <td>-25.996269</td>\n",
       "      <td>-37.630448</td>\n",
       "      <td>-202.747724</td>\n",
       "      <td>31.167111</td>\n",
       "      <td>-0.694428</td>\n",
       "      <td>-12.175933</td>\n",
       "      <td>-0.45614</td>\n",
       "      <td>1.0</td>\n",
       "    </tr>\n",
       "    <tr>\n",
       "      <th>9</th>\n",
       "      <td>2034066</td>\n",
       "      <td>1544389200</td>\n",
       "      <td>228.520029</td>\n",
       "      <td>316.910888</td>\n",
       "      <td>233.709214</td>\n",
       "      <td>350.323202</td>\n",
       "      <td>228.291754</td>\n",
       "      <td>329.21821</td>\n",
       "      <td>-16.08618</td>\n",
       "      <td>-65.076097</td>\n",
       "      <td>...</td>\n",
       "      <td>-969.373846</td>\n",
       "      <td>-613.770792</td>\n",
       "      <td>-24.996269</td>\n",
       "      <td>-37.630448</td>\n",
       "      <td>-250.747724</td>\n",
       "      <td>-22.832889</td>\n",
       "      <td>-0.694428</td>\n",
       "      <td>-11.175933</td>\n",
       "      <td>0.54386</td>\n",
       "      <td>0.0</td>\n",
       "    </tr>\n",
       "  </tbody>\n",
       "</table>\n",
       "<p>10 rows × 255 columns</p>\n",
       "</div>"
      ],
      "text/plain": [
       "        id    buy_time           0           1           2           3  \\\n",
       "0  2013026  1531688400   18.910029   46.980888    4.969214   -1.386798   \n",
       "1  2014722  1539550800   36.690029  152.400888  448.069214  563.833202   \n",
       "2  2015199  1545598800  -67.019971  157.050888  -63.180786  178.103202   \n",
       "3  2021765  1534107600    7.010029  150.200888   -6.930786  216.213202   \n",
       "4  2027465  1533502800  -90.439971  134.220888 -104.380786  153.643202   \n",
       "5  2028410  1534107600  -96.799971  -26.819112 -110.740786  -79.426798   \n",
       "6  2030773  1544994000  284.560029  -26.819112  280.779214  -62.486798   \n",
       "7  2032337  1537736400   92.550029 -140.459112   95.559214 -129.516798   \n",
       "8  2033486  1545598800  -93.749971 -123.939112  -77.190786  -82.536798   \n",
       "9  2034066  1544389200  228.520029  316.910888  233.709214  350.323202   \n",
       "\n",
       "            4          5          6          7  ...          243          244  \\\n",
       "0    3.791754  -14.01179  -16.08618 -65.076097  ...  -977.373846  -613.770792   \n",
       "1  463.841754  568.99821  -16.08618 -53.216097  ...  -891.373846  -544.770792   \n",
       "2  -68.598246  156.99821    3.51382  25.183903  ...  -977.373846  -613.770792   \n",
       "3   76.621754  351.84821  -16.08618 -65.076097  ...  -973.373846  -613.770792   \n",
       "4 -109.798246  132.53821  -16.08618 -65.076097  ...  1643.626154  2007.229208   \n",
       "5 -116.158246 -100.53179  -16.08618 -65.076097  ...   -11.373846   346.229208   \n",
       "6  275.361754  -83.59179  -16.08618 -65.076097  ...  -854.373846  -552.770792   \n",
       "7   90.141754 -150.62179  119.51382  70.523903  ...  -568.373846  -207.770792   \n",
       "8  -82.608246 -103.64179  -16.08618 -65.076097  ...  -962.373846  -598.770792   \n",
       "9  228.291754  329.21821  -16.08618 -65.076097  ...  -969.373846  -613.770792   \n",
       "\n",
       "          245         246           247        248        249        250  \\\n",
       "0  -25.996269  -37.630448   -301.747724 -25.832889  -0.694428 -12.175933   \n",
       "1  -20.996269   48.369552     80.252276 -13.832889  -0.694428  -1.175933   \n",
       "2  -12.996269  -37.630448  10829.252276 -25.832889  -0.694428 -12.175933   \n",
       "3  -23.996269  -37.630448   -205.747724 -24.832889  -0.694428 -11.175933   \n",
       "4  206.003731  -21.630448   6667.252276  92.167111  -0.694428  49.824067   \n",
       "5  -17.996269  127.369552   -159.747724 -17.832889  -0.694428  -4.175933   \n",
       "6  -20.996269  -37.630448    -63.747724 -25.832889  -0.694428 -12.175933   \n",
       "7  -23.996269  -37.630448    -36.747724  43.167111  35.305572  20.824067   \n",
       "8  -25.996269  -37.630448   -202.747724  31.167111  -0.694428 -12.175933   \n",
       "9  -24.996269  -37.630448   -250.747724 -22.832889  -0.694428 -11.175933   \n",
       "\n",
       "        251  252  \n",
       "0  -0.45614  0.0  \n",
       "1  -0.45614  0.0  \n",
       "2  -0.45614  0.0  \n",
       "3  -0.45614  1.0  \n",
       "4  47.54386  0.0  \n",
       "5  -0.45614  0.0  \n",
       "6  -0.45614  1.0  \n",
       "7  -0.45614  1.0  \n",
       "8  -0.45614  1.0  \n",
       "9   0.54386  0.0  \n",
       "\n",
       "[10 rows x 255 columns]"
      ]
     },
     "execution_count": 2,
     "metadata": {},
     "output_type": "execute_result"
    }
   ],
   "source": [
    "df = pd.read_csv('features.zip', sep='\\t', nrows=10, index_col=0)\n",
    "df.head(10)"
   ]
  },
  {
   "cell_type": "code",
   "execution_count": 3,
   "metadata": {
    "colab": {
     "base_uri": "https://localhost:8080/",
     "height": 118
    },
    "colab_type": "code",
    "id": "NLjDlprpi_aQ",
    "outputId": "0ece3434-dd49-45b7-8d6f-04c54d43305d"
   },
   "outputs": [
    {
     "name": "stdout",
     "output_type": "stream",
     "text": [
      "<class 'pandas.core.frame.DataFrame'>\n",
      "Int64Index: 10 entries, 0 to 9\n",
      "Columns: 255 entries, id to 252\n",
      "dtypes: float64(253), int64(2)\n",
      "memory usage: 20.0 KB\n",
      "None\n"
     ]
    }
   ],
   "source": [
    "print(df.info())"
   ]
  },
  {
   "cell_type": "code",
   "execution_count": 4,
   "metadata": {
    "colab": {
     "base_uri": "https://localhost:8080/",
     "height": 54
    },
    "colab_type": "code",
    "id": "55M_hLD_yhRJ",
    "outputId": "be82791a-71dd-4c70-d9b8-7be096681e6d"
   },
   "outputs": [],
   "source": [
    "fl_col = []\n",
    "for name_col in df.columns:\n",
    "    if df[name_col].dtype == np.float64:\n",
    "        fl_col.append(name_col)"
   ]
  },
  {
   "cell_type": "code",
   "execution_count": 5,
   "metadata": {
    "colab": {},
    "colab_type": "code",
    "id": "L1WZpiibidWw"
   },
   "outputs": [],
   "source": [
    "df[fl_col] = df[fl_col].astype(np.float32)\n",
    "df[['id']] = df[['id']].astype(np.int32)"
   ]
  },
  {
   "cell_type": "markdown",
   "metadata": {},
   "source": [
    "Изменение типов данных позволит существенно сократить потребление памяти"
   ]
  },
  {
   "cell_type": "code",
   "execution_count": 6,
   "metadata": {
    "colab": {
     "base_uri": "https://localhost:8080/",
     "height": 118
    },
    "colab_type": "code",
    "id": "hzL147fRimBV",
    "outputId": "576fe869-7b21-4a3d-ff4e-ce6f51f12489"
   },
   "outputs": [
    {
     "name": "stdout",
     "output_type": "stream",
     "text": [
      "<class 'pandas.core.frame.DataFrame'>\n",
      "Int64Index: 10 entries, 0 to 9\n",
      "Columns: 255 entries, id to 252\n",
      "dtypes: float32(253), int32(1), int64(1)\n",
      "memory usage: 10.1 KB\n",
      "None\n"
     ]
    }
   ],
   "source": [
    "print(df.info())"
   ]
  },
  {
   "cell_type": "markdown",
   "metadata": {
    "colab_type": "text",
    "id": "PbYcSHTD3C6S"
   },
   "source": [
    "### Загрузка features.zip"
   ]
  },
  {
   "cell_type": "markdown",
   "metadata": {},
   "source": [
    "Создадим словарь соотвествия названия столбца и типа данных, к которому он будет приведен"
   ]
  },
  {
   "cell_type": "code",
   "execution_count": 7,
   "metadata": {},
   "outputs": [],
   "source": [
    "dtypes = {str(i): 'float32' for i in range(253)}\n",
    "dtypes['id'] = 'int32'\n",
    "dtypes['buy_time'] = 'int32'"
   ]
  },
  {
   "cell_type": "markdown",
   "metadata": {},
   "source": [
    "Для ускорения загрузки данных воспользуемся библиотекой *Dask* вместо *Pandas*"
   ]
  },
  {
   "cell_type": "code",
   "execution_count": 8,
   "metadata": {},
   "outputs": [],
   "source": [
    "df = dd.read_csv(\"features.csv\", sep='\\t', dtype = dtypes)"
   ]
  },
  {
   "cell_type": "code",
   "execution_count": 9,
   "metadata": {},
   "outputs": [
    {
     "data": {
      "text/html": [
       "<div>\n",
       "<style scoped>\n",
       "    .dataframe tbody tr th:only-of-type {\n",
       "        vertical-align: middle;\n",
       "    }\n",
       "\n",
       "    .dataframe tbody tr th {\n",
       "        vertical-align: top;\n",
       "    }\n",
       "\n",
       "    .dataframe thead th {\n",
       "        text-align: right;\n",
       "    }\n",
       "</style>\n",
       "<table border=\"1\" class=\"dataframe\">\n",
       "  <thead>\n",
       "    <tr style=\"text-align: right;\">\n",
       "      <th></th>\n",
       "      <th>Unnamed: 0</th>\n",
       "      <th>id</th>\n",
       "      <th>buy_time</th>\n",
       "      <th>0</th>\n",
       "      <th>1</th>\n",
       "      <th>2</th>\n",
       "      <th>3</th>\n",
       "      <th>4</th>\n",
       "      <th>5</th>\n",
       "      <th>6</th>\n",
       "      <th>...</th>\n",
       "      <th>243</th>\n",
       "      <th>244</th>\n",
       "      <th>245</th>\n",
       "      <th>246</th>\n",
       "      <th>247</th>\n",
       "      <th>248</th>\n",
       "      <th>249</th>\n",
       "      <th>250</th>\n",
       "      <th>251</th>\n",
       "      <th>252</th>\n",
       "    </tr>\n",
       "  </thead>\n",
       "  <tbody>\n",
       "    <tr>\n",
       "      <th>12423</th>\n",
       "      <td>4512523</td>\n",
       "      <td>3521417</td>\n",
       "      <td>1548018000</td>\n",
       "      <td>-96.799973</td>\n",
       "      <td>-29.579113</td>\n",
       "      <td>-94.900787</td>\n",
       "      <td>-40.506798</td>\n",
       "      <td>-100.318245</td>\n",
       "      <td>-61.611790</td>\n",
       "      <td>-16.08618</td>\n",
       "      <td>...</td>\n",
       "      <td>1133.626099</td>\n",
       "      <td>1497.229248</td>\n",
       "      <td>-25.996269</td>\n",
       "      <td>-36.630447</td>\n",
       "      <td>-126.747726</td>\n",
       "      <td>-25.832888</td>\n",
       "      <td>-0.694429</td>\n",
       "      <td>-12.175933</td>\n",
       "      <td>-0.45614</td>\n",
       "      <td>0.0</td>\n",
       "    </tr>\n",
       "    <tr>\n",
       "      <th>12424</th>\n",
       "      <td>4512524</td>\n",
       "      <td>3521563</td>\n",
       "      <td>1547413200</td>\n",
       "      <td>30.530029</td>\n",
       "      <td>-150.929108</td>\n",
       "      <td>16.589214</td>\n",
       "      <td>-34.046799</td>\n",
       "      <td>11.171754</td>\n",
       "      <td>-55.151791</td>\n",
       "      <td>-16.08618</td>\n",
       "      <td>...</td>\n",
       "      <td>-680.373840</td>\n",
       "      <td>-316.770782</td>\n",
       "      <td>-25.996269</td>\n",
       "      <td>-35.630447</td>\n",
       "      <td>-296.747711</td>\n",
       "      <td>-25.832888</td>\n",
       "      <td>-0.694429</td>\n",
       "      <td>-12.175933</td>\n",
       "      <td>-0.45614</td>\n",
       "      <td>0.0</td>\n",
       "    </tr>\n",
       "    <tr>\n",
       "      <th>12425</th>\n",
       "      <td>4512525</td>\n",
       "      <td>3521574</td>\n",
       "      <td>1546808400</td>\n",
       "      <td>-96.799973</td>\n",
       "      <td>-396.439117</td>\n",
       "      <td>-110.740784</td>\n",
       "      <td>-447.776794</td>\n",
       "      <td>-116.158249</td>\n",
       "      <td>-468.881775</td>\n",
       "      <td>-16.08618</td>\n",
       "      <td>...</td>\n",
       "      <td>-977.373840</td>\n",
       "      <td>-613.770813</td>\n",
       "      <td>-25.996269</td>\n",
       "      <td>-37.630447</td>\n",
       "      <td>-306.747711</td>\n",
       "      <td>-25.832888</td>\n",
       "      <td>-0.694429</td>\n",
       "      <td>-12.175933</td>\n",
       "      <td>-0.45614</td>\n",
       "      <td>0.0</td>\n",
       "    </tr>\n",
       "    <tr>\n",
       "      <th>12426</th>\n",
       "      <td>4512526</td>\n",
       "      <td>3521640</td>\n",
       "      <td>1547413200</td>\n",
       "      <td>38.030029</td>\n",
       "      <td>-152.519119</td>\n",
       "      <td>24.089214</td>\n",
       "      <td>-175.956802</td>\n",
       "      <td>18.671753</td>\n",
       "      <td>-197.061783</td>\n",
       "      <td>-16.08618</td>\n",
       "      <td>...</td>\n",
       "      <td>2242.626221</td>\n",
       "      <td>2528.229248</td>\n",
       "      <td>-25.996269</td>\n",
       "      <td>90.369553</td>\n",
       "      <td>-26.747725</td>\n",
       "      <td>-18.832888</td>\n",
       "      <td>-0.694429</td>\n",
       "      <td>-12.175933</td>\n",
       "      <td>0.54386</td>\n",
       "      <td>0.0</td>\n",
       "    </tr>\n",
       "    <tr>\n",
       "      <th>12427</th>\n",
       "      <td>4512527</td>\n",
       "      <td>3521702</td>\n",
       "      <td>1548018000</td>\n",
       "      <td>9.780029</td>\n",
       "      <td>-145.769119</td>\n",
       "      <td>-4.160786</td>\n",
       "      <td>-198.376801</td>\n",
       "      <td>-9.578246</td>\n",
       "      <td>-219.481796</td>\n",
       "      <td>-16.08618</td>\n",
       "      <td>...</td>\n",
       "      <td>-975.373840</td>\n",
       "      <td>-612.770813</td>\n",
       "      <td>-25.996269</td>\n",
       "      <td>-35.630447</td>\n",
       "      <td>-288.747711</td>\n",
       "      <td>-20.832888</td>\n",
       "      <td>-0.694429</td>\n",
       "      <td>-12.175933</td>\n",
       "      <td>-0.45614</td>\n",
       "      <td>0.0</td>\n",
       "    </tr>\n",
       "  </tbody>\n",
       "</table>\n",
       "<p>5 rows × 256 columns</p>\n",
       "</div>"
      ],
      "text/plain": [
       "       Unnamed: 0       id    buy_time          0           1           2  \\\n",
       "12423     4512523  3521417  1548018000 -96.799973  -29.579113  -94.900787   \n",
       "12424     4512524  3521563  1547413200  30.530029 -150.929108   16.589214   \n",
       "12425     4512525  3521574  1546808400 -96.799973 -396.439117 -110.740784   \n",
       "12426     4512526  3521640  1547413200  38.030029 -152.519119   24.089214   \n",
       "12427     4512527  3521702  1548018000   9.780029 -145.769119   -4.160786   \n",
       "\n",
       "                3           4           5         6  ...          243  \\\n",
       "12423  -40.506798 -100.318245  -61.611790 -16.08618  ...  1133.626099   \n",
       "12424  -34.046799   11.171754  -55.151791 -16.08618  ...  -680.373840   \n",
       "12425 -447.776794 -116.158249 -468.881775 -16.08618  ...  -977.373840   \n",
       "12426 -175.956802   18.671753 -197.061783 -16.08618  ...  2242.626221   \n",
       "12427 -198.376801   -9.578246 -219.481796 -16.08618  ...  -975.373840   \n",
       "\n",
       "               244        245        246         247        248       249  \\\n",
       "12423  1497.229248 -25.996269 -36.630447 -126.747726 -25.832888 -0.694429   \n",
       "12424  -316.770782 -25.996269 -35.630447 -296.747711 -25.832888 -0.694429   \n",
       "12425  -613.770813 -25.996269 -37.630447 -306.747711 -25.832888 -0.694429   \n",
       "12426  2528.229248 -25.996269  90.369553  -26.747725 -18.832888 -0.694429   \n",
       "12427  -612.770813 -25.996269 -35.630447 -288.747711 -20.832888 -0.694429   \n",
       "\n",
       "             250      251  252  \n",
       "12423 -12.175933 -0.45614  0.0  \n",
       "12424 -12.175933 -0.45614  0.0  \n",
       "12425 -12.175933 -0.45614  0.0  \n",
       "12426 -12.175933  0.54386  0.0  \n",
       "12427 -12.175933 -0.45614  0.0  \n",
       "\n",
       "[5 rows x 256 columns]"
      ]
     },
     "execution_count": 9,
     "metadata": {},
     "output_type": "execute_result"
    }
   ],
   "source": [
    "df.tail()"
   ]
  },
  {
   "cell_type": "code",
   "execution_count": 10,
   "metadata": {},
   "outputs": [],
   "source": [
    "features_df = df.drop_duplicates(subset=['id'], keep='last').compute()"
   ]
  },
  {
   "cell_type": "code",
   "execution_count": 11,
   "metadata": {},
   "outputs": [
    {
     "name": "stdout",
     "output_type": "stream",
     "text": [
      "<class 'pandas.core.frame.DataFrame'>\n",
      "Int64Index: 4362739 entries, 0 to 12427\n",
      "Columns: 256 entries, Unnamed: 0 to 252\n",
      "dtypes: float32(253), int32(2), int64(1)\n",
      "memory usage: 4.2 GB\n"
     ]
    }
   ],
   "source": [
    "features_df.info()"
   ]
  },
  {
   "cell_type": "markdown",
   "metadata": {
    "colab_type": "text",
    "id": "agxJUmO73aHk"
   },
   "source": [
    "### Остальные файлы"
   ]
  },
  {
   "cell_type": "markdown",
   "metadata": {
    "colab_type": "text",
    "id": "MJdGm4SM7nCC"
   },
   "source": [
    "Загрузим тренировочные данные"
   ]
  },
  {
   "cell_type": "code",
   "execution_count": 12,
   "metadata": {
    "colab": {
     "base_uri": "https://localhost:8080/",
     "height": 195
    },
    "colab_type": "code",
    "id": "VAO0-wiKvc4O",
    "outputId": "ce48c30e-a34a-4849-ae0e-86262b8c496d"
   },
   "outputs": [
    {
     "data": {
      "text/html": [
       "<div>\n",
       "<style scoped>\n",
       "    .dataframe tbody tr th:only-of-type {\n",
       "        vertical-align: middle;\n",
       "    }\n",
       "\n",
       "    .dataframe tbody tr th {\n",
       "        vertical-align: top;\n",
       "    }\n",
       "\n",
       "    .dataframe thead th {\n",
       "        text-align: right;\n",
       "    }\n",
       "</style>\n",
       "<table border=\"1\" class=\"dataframe\">\n",
       "  <thead>\n",
       "    <tr style=\"text-align: right;\">\n",
       "      <th></th>\n",
       "      <th>id</th>\n",
       "      <th>vas_id</th>\n",
       "      <th>buy_time</th>\n",
       "      <th>target</th>\n",
       "    </tr>\n",
       "  </thead>\n",
       "  <tbody>\n",
       "    <tr>\n",
       "      <th>0</th>\n",
       "      <td>1803703</td>\n",
       "      <td>2.0</td>\n",
       "      <td>1539550800</td>\n",
       "      <td>0.0</td>\n",
       "    </tr>\n",
       "    <tr>\n",
       "      <th>1</th>\n",
       "      <td>1144906</td>\n",
       "      <td>1.0</td>\n",
       "      <td>1534107600</td>\n",
       "      <td>0.0</td>\n",
       "    </tr>\n",
       "    <tr>\n",
       "      <th>2</th>\n",
       "      <td>721013</td>\n",
       "      <td>1.0</td>\n",
       "      <td>1541970000</td>\n",
       "      <td>0.0</td>\n",
       "    </tr>\n",
       "    <tr>\n",
       "      <th>3</th>\n",
       "      <td>721013</td>\n",
       "      <td>4.0</td>\n",
       "      <td>1542574800</td>\n",
       "      <td>1.0</td>\n",
       "    </tr>\n",
       "    <tr>\n",
       "      <th>4</th>\n",
       "      <td>2741595</td>\n",
       "      <td>2.0</td>\n",
       "      <td>1531688400</td>\n",
       "      <td>0.0</td>\n",
       "    </tr>\n",
       "  </tbody>\n",
       "</table>\n",
       "</div>"
      ],
      "text/plain": [
       "        id  vas_id    buy_time  target\n",
       "0  1803703     2.0  1539550800     0.0\n",
       "1  1144906     1.0  1534107600     0.0\n",
       "2   721013     1.0  1541970000     0.0\n",
       "3   721013     4.0  1542574800     1.0\n",
       "4  2741595     2.0  1531688400     0.0"
      ]
     },
     "execution_count": 12,
     "metadata": {},
     "output_type": "execute_result"
    }
   ],
   "source": [
    "train_df = pd.read_csv('train.csv',  sep='\\t')\n",
    "train_df.head()"
   ]
  },
  {
   "cell_type": "code",
   "execution_count": 13,
   "metadata": {
    "colab": {},
    "colab_type": "code",
    "id": "ODI4h5_A6yNf"
   },
   "outputs": [],
   "source": [
    "cols = ['id', 'vas_id', 'target']\n",
    "train_df[cols] = train_df[cols].astype(np.int32)"
   ]
  },
  {
   "cell_type": "code",
   "execution_count": 14,
   "metadata": {
    "colab": {
     "base_uri": "https://localhost:8080/",
     "height": 218
    },
    "colab_type": "code",
    "id": "ePKwHymxvsnQ",
    "outputId": "4f348f7b-a6e4-49d2-9390-8c3d0ca5a837"
   },
   "outputs": [
    {
     "name": "stdout",
     "output_type": "stream",
     "text": [
      "<class 'pandas.core.frame.DataFrame'>\n",
      "RangeIndex: 3620927 entries, 0 to 3620926\n",
      "Data columns (total 4 columns):\n",
      "id          int32\n",
      "vas_id      int32\n",
      "buy_time    int64\n",
      "target      int32\n",
      "dtypes: int32(3), int64(1)\n",
      "memory usage: 69.1 MB\n",
      "None\n"
     ]
    }
   ],
   "source": [
    "print(train_df.info())"
   ]
  },
  {
   "cell_type": "markdown",
   "metadata": {
    "colab_type": "text",
    "id": "3Se2E9t87rRt"
   },
   "source": [
    "Посмотрим на распределение классов"
   ]
  },
  {
   "cell_type": "code",
   "execution_count": 15,
   "metadata": {
    "colab": {
     "base_uri": "https://localhost:8080/",
     "height": 67
    },
    "colab_type": "code",
    "id": "tLU00kpq7lx-",
    "outputId": "6425e2d1-e43b-46d0-eb8f-0e3f8cbbd3be"
   },
   "outputs": [
    {
     "name": "stdout",
     "output_type": "stream",
     "text": [
      "0    0.926726\n",
      "1    0.073274\n",
      "Name: target, dtype: float64\n"
     ]
    }
   ],
   "source": [
    "print(train_df.target.value_counts(normalize=True))"
   ]
  },
  {
   "cell_type": "markdown",
   "metadata": {
    "colab_type": "text",
    "id": "MUoFpPg_7u65"
   },
   "source": [
    "Загрузим тестовые данные"
   ]
  },
  {
   "cell_type": "code",
   "execution_count": 16,
   "metadata": {
    "colab": {
     "base_uri": "https://localhost:8080/",
     "height": 195
    },
    "colab_type": "code",
    "id": "bx9yCW28wRHd",
    "outputId": "0fa3be6e-6d99-4d12-ec09-fc49695fa719"
   },
   "outputs": [
    {
     "data": {
      "text/html": [
       "<div>\n",
       "<style scoped>\n",
       "    .dataframe tbody tr th:only-of-type {\n",
       "        vertical-align: middle;\n",
       "    }\n",
       "\n",
       "    .dataframe tbody tr th {\n",
       "        vertical-align: top;\n",
       "    }\n",
       "\n",
       "    .dataframe thead th {\n",
       "        text-align: right;\n",
       "    }\n",
       "</style>\n",
       "<table border=\"1\" class=\"dataframe\">\n",
       "  <thead>\n",
       "    <tr style=\"text-align: right;\">\n",
       "      <th></th>\n",
       "      <th>id</th>\n",
       "      <th>vas_id</th>\n",
       "      <th>buy_time</th>\n",
       "    </tr>\n",
       "  </thead>\n",
       "  <tbody>\n",
       "    <tr>\n",
       "      <th>0</th>\n",
       "      <td>540968</td>\n",
       "      <td>8.0</td>\n",
       "      <td>1537131600</td>\n",
       "    </tr>\n",
       "    <tr>\n",
       "      <th>1</th>\n",
       "      <td>1454121</td>\n",
       "      <td>4.0</td>\n",
       "      <td>1531688400</td>\n",
       "    </tr>\n",
       "    <tr>\n",
       "      <th>2</th>\n",
       "      <td>2458816</td>\n",
       "      <td>1.0</td>\n",
       "      <td>1534107600</td>\n",
       "    </tr>\n",
       "    <tr>\n",
       "      <th>3</th>\n",
       "      <td>3535012</td>\n",
       "      <td>5.0</td>\n",
       "      <td>1535922000</td>\n",
       "    </tr>\n",
       "    <tr>\n",
       "      <th>4</th>\n",
       "      <td>1693214</td>\n",
       "      <td>1.0</td>\n",
       "      <td>1535922000</td>\n",
       "    </tr>\n",
       "  </tbody>\n",
       "</table>\n",
       "</div>"
      ],
      "text/plain": [
       "        id  vas_id    buy_time\n",
       "0   540968     8.0  1537131600\n",
       "1  1454121     4.0  1531688400\n",
       "2  2458816     1.0  1534107600\n",
       "3  3535012     5.0  1535922000\n",
       "4  1693214     1.0  1535922000"
      ]
     },
     "execution_count": 16,
     "metadata": {},
     "output_type": "execute_result"
    }
   ],
   "source": [
    "test_df = pd.read_csv('test.csv',  sep='\\t')\n",
    "test_df.head()"
   ]
  },
  {
   "cell_type": "code",
   "execution_count": 17,
   "metadata": {
    "colab": {},
    "colab_type": "code",
    "id": "o6laxIzB7ae6"
   },
   "outputs": [],
   "source": [
    "cols = ['id', 'vas_id']\n",
    "test_df[cols] = test_df[cols].astype(np.int32)"
   ]
  },
  {
   "cell_type": "code",
   "execution_count": 18,
   "metadata": {
    "colab": {
     "base_uri": "https://localhost:8080/",
     "height": 202
    },
    "colab_type": "code",
    "id": "83QQ75zbwV8Z",
    "outputId": "edb7b562-0289-44d6-c1f1-81ea3943a50a"
   },
   "outputs": [
    {
     "name": "stdout",
     "output_type": "stream",
     "text": [
      "<class 'pandas.core.frame.DataFrame'>\n",
      "RangeIndex: 902884 entries, 0 to 902883\n",
      "Data columns (total 3 columns):\n",
      "id          902884 non-null int32\n",
      "vas_id      902884 non-null int32\n",
      "buy_time    902884 non-null int64\n",
      "dtypes: int32(2), int64(1)\n",
      "memory usage: 13.8 MB\n",
      "None\n"
     ]
    }
   ],
   "source": [
    "print(test_df.info())"
   ]
  },
  {
   "cell_type": "markdown",
   "metadata": {},
   "source": [
    "Загрузим данные о ценах"
   ]
  },
  {
   "cell_type": "code",
   "execution_count": 19,
   "metadata": {
    "colab": {
     "base_uri": "https://localhost:8080/",
     "height": 195
    },
    "colab_type": "code",
    "id": "_lSnfMFByzAq",
    "outputId": "59b984e4-53d1-494a-f248-645518abeae4"
   },
   "outputs": [
    {
     "data": {
      "text/html": [
       "<div>\n",
       "<style scoped>\n",
       "    .dataframe tbody tr th:only-of-type {\n",
       "        vertical-align: middle;\n",
       "    }\n",
       "\n",
       "    .dataframe tbody tr th {\n",
       "        vertical-align: top;\n",
       "    }\n",
       "\n",
       "    .dataframe thead th {\n",
       "        text-align: right;\n",
       "    }\n",
       "</style>\n",
       "<table border=\"1\" class=\"dataframe\">\n",
       "  <thead>\n",
       "    <tr style=\"text-align: right;\">\n",
       "      <th></th>\n",
       "      <th>vas_id</th>\n",
       "      <th>monthly_price_rur</th>\n",
       "    </tr>\n",
       "  </thead>\n",
       "  <tbody>\n",
       "    <tr>\n",
       "      <th>0</th>\n",
       "      <td>1</td>\n",
       "      <td>199</td>\n",
       "    </tr>\n",
       "    <tr>\n",
       "      <th>1</th>\n",
       "      <td>2</td>\n",
       "      <td>239</td>\n",
       "    </tr>\n",
       "    <tr>\n",
       "      <th>2</th>\n",
       "      <td>3</td>\n",
       "      <td>799</td>\n",
       "    </tr>\n",
       "    <tr>\n",
       "      <th>3</th>\n",
       "      <td>4</td>\n",
       "      <td>379</td>\n",
       "    </tr>\n",
       "    <tr>\n",
       "      <th>4</th>\n",
       "      <td>5</td>\n",
       "      <td>349</td>\n",
       "    </tr>\n",
       "  </tbody>\n",
       "</table>\n",
       "</div>"
      ],
      "text/plain": [
       "   vas_id  monthly_price_rur\n",
       "0       1                199\n",
       "1       2                239\n",
       "2       3                799\n",
       "3       4                379\n",
       "4       5                349"
      ]
     },
     "execution_count": 19,
     "metadata": {},
     "output_type": "execute_result"
    }
   ],
   "source": [
    "price_df = pd.read_csv('services.csv',  sep='\\t')\n",
    "price_df[['vas_id']] = price_df[['vas_id']].astype(np.int32)\n",
    "price_df.head()"
   ]
  },
  {
   "cell_type": "markdown",
   "metadata": {},
   "source": [
    "### Объединение данных"
   ]
  },
  {
   "cell_type": "markdown",
   "metadata": {},
   "source": [
    "Добавим к данным из *train.csv* данные по абонентам из *features.csv*"
   ]
  },
  {
   "cell_type": "code",
   "execution_count": 20,
   "metadata": {},
   "outputs": [],
   "source": [
    "merged_train_df = train_df.merge(features_df, on='id')\n",
    "merged_train_df = merged_train_df.merge(price_df, on='vas_id')"
   ]
  },
  {
   "cell_type": "code",
   "execution_count": 21,
   "metadata": {},
   "outputs": [
    {
     "name": "stdout",
     "output_type": "stream",
     "text": [
      "<class 'pandas.core.frame.DataFrame'>\n",
      "Int64Index: 3620927 entries, 0 to 3620926\n",
      "Columns: 260 entries, id to monthly_price_rur\n",
      "dtypes: float32(253), int32(4), int64(3)\n",
      "memory usage: 3.6 GB\n",
      "None\n",
      "0    0.926726\n",
      "1    0.073274\n",
      "Name: target, dtype: float64\n"
     ]
    }
   ],
   "source": [
    "print(merged_train_df.info())\n",
    "print(merged_train_df.target.value_counts(normalize=True))"
   ]
  },
  {
   "cell_type": "code",
   "execution_count": 22,
   "metadata": {},
   "outputs": [
    {
     "data": {
      "text/html": [
       "<div>\n",
       "<style scoped>\n",
       "    .dataframe tbody tr th:only-of-type {\n",
       "        vertical-align: middle;\n",
       "    }\n",
       "\n",
       "    .dataframe tbody tr th {\n",
       "        vertical-align: top;\n",
       "    }\n",
       "\n",
       "    .dataframe thead th {\n",
       "        text-align: right;\n",
       "    }\n",
       "</style>\n",
       "<table border=\"1\" class=\"dataframe\">\n",
       "  <thead>\n",
       "    <tr style=\"text-align: right;\">\n",
       "      <th></th>\n",
       "      <th>id</th>\n",
       "      <th>vas_id</th>\n",
       "      <th>buy_time_x</th>\n",
       "      <th>target</th>\n",
       "      <th>Unnamed: 0</th>\n",
       "      <th>buy_time_y</th>\n",
       "      <th>0</th>\n",
       "      <th>1</th>\n",
       "      <th>2</th>\n",
       "      <th>3</th>\n",
       "      <th>...</th>\n",
       "      <th>244</th>\n",
       "      <th>245</th>\n",
       "      <th>246</th>\n",
       "      <th>247</th>\n",
       "      <th>248</th>\n",
       "      <th>249</th>\n",
       "      <th>250</th>\n",
       "      <th>251</th>\n",
       "      <th>252</th>\n",
       "      <th>monthly_price_rur</th>\n",
       "    </tr>\n",
       "  </thead>\n",
       "  <tbody>\n",
       "    <tr>\n",
       "      <th>0</th>\n",
       "      <td>1803703</td>\n",
       "      <td>2</td>\n",
       "      <td>1539550800</td>\n",
       "      <td>0</td>\n",
       "      <td>942928</td>\n",
       "      <td>1535317200</td>\n",
       "      <td>316.320038</td>\n",
       "      <td>157.380890</td>\n",
       "      <td>387.119202</td>\n",
       "      <td>443.733215</td>\n",
       "      <td>...</td>\n",
       "      <td>-613.770813</td>\n",
       "      <td>-6.996269</td>\n",
       "      <td>-35.630447</td>\n",
       "      <td>-33.747723</td>\n",
       "      <td>-5.832889</td>\n",
       "      <td>-0.694429</td>\n",
       "      <td>7.824067</td>\n",
       "      <td>-0.45614</td>\n",
       "      <td>0.0</td>\n",
       "      <td>239</td>\n",
       "    </tr>\n",
       "    <tr>\n",
       "      <th>1</th>\n",
       "      <td>2741595</td>\n",
       "      <td>2</td>\n",
       "      <td>1531688400</td>\n",
       "      <td>0</td>\n",
       "      <td>403971</td>\n",
       "      <td>1538341200</td>\n",
       "      <td>-96.799973</td>\n",
       "      <td>-245.629105</td>\n",
       "      <td>-101.850784</td>\n",
       "      <td>-277.916809</td>\n",
       "      <td>...</td>\n",
       "      <td>-613.770813</td>\n",
       "      <td>-24.996269</td>\n",
       "      <td>-37.630447</td>\n",
       "      <td>-227.747726</td>\n",
       "      <td>-24.832888</td>\n",
       "      <td>-0.694429</td>\n",
       "      <td>-11.175933</td>\n",
       "      <td>-0.45614</td>\n",
       "      <td>0.0</td>\n",
       "      <td>239</td>\n",
       "    </tr>\n",
       "    <tr>\n",
       "      <th>2</th>\n",
       "      <td>1671887</td>\n",
       "      <td>2</td>\n",
       "      <td>1544994000</td>\n",
       "      <td>0</td>\n",
       "      <td>1774920</td>\n",
       "      <td>1538946000</td>\n",
       "      <td>-96.799973</td>\n",
       "      <td>435.040894</td>\n",
       "      <td>-110.740784</td>\n",
       "      <td>468.033203</td>\n",
       "      <td>...</td>\n",
       "      <td>-613.770813</td>\n",
       "      <td>-25.996269</td>\n",
       "      <td>-37.630447</td>\n",
       "      <td>-306.747711</td>\n",
       "      <td>-25.832888</td>\n",
       "      <td>-0.694429</td>\n",
       "      <td>-12.175933</td>\n",
       "      <td>-0.45614</td>\n",
       "      <td>0.0</td>\n",
       "      <td>239</td>\n",
       "    </tr>\n",
       "    <tr>\n",
       "      <th>3</th>\n",
       "      <td>4194020</td>\n",
       "      <td>2</td>\n",
       "      <td>1545598800</td>\n",
       "      <td>0</td>\n",
       "      <td>1230779</td>\n",
       "      <td>1537736400</td>\n",
       "      <td>-46.199970</td>\n",
       "      <td>-143.159119</td>\n",
       "      <td>-60.140785</td>\n",
       "      <td>-195.766800</td>\n",
       "      <td>...</td>\n",
       "      <td>-613.770813</td>\n",
       "      <td>-25.996269</td>\n",
       "      <td>-37.630447</td>\n",
       "      <td>-306.747711</td>\n",
       "      <td>-25.832888</td>\n",
       "      <td>-0.694429</td>\n",
       "      <td>-12.175933</td>\n",
       "      <td>-0.45614</td>\n",
       "      <td>0.0</td>\n",
       "      <td>239</td>\n",
       "    </tr>\n",
       "    <tr>\n",
       "      <th>4</th>\n",
       "      <td>1033681</td>\n",
       "      <td>2</td>\n",
       "      <td>1535922000</td>\n",
       "      <td>0</td>\n",
       "      <td>4288955</td>\n",
       "      <td>1535317200</td>\n",
       "      <td>-52.309971</td>\n",
       "      <td>-180.879105</td>\n",
       "      <td>-66.250786</td>\n",
       "      <td>-229.246796</td>\n",
       "      <td>...</td>\n",
       "      <td>-600.770813</td>\n",
       "      <td>-25.996269</td>\n",
       "      <td>-34.630447</td>\n",
       "      <td>-251.747726</td>\n",
       "      <td>-25.832888</td>\n",
       "      <td>-0.694429</td>\n",
       "      <td>-12.175933</td>\n",
       "      <td>-0.45614</td>\n",
       "      <td>1.0</td>\n",
       "      <td>239</td>\n",
       "    </tr>\n",
       "  </tbody>\n",
       "</table>\n",
       "<p>5 rows × 260 columns</p>\n",
       "</div>"
      ],
      "text/plain": [
       "        id  vas_id  buy_time_x  target  Unnamed: 0  buy_time_y           0  \\\n",
       "0  1803703       2  1539550800       0      942928  1535317200  316.320038   \n",
       "1  2741595       2  1531688400       0      403971  1538341200  -96.799973   \n",
       "2  1671887       2  1544994000       0     1774920  1538946000  -96.799973   \n",
       "3  4194020       2  1545598800       0     1230779  1537736400  -46.199970   \n",
       "4  1033681       2  1535922000       0     4288955  1535317200  -52.309971   \n",
       "\n",
       "            1           2           3  ...         244        245        246  \\\n",
       "0  157.380890  387.119202  443.733215  ... -613.770813  -6.996269 -35.630447   \n",
       "1 -245.629105 -101.850784 -277.916809  ... -613.770813 -24.996269 -37.630447   \n",
       "2  435.040894 -110.740784  468.033203  ... -613.770813 -25.996269 -37.630447   \n",
       "3 -143.159119  -60.140785 -195.766800  ... -613.770813 -25.996269 -37.630447   \n",
       "4 -180.879105  -66.250786 -229.246796  ... -600.770813 -25.996269 -34.630447   \n",
       "\n",
       "          247        248       249        250      251  252  monthly_price_rur  \n",
       "0  -33.747723  -5.832889 -0.694429   7.824067 -0.45614  0.0                239  \n",
       "1 -227.747726 -24.832888 -0.694429 -11.175933 -0.45614  0.0                239  \n",
       "2 -306.747711 -25.832888 -0.694429 -12.175933 -0.45614  0.0                239  \n",
       "3 -306.747711 -25.832888 -0.694429 -12.175933 -0.45614  0.0                239  \n",
       "4 -251.747726 -25.832888 -0.694429 -12.175933 -0.45614  1.0                239  \n",
       "\n",
       "[5 rows x 260 columns]"
      ]
     },
     "execution_count": 22,
     "metadata": {},
     "output_type": "execute_result"
    }
   ],
   "source": [
    "merged_train_df.head()"
   ]
  },
  {
   "cell_type": "code",
   "execution_count": 23,
   "metadata": {},
   "outputs": [],
   "source": [
    "y = merged_train_df.target.values"
   ]
  },
  {
   "cell_type": "markdown",
   "metadata": {},
   "source": [
    "Сделаем one-hot кодирование для индексов услуг. Удалим лишние столбцы"
   ]
  },
  {
   "cell_type": "code",
   "execution_count": 24,
   "metadata": {},
   "outputs": [
    {
     "data": {
      "text/html": [
       "<div>\n",
       "<style scoped>\n",
       "    .dataframe tbody tr th:only-of-type {\n",
       "        vertical-align: middle;\n",
       "    }\n",
       "\n",
       "    .dataframe tbody tr th {\n",
       "        vertical-align: top;\n",
       "    }\n",
       "\n",
       "    .dataframe thead th {\n",
       "        text-align: right;\n",
       "    }\n",
       "</style>\n",
       "<table border=\"1\" class=\"dataframe\">\n",
       "  <thead>\n",
       "    <tr style=\"text-align: right;\">\n",
       "      <th></th>\n",
       "      <th>0</th>\n",
       "      <th>1</th>\n",
       "      <th>2</th>\n",
       "      <th>3</th>\n",
       "      <th>4</th>\n",
       "      <th>5</th>\n",
       "      <th>6</th>\n",
       "      <th>7</th>\n",
       "      <th>8</th>\n",
       "      <th>9</th>\n",
       "      <th>...</th>\n",
       "      <th>monthly_price_rur</th>\n",
       "      <th>vas_id_1</th>\n",
       "      <th>vas_id_2</th>\n",
       "      <th>vas_id_3</th>\n",
       "      <th>vas_id_4</th>\n",
       "      <th>vas_id_5</th>\n",
       "      <th>vas_id_6</th>\n",
       "      <th>vas_id_7</th>\n",
       "      <th>vas_id_8</th>\n",
       "      <th>vas_id_9</th>\n",
       "    </tr>\n",
       "  </thead>\n",
       "  <tbody>\n",
       "    <tr>\n",
       "      <th>0</th>\n",
       "      <td>316.320038</td>\n",
       "      <td>157.380890</td>\n",
       "      <td>387.119202</td>\n",
       "      <td>443.733215</td>\n",
       "      <td>381.701752</td>\n",
       "      <td>422.628204</td>\n",
       "      <td>-7.63618</td>\n",
       "      <td>-21.136097</td>\n",
       "      <td>1.66634</td>\n",
       "      <td>12.450932</td>\n",
       "      <td>...</td>\n",
       "      <td>239</td>\n",
       "      <td>0</td>\n",
       "      <td>1</td>\n",
       "      <td>0</td>\n",
       "      <td>0</td>\n",
       "      <td>0</td>\n",
       "      <td>0</td>\n",
       "      <td>0</td>\n",
       "      <td>0</td>\n",
       "      <td>0</td>\n",
       "    </tr>\n",
       "    <tr>\n",
       "      <th>1</th>\n",
       "      <td>-96.799973</td>\n",
       "      <td>-245.629105</td>\n",
       "      <td>-101.850784</td>\n",
       "      <td>-277.916809</td>\n",
       "      <td>-107.268250</td>\n",
       "      <td>-299.021790</td>\n",
       "      <td>-16.08618</td>\n",
       "      <td>-65.076096</td>\n",
       "      <td>-6.78366</td>\n",
       "      <td>-30.006538</td>\n",
       "      <td>...</td>\n",
       "      <td>239</td>\n",
       "      <td>0</td>\n",
       "      <td>1</td>\n",
       "      <td>0</td>\n",
       "      <td>0</td>\n",
       "      <td>0</td>\n",
       "      <td>0</td>\n",
       "      <td>0</td>\n",
       "      <td>0</td>\n",
       "      <td>0</td>\n",
       "    </tr>\n",
       "    <tr>\n",
       "      <th>2</th>\n",
       "      <td>-96.799973</td>\n",
       "      <td>435.040894</td>\n",
       "      <td>-110.740784</td>\n",
       "      <td>468.033203</td>\n",
       "      <td>-116.158249</td>\n",
       "      <td>446.928223</td>\n",
       "      <td>-16.08618</td>\n",
       "      <td>-65.076096</td>\n",
       "      <td>-6.78366</td>\n",
       "      <td>-30.006538</td>\n",
       "      <td>...</td>\n",
       "      <td>239</td>\n",
       "      <td>0</td>\n",
       "      <td>1</td>\n",
       "      <td>0</td>\n",
       "      <td>0</td>\n",
       "      <td>0</td>\n",
       "      <td>0</td>\n",
       "      <td>0</td>\n",
       "      <td>0</td>\n",
       "      <td>0</td>\n",
       "    </tr>\n",
       "    <tr>\n",
       "      <th>3</th>\n",
       "      <td>-46.199970</td>\n",
       "      <td>-143.159119</td>\n",
       "      <td>-60.140785</td>\n",
       "      <td>-195.766800</td>\n",
       "      <td>-65.558243</td>\n",
       "      <td>-216.871796</td>\n",
       "      <td>-16.08618</td>\n",
       "      <td>-55.756096</td>\n",
       "      <td>-6.78366</td>\n",
       "      <td>-30.006538</td>\n",
       "      <td>...</td>\n",
       "      <td>239</td>\n",
       "      <td>0</td>\n",
       "      <td>1</td>\n",
       "      <td>0</td>\n",
       "      <td>0</td>\n",
       "      <td>0</td>\n",
       "      <td>0</td>\n",
       "      <td>0</td>\n",
       "      <td>0</td>\n",
       "      <td>0</td>\n",
       "    </tr>\n",
       "    <tr>\n",
       "      <th>4</th>\n",
       "      <td>-52.309971</td>\n",
       "      <td>-180.879105</td>\n",
       "      <td>-66.250786</td>\n",
       "      <td>-229.246796</td>\n",
       "      <td>-71.668243</td>\n",
       "      <td>-250.351791</td>\n",
       "      <td>-16.08618</td>\n",
       "      <td>-31.176098</td>\n",
       "      <td>-6.78366</td>\n",
       "      <td>-30.006538</td>\n",
       "      <td>...</td>\n",
       "      <td>239</td>\n",
       "      <td>0</td>\n",
       "      <td>1</td>\n",
       "      <td>0</td>\n",
       "      <td>0</td>\n",
       "      <td>0</td>\n",
       "      <td>0</td>\n",
       "      <td>0</td>\n",
       "      <td>0</td>\n",
       "      <td>0</td>\n",
       "    </tr>\n",
       "  </tbody>\n",
       "</table>\n",
       "<p>5 rows × 263 columns</p>\n",
       "</div>"
      ],
      "text/plain": [
       "            0           1           2           3           4           5  \\\n",
       "0  316.320038  157.380890  387.119202  443.733215  381.701752  422.628204   \n",
       "1  -96.799973 -245.629105 -101.850784 -277.916809 -107.268250 -299.021790   \n",
       "2  -96.799973  435.040894 -110.740784  468.033203 -116.158249  446.928223   \n",
       "3  -46.199970 -143.159119  -60.140785 -195.766800  -65.558243 -216.871796   \n",
       "4  -52.309971 -180.879105  -66.250786 -229.246796  -71.668243 -250.351791   \n",
       "\n",
       "          6          7        8          9  ...  monthly_price_rur  vas_id_1  \\\n",
       "0  -7.63618 -21.136097  1.66634  12.450932  ...                239         0   \n",
       "1 -16.08618 -65.076096 -6.78366 -30.006538  ...                239         0   \n",
       "2 -16.08618 -65.076096 -6.78366 -30.006538  ...                239         0   \n",
       "3 -16.08618 -55.756096 -6.78366 -30.006538  ...                239         0   \n",
       "4 -16.08618 -31.176098 -6.78366 -30.006538  ...                239         0   \n",
       "\n",
       "   vas_id_2  vas_id_3  vas_id_4  vas_id_5  vas_id_6  vas_id_7  vas_id_8  \\\n",
       "0         1         0         0         0         0         0         0   \n",
       "1         1         0         0         0         0         0         0   \n",
       "2         1         0         0         0         0         0         0   \n",
       "3         1         0         0         0         0         0         0   \n",
       "4         1         0         0         0         0         0         0   \n",
       "\n",
       "   vas_id_9  \n",
       "0         0  \n",
       "1         0  \n",
       "2         0  \n",
       "3         0  \n",
       "4         0  \n",
       "\n",
       "[5 rows x 263 columns]"
      ]
     },
     "execution_count": 24,
     "metadata": {},
     "output_type": "execute_result"
    }
   ],
   "source": [
    "merged_train_df = pd.get_dummies(merged_train_df, columns=['vas_id'])\n",
    "merged_train_df.drop(['buy_time_x', 'target', 'Unnamed: 0', 'buy_time_y', 'id'], axis=1, inplace=True)\n",
    "merged_train_df.head()"
   ]
  },
  {
   "cell_type": "markdown",
   "metadata": {},
   "source": [
    "### Формирование тренировочного датасета"
   ]
  },
  {
   "cell_type": "markdown",
   "metadata": {},
   "source": [
    "Нормализуем данные"
   ]
  },
  {
   "cell_type": "code",
   "execution_count": 25,
   "metadata": {},
   "outputs": [
    {
     "name": "stderr",
     "output_type": "stream",
     "text": [
      "C:\\ProgramData\\Anaconda3\\envs\\tf_env\\lib\\site-packages\\sklearn\\preprocessing\\data.py:645: DataConversionWarning: Data with input dtype uint8, float32, int64 were all converted to float64 by StandardScaler.\n",
      "  return self.partial_fit(X, y)\n",
      "C:\\ProgramData\\Anaconda3\\envs\\tf_env\\lib\\site-packages\\sklearn\\base.py:464: DataConversionWarning: Data with input dtype uint8, float32, int64 were all converted to float64 by StandardScaler.\n",
      "  return self.fit(X, **fit_params).transform(X)\n"
     ]
    }
   ],
   "source": [
    "scaler = StandardScaler()\n",
    "scal_train_data = scaler.fit_transform(merged_train_df)"
   ]
  },
  {
   "cell_type": "markdown",
   "metadata": {},
   "source": [
    "Разделим данные на тренировочные и проверочные"
   ]
  },
  {
   "cell_type": "code",
   "execution_count": 26,
   "metadata": {},
   "outputs": [],
   "source": [
    "x_train, x_validation, y_train, y_validation = train_test_split(scal_train_data, y, \n",
    "                                                                test_size=.5, random_state=7, shuffle=True)\n",
    "#x_train = scal_train_data\n",
    "#y_train = y"
   ]
  },
  {
   "cell_type": "code",
   "execution_count": 27,
   "metadata": {},
   "outputs": [
    {
     "name": "stdout",
     "output_type": "stream",
     "text": [
      "0    0.926536\n",
      "1    0.073464\n",
      "dtype: float64\n",
      "0    1677459\n",
      "1     133004\n",
      "dtype: int64\n"
     ]
    }
   ],
   "source": [
    "print(pd.Series(y_train).value_counts(normalize=True))\n",
    "print(pd.Series(y_train).value_counts())"
   ]
  },
  {
   "cell_type": "markdown",
   "metadata": {},
   "source": [
    "Видим, что данные крайне несбалансированы, поэтому изменим их соотношение на 1 к 3"
   ]
  },
  {
   "cell_type": "code",
   "execution_count": 28,
   "metadata": {},
   "outputs": [],
   "source": [
    "pos = np.argwhere(y_train == 1)\n",
    "pos = pos.reshape(pos.shape[0])\n",
    "\n",
    "neg = np.argwhere(y_train == 0)\n",
    "neg = neg.reshape(neg.shape[0])\n",
    "np.random.shuffle(neg)\n",
    "neg = neg[:pos.shape[0]*3]\n",
    "\n",
    "tr_ind = np.concatenate([pos,neg])\n",
    "np.random.shuffle(tr_ind)"
   ]
  },
  {
   "cell_type": "code",
   "execution_count": 29,
   "metadata": {},
   "outputs": [
    {
     "data": {
      "text/plain": [
       "(532016,)"
      ]
     },
     "execution_count": 29,
     "metadata": {},
     "output_type": "execute_result"
    }
   ],
   "source": [
    "tr_ind.shape"
   ]
  },
  {
   "cell_type": "markdown",
   "metadata": {},
   "source": [
    "## Тренировка модели"
   ]
  },
  {
   "cell_type": "code",
   "execution_count": 76,
   "metadata": {},
   "outputs": [
    {
     "data": {
      "text/plain": [
       "DecisionTreeClassifier(class_weight=None, criterion='gini', max_depth=3,\n",
       "            max_features=None, max_leaf_nodes=None,\n",
       "            min_impurity_decrease=0.0, min_impurity_split=None,\n",
       "            min_samples_leaf=1, min_samples_split=2,\n",
       "            min_weight_fraction_leaf=0.0, presort=False, random_state=None,\n",
       "            splitter='best')"
      ]
     },
     "execution_count": 76,
     "metadata": {},
     "output_type": "execute_result"
    }
   ],
   "source": [
    "#modelLR = LogisticRegression()\n",
    "modelLR = DecisionTreeClassifier(max_depth=3)\n",
    "#modelLR = SGDClassifier(loss='modified_huber')\n",
    "#modelLR = RandomForestClassifier(n_estimators=10)\n",
    "#modelLR = LGBMClassifier()\n",
    "modelLR.fit(x_train[tr_ind], y_train[tr_ind])"
   ]
  },
  {
   "cell_type": "code",
   "execution_count": 77,
   "metadata": {},
   "outputs": [],
   "source": [
    "predicted = modelLR.predict(x_validation)\n",
    "expected = y_validation"
   ]
  },
  {
   "cell_type": "code",
   "execution_count": 78,
   "metadata": {},
   "outputs": [
    {
     "name": "stdout",
     "output_type": "stream",
     "text": [
      "0.8647136866571221\n",
      "0.6919023332301438 \n",
      "\n",
      "              precision    recall  f1-score   support\n",
      "\n",
      "           0       0.98      0.87      0.92   1678150\n",
      "           1       0.33      0.79      0.46    132314\n",
      "\n",
      "   micro avg       0.86      0.86      0.86   1810464\n",
      "   macro avg       0.65      0.83      0.69   1810464\n",
      "weighted avg       0.93      0.86      0.89   1810464\n",
      "\n"
     ]
    }
   ],
   "source": [
    "print(accuracy_score(expected, predicted))\n",
    "print(f1_score(expected, predicted, average='macro'), '\\n')\n",
    "print(classification_report(expected, predicted))"
   ]
  },
  {
   "cell_type": "code",
   "execution_count": 79,
   "metadata": {},
   "outputs": [
    {
     "name": "stdout",
     "output_type": "stream",
     "text": [
      "0    0.822014\n",
      "1    0.177986\n",
      "dtype: float64\n",
      "0    1488227\n",
      "1     322237\n",
      "dtype: int64\n"
     ]
    }
   ],
   "source": [
    "print(pd.Series(predicted).value_counts(normalize=True))\n",
    "print(pd.Series(predicted).value_counts())"
   ]
  },
  {
   "cell_type": "code",
   "execution_count": 80,
   "metadata": {},
   "outputs": [
    {
     "name": "stdout",
     "output_type": "stream",
     "text": [
      "0    0.926917\n",
      "1    0.073083\n",
      "dtype: float64\n",
      "0    1678150\n",
      "1     132314\n",
      "dtype: int64\n"
     ]
    }
   ],
   "source": [
    "print(pd.Series(expected).value_counts(normalize=True))\n",
    "print(pd.Series(expected).value_counts())"
   ]
  },
  {
   "cell_type": "markdown",
   "metadata": {},
   "source": [
    "Визуализируем дерево"
   ]
  },
  {
   "cell_type": "code",
   "execution_count": 84,
   "metadata": {
    "scrolled": true
   },
   "outputs": [
    {
     "data": {
      "image/png": "[encoded data removed]",
      "text/plain": [
       "<IPython.core.display.Image object>"
      ]
     },
     "execution_count": 84,
     "metadata": {},
     "output_type": "execute_result"
    }
   ],
   "source": [
    "from sklearn.externals.six import StringIO  \n",
    "from IPython.display import Image  \n",
    "from sklearn.tree import export_graphviz\n",
    "import pydotplus\n",
    "\n",
    "dot_data = StringIO()\n",
    "export_graphviz(modelLR, feature_names=merged_train_df.columns, \n",
    "                out_file=dot_data, filled=True)\n",
    "graph = pydotplus.graph_from_dot_data(dot_data.getvalue())\n",
    "Image(graph.create_png())"
   ]
  },
  {
   "cell_type": "code",
   "execution_count": 79,
   "metadata": {},
   "outputs": [
    {
     "data": {
      "text/plain": [
       "Index(['191', '193', 'monthly_price_rur', 'vas_id_4', 'vas_id_5', 'vas_id_9'], dtype='object')"
      ]
     },
     "execution_count": 79,
     "metadata": {},
     "output_type": "execute_result"
    }
   ],
   "source": [
    "merged_train_df.columns[modelLR.feature_importances_ >0]"
   ]
  },
  {
   "cell_type": "markdown",
   "metadata": {},
   "source": [
    "Попробуем нейросети"
   ]
  },
  {
   "cell_type": "code",
   "execution_count": 30,
   "metadata": {},
   "outputs": [
    {
     "name": "stdout",
     "output_type": "stream",
     "text": [
      "WARNING:tensorflow:From C:\\ProgramData\\Anaconda3\\envs\\tf_env\\lib\\site-packages\\tensorflow\\python\\framework\\op_def_library.py:263: colocate_with (from tensorflow.python.framework.ops) is deprecated and will be removed in a future version.\n",
      "Instructions for updating:\n",
      "Colocations handled automatically by placer.\n",
      "WARNING:tensorflow:From C:\\ProgramData\\Anaconda3\\envs\\tf_env\\lib\\site-packages\\tensorflow\\python\\ops\\math_ops.py:3066: to_int32 (from tensorflow.python.ops.math_ops) is deprecated and will be removed in a future version.\n",
      "Instructions for updating:\n",
      "Use tf.cast instead.\n",
      "Train on 532016 samples, validate on 1810464 samples\n",
      "Epoch 1/10\n",
      "532016/532016 [==============================] - 57s 106us/step - loss: 0.3746 - acc: 0.8465 - val_loss: 0.2506 - val_acc: 0.8664\n",
      "Epoch 2/10\n",
      "532016/532016 [==============================] - 50s 94us/step - loss: 0.3664 - acc: 0.8501 - val_loss: 0.2672 - val_acc: 0.8629\n",
      "Epoch 3/10\n",
      "532016/532016 [==============================] - 51s 95us/step - loss: 0.3656 - acc: 0.8503 - val_loss: 0.2539 - val_acc: 0.8649\n",
      "Epoch 4/10\n",
      "532016/532016 [==============================] - 50s 94us/step - loss: 0.3652 - acc: 0.8504 - val_loss: 0.2495 - val_acc: 0.8654\n",
      "Epoch 5/10\n",
      "532016/532016 [==============================] - 50s 95us/step - loss: 0.3650 - acc: 0.8504 - val_loss: 0.2555 - val_acc: 0.8644\n",
      "Epoch 6/10\n",
      "532016/532016 [==============================] - 50s 95us/step - loss: 0.3649 - acc: 0.8505 - val_loss: 0.2562 - val_acc: 0.8652\n",
      "Epoch 7/10\n",
      "532016/532016 [==============================] - 50s 94us/step - loss: 0.3647 - acc: 0.8504 - val_loss: 0.2567 - val_acc: 0.8641\n",
      "Epoch 8/10\n",
      "532016/532016 [==============================] - 50s 94us/step - loss: 0.3645 - acc: 0.8505 - val_loss: 0.2488 - val_acc: 0.8658\n",
      "Epoch 9/10\n",
      "532016/532016 [==============================] - 50s 94us/step - loss: 0.3644 - acc: 0.8505 - val_loss: 0.2557 - val_acc: 0.8650\n",
      "Epoch 10/10\n",
      "532016/532016 [==============================] - 53s 100us/step - loss: 0.3645 - acc: 0.8506 - val_loss: 0.2407 - val_acc: 0.8652\n"
     ]
    },
    {
     "data": {
      "text/plain": [
       "<keras.callbacks.History at 0x20b80027940>"
      ]
     },
     "execution_count": 30,
     "metadata": {},
     "output_type": "execute_result"
    }
   ],
   "source": [
    "seed = 7\n",
    "np.random.seed(seed)\n",
    "n_features = x_train.shape[1]\n",
    "\n",
    "model = Sequential()\n",
    "model.add(Dense(16, activation='relu', input_dim=n_features))\n",
    "model.add(Dense(1, activation='sigmoid'))\n",
    "model.compile(optimizer='adam',\n",
    "              loss='binary_crossentropy',\n",
    "              metrics=['accuracy'])\n",
    "\n",
    "model.fit(x_train[tr_ind], y_train[tr_ind], \n",
    "          validation_data=(x_validation, y_validation),\n",
    "          batch_size=32,\n",
    "          epochs=10)"
   ]
  },
  {
   "cell_type": "code",
   "execution_count": 31,
   "metadata": {},
   "outputs": [],
   "source": [
    "predicted = model.predict_classes(x_validation)\n",
    "expected = y_validation"
   ]
  },
  {
   "cell_type": "code",
   "execution_count": 32,
   "metadata": {},
   "outputs": [
    {
     "name": "stdout",
     "output_type": "stream",
     "text": [
      "0.8652019592767379\n",
      "0.6916244339745671\n",
      "              precision    recall  f1-score   support\n",
      "\n",
      "           0       0.98      0.87      0.92   1678150\n",
      "           1       0.33      0.79      0.46    132314\n",
      "\n",
      "   micro avg       0.87      0.87      0.87   1810464\n",
      "   macro avg       0.65      0.83      0.69   1810464\n",
      "weighted avg       0.93      0.87      0.89   1810464\n",
      "\n"
     ]
    }
   ],
   "source": [
    "print(accuracy_score(expected, predicted))\n",
    "print(f1_score(expected, predicted, average='macro'))\n",
    "print(classification_report(expected, predicted))"
   ]
  },
  {
   "cell_type": "code",
   "execution_count": 34,
   "metadata": {},
   "outputs": [
    {
     "name": "stdout",
     "output_type": "stream",
     "text": [
      "Сохранение сети завершено\n"
     ]
    }
   ],
   "source": [
    "model_json = model.to_json()\n",
    "json_file = open(\"model.json\", \"w\")\n",
    "json_file.write(model_json)\n",
    "json_file.close()\n",
    "\n",
    "model.save_weights(\"model.h5\")\n",
    "print(\"Сохранение сети завершено\")"
   ]
  },
  {
   "cell_type": "code",
   "execution_count": null,
   "metadata": {},
   "outputs": [],
   "source": []
  },
  {
   "cell_type": "markdown",
   "metadata": {},
   "source": [
    "## Подготовка файла с ответами"
   ]
  },
  {
   "cell_type": "code",
   "execution_count": 86,
   "metadata": {},
   "outputs": [],
   "source": [
    "del(merged_train_df)\n",
    "del(scal_train_data)"
   ]
  },
  {
   "cell_type": "code",
   "execution_count": 87,
   "metadata": {},
   "outputs": [
    {
     "data": {
      "text/plain": [
       "560"
      ]
     },
     "execution_count": 87,
     "metadata": {},
     "output_type": "execute_result"
    }
   ],
   "source": [
    "gc.collect()"
   ]
  },
  {
   "cell_type": "code",
   "execution_count": 88,
   "metadata": {},
   "outputs": [],
   "source": [
    "merged_test_df = test_df.merge(features_df, on='id')\n",
    "merged_test_df = merged_test_df.merge(price_df, on='vas_id')"
   ]
  },
  {
   "cell_type": "code",
   "execution_count": 89,
   "metadata": {},
   "outputs": [
    {
     "data": {
      "text/html": [
       "<div>\n",
       "<style scoped>\n",
       "    .dataframe tbody tr th:only-of-type {\n",
       "        vertical-align: middle;\n",
       "    }\n",
       "\n",
       "    .dataframe tbody tr th {\n",
       "        vertical-align: top;\n",
       "    }\n",
       "\n",
       "    .dataframe thead th {\n",
       "        text-align: right;\n",
       "    }\n",
       "</style>\n",
       "<table border=\"1\" class=\"dataframe\">\n",
       "  <thead>\n",
       "    <tr style=\"text-align: right;\">\n",
       "      <th></th>\n",
       "      <th>id</th>\n",
       "      <th>vas_id</th>\n",
       "      <th>buy_time_x</th>\n",
       "      <th>Unnamed: 0</th>\n",
       "      <th>buy_time_y</th>\n",
       "      <th>0</th>\n",
       "      <th>1</th>\n",
       "      <th>2</th>\n",
       "      <th>3</th>\n",
       "      <th>4</th>\n",
       "      <th>...</th>\n",
       "      <th>244</th>\n",
       "      <th>245</th>\n",
       "      <th>246</th>\n",
       "      <th>247</th>\n",
       "      <th>248</th>\n",
       "      <th>249</th>\n",
       "      <th>250</th>\n",
       "      <th>251</th>\n",
       "      <th>252</th>\n",
       "      <th>monthly_price_rur</th>\n",
       "    </tr>\n",
       "  </thead>\n",
       "  <tbody>\n",
       "    <tr>\n",
       "      <th>0</th>\n",
       "      <td>540968</td>\n",
       "      <td>8</td>\n",
       "      <td>1537131600</td>\n",
       "      <td>3756522</td>\n",
       "      <td>1541970000</td>\n",
       "      <td>-31.559971</td>\n",
       "      <td>327.360901</td>\n",
       "      <td>-45.500786</td>\n",
       "      <td>274.753204</td>\n",
       "      <td>-50.918247</td>\n",
       "      <td>...</td>\n",
       "      <td>-613.770813</td>\n",
       "      <td>-20.996269</td>\n",
       "      <td>-37.630447</td>\n",
       "      <td>-28.747725</td>\n",
       "      <td>4.167111</td>\n",
       "      <td>7.305572</td>\n",
       "      <td>-12.175933</td>\n",
       "      <td>21.543859</td>\n",
       "      <td>0.0</td>\n",
       "      <td>499</td>\n",
       "    </tr>\n",
       "    <tr>\n",
       "      <th>1</th>\n",
       "      <td>3173665</td>\n",
       "      <td>8</td>\n",
       "      <td>1532898000</td>\n",
       "      <td>1513933</td>\n",
       "      <td>1537736400</td>\n",
       "      <td>-67.149971</td>\n",
       "      <td>-372.599121</td>\n",
       "      <td>-81.090782</td>\n",
       "      <td>-425.206787</td>\n",
       "      <td>-86.508247</td>\n",
       "      <td>...</td>\n",
       "      <td>-613.770813</td>\n",
       "      <td>-25.996269</td>\n",
       "      <td>-37.630447</td>\n",
       "      <td>-306.747711</td>\n",
       "      <td>-25.832888</td>\n",
       "      <td>-0.694429</td>\n",
       "      <td>-12.175933</td>\n",
       "      <td>-0.456140</td>\n",
       "      <td>0.0</td>\n",
       "      <td>499</td>\n",
       "    </tr>\n",
       "    <tr>\n",
       "      <th>2</th>\n",
       "      <td>3022623</td>\n",
       "      <td>8</td>\n",
       "      <td>1538946000</td>\n",
       "      <td>74045</td>\n",
       "      <td>1539550800</td>\n",
       "      <td>-20.919971</td>\n",
       "      <td>-127.549110</td>\n",
       "      <td>-34.860786</td>\n",
       "      <td>-180.156799</td>\n",
       "      <td>-40.278248</td>\n",
       "      <td>...</td>\n",
       "      <td>-613.770813</td>\n",
       "      <td>-23.996269</td>\n",
       "      <td>-34.630447</td>\n",
       "      <td>-138.747726</td>\n",
       "      <td>-10.832889</td>\n",
       "      <td>-0.694429</td>\n",
       "      <td>1.824067</td>\n",
       "      <td>-0.456140</td>\n",
       "      <td>1.0</td>\n",
       "      <td>499</td>\n",
       "    </tr>\n",
       "    <tr>\n",
       "      <th>3</th>\n",
       "      <td>2958020</td>\n",
       "      <td>8</td>\n",
       "      <td>1536526800</td>\n",
       "      <td>902436</td>\n",
       "      <td>1539550800</td>\n",
       "      <td>-94.259972</td>\n",
       "      <td>-193.779114</td>\n",
       "      <td>-103.960785</td>\n",
       "      <td>-233.666794</td>\n",
       "      <td>-109.378242</td>\n",
       "      <td>...</td>\n",
       "      <td>-564.770813</td>\n",
       "      <td>-17.996269</td>\n",
       "      <td>7.369552</td>\n",
       "      <td>129.252274</td>\n",
       "      <td>25.167112</td>\n",
       "      <td>-0.694429</td>\n",
       "      <td>37.824066</td>\n",
       "      <td>-0.456140</td>\n",
       "      <td>1.0</td>\n",
       "      <td>499</td>\n",
       "    </tr>\n",
       "    <tr>\n",
       "      <th>4</th>\n",
       "      <td>2371954</td>\n",
       "      <td>8</td>\n",
       "      <td>1533502800</td>\n",
       "      <td>289328</td>\n",
       "      <td>1547413200</td>\n",
       "      <td>-96.799973</td>\n",
       "      <td>91.820885</td>\n",
       "      <td>-110.740784</td>\n",
       "      <td>39.213203</td>\n",
       "      <td>-116.158249</td>\n",
       "      <td>...</td>\n",
       "      <td>934.229187</td>\n",
       "      <td>-22.996269</td>\n",
       "      <td>43.369553</td>\n",
       "      <td>1202.252319</td>\n",
       "      <td>-3.832889</td>\n",
       "      <td>-0.694429</td>\n",
       "      <td>-12.175933</td>\n",
       "      <td>-0.456140</td>\n",
       "      <td>0.0</td>\n",
       "      <td>499</td>\n",
       "    </tr>\n",
       "  </tbody>\n",
       "</table>\n",
       "<p>5 rows × 259 columns</p>\n",
       "</div>"
      ],
      "text/plain": [
       "        id  vas_id  buy_time_x  Unnamed: 0  buy_time_y          0           1  \\\n",
       "0   540968       8  1537131600     3756522  1541970000 -31.559971  327.360901   \n",
       "1  3173665       8  1532898000     1513933  1537736400 -67.149971 -372.599121   \n",
       "2  3022623       8  1538946000       74045  1539550800 -20.919971 -127.549110   \n",
       "3  2958020       8  1536526800      902436  1539550800 -94.259972 -193.779114   \n",
       "4  2371954       8  1533502800      289328  1547413200 -96.799973   91.820885   \n",
       "\n",
       "            2           3           4  ...         244        245        246  \\\n",
       "0  -45.500786  274.753204  -50.918247  ... -613.770813 -20.996269 -37.630447   \n",
       "1  -81.090782 -425.206787  -86.508247  ... -613.770813 -25.996269 -37.630447   \n",
       "2  -34.860786 -180.156799  -40.278248  ... -613.770813 -23.996269 -34.630447   \n",
       "3 -103.960785 -233.666794 -109.378242  ... -564.770813 -17.996269   7.369552   \n",
       "4 -110.740784   39.213203 -116.158249  ...  934.229187 -22.996269  43.369553   \n",
       "\n",
       "           247        248       249        250        251  252  \\\n",
       "0   -28.747725   4.167111  7.305572 -12.175933  21.543859  0.0   \n",
       "1  -306.747711 -25.832888 -0.694429 -12.175933  -0.456140  0.0   \n",
       "2  -138.747726 -10.832889 -0.694429   1.824067  -0.456140  1.0   \n",
       "3   129.252274  25.167112 -0.694429  37.824066  -0.456140  1.0   \n",
       "4  1202.252319  -3.832889 -0.694429 -12.175933  -0.456140  0.0   \n",
       "\n",
       "   monthly_price_rur  \n",
       "0                499  \n",
       "1                499  \n",
       "2                499  \n",
       "3                499  \n",
       "4                499  \n",
       "\n",
       "[5 rows x 259 columns]"
      ]
     },
     "execution_count": 89,
     "metadata": {},
     "output_type": "execute_result"
    }
   ],
   "source": [
    "merged_test_df.head()"
   ]
  },
  {
   "cell_type": "code",
   "execution_count": 90,
   "metadata": {},
   "outputs": [],
   "source": [
    "saver = merged_test_df[['id', 'vas_id', 'buy_time_x']]"
   ]
  },
  {
   "cell_type": "code",
   "execution_count": 91,
   "metadata": {},
   "outputs": [
    {
     "data": {
      "text/html": [
       "<div>\n",
       "<style scoped>\n",
       "    .dataframe tbody tr th:only-of-type {\n",
       "        vertical-align: middle;\n",
       "    }\n",
       "\n",
       "    .dataframe tbody tr th {\n",
       "        vertical-align: top;\n",
       "    }\n",
       "\n",
       "    .dataframe thead th {\n",
       "        text-align: right;\n",
       "    }\n",
       "</style>\n",
       "<table border=\"1\" class=\"dataframe\">\n",
       "  <thead>\n",
       "    <tr style=\"text-align: right;\">\n",
       "      <th></th>\n",
       "      <th>0</th>\n",
       "      <th>1</th>\n",
       "      <th>2</th>\n",
       "      <th>3</th>\n",
       "      <th>4</th>\n",
       "      <th>5</th>\n",
       "      <th>6</th>\n",
       "      <th>7</th>\n",
       "      <th>8</th>\n",
       "      <th>9</th>\n",
       "      <th>...</th>\n",
       "      <th>monthly_price_rur</th>\n",
       "      <th>vas_id_1</th>\n",
       "      <th>vas_id_2</th>\n",
       "      <th>vas_id_3</th>\n",
       "      <th>vas_id_4</th>\n",
       "      <th>vas_id_5</th>\n",
       "      <th>vas_id_6</th>\n",
       "      <th>vas_id_7</th>\n",
       "      <th>vas_id_8</th>\n",
       "      <th>vas_id_9</th>\n",
       "    </tr>\n",
       "  </thead>\n",
       "  <tbody>\n",
       "    <tr>\n",
       "      <th>0</th>\n",
       "      <td>-31.559971</td>\n",
       "      <td>327.360901</td>\n",
       "      <td>-45.500786</td>\n",
       "      <td>274.753204</td>\n",
       "      <td>-50.918247</td>\n",
       "      <td>253.648209</td>\n",
       "      <td>49.15382</td>\n",
       "      <td>195.883896</td>\n",
       "      <td>-1.835267</td>\n",
       "      <td>-12.831245</td>\n",
       "      <td>...</td>\n",
       "      <td>499</td>\n",
       "      <td>0</td>\n",
       "      <td>0</td>\n",
       "      <td>0</td>\n",
       "      <td>0</td>\n",
       "      <td>0</td>\n",
       "      <td>0</td>\n",
       "      <td>0</td>\n",
       "      <td>1</td>\n",
       "      <td>0</td>\n",
       "    </tr>\n",
       "    <tr>\n",
       "      <th>1</th>\n",
       "      <td>-67.149971</td>\n",
       "      <td>-372.599121</td>\n",
       "      <td>-81.090782</td>\n",
       "      <td>-425.206787</td>\n",
       "      <td>-86.508247</td>\n",
       "      <td>-446.311798</td>\n",
       "      <td>-16.08618</td>\n",
       "      <td>-65.076096</td>\n",
       "      <td>-6.783660</td>\n",
       "      <td>-30.006538</td>\n",
       "      <td>...</td>\n",
       "      <td>499</td>\n",
       "      <td>0</td>\n",
       "      <td>0</td>\n",
       "      <td>0</td>\n",
       "      <td>0</td>\n",
       "      <td>0</td>\n",
       "      <td>0</td>\n",
       "      <td>0</td>\n",
       "      <td>1</td>\n",
       "      <td>0</td>\n",
       "    </tr>\n",
       "    <tr>\n",
       "      <th>2</th>\n",
       "      <td>-20.919971</td>\n",
       "      <td>-127.549110</td>\n",
       "      <td>-34.860786</td>\n",
       "      <td>-180.156799</td>\n",
       "      <td>-40.278248</td>\n",
       "      <td>-201.261795</td>\n",
       "      <td>-16.08618</td>\n",
       "      <td>-65.076096</td>\n",
       "      <td>-6.783660</td>\n",
       "      <td>-30.006538</td>\n",
       "      <td>...</td>\n",
       "      <td>499</td>\n",
       "      <td>0</td>\n",
       "      <td>0</td>\n",
       "      <td>0</td>\n",
       "      <td>0</td>\n",
       "      <td>0</td>\n",
       "      <td>0</td>\n",
       "      <td>0</td>\n",
       "      <td>1</td>\n",
       "      <td>0</td>\n",
       "    </tr>\n",
       "    <tr>\n",
       "      <th>3</th>\n",
       "      <td>-94.259972</td>\n",
       "      <td>-193.779114</td>\n",
       "      <td>-103.960785</td>\n",
       "      <td>-233.666794</td>\n",
       "      <td>-109.378242</td>\n",
       "      <td>-254.771790</td>\n",
       "      <td>-16.08618</td>\n",
       "      <td>-65.076096</td>\n",
       "      <td>-6.783660</td>\n",
       "      <td>-30.006538</td>\n",
       "      <td>...</td>\n",
       "      <td>499</td>\n",
       "      <td>0</td>\n",
       "      <td>0</td>\n",
       "      <td>0</td>\n",
       "      <td>0</td>\n",
       "      <td>0</td>\n",
       "      <td>0</td>\n",
       "      <td>0</td>\n",
       "      <td>1</td>\n",
       "      <td>0</td>\n",
       "    </tr>\n",
       "    <tr>\n",
       "      <th>4</th>\n",
       "      <td>-96.799973</td>\n",
       "      <td>91.820885</td>\n",
       "      <td>-110.740784</td>\n",
       "      <td>39.213203</td>\n",
       "      <td>-116.158249</td>\n",
       "      <td>18.108210</td>\n",
       "      <td>-16.08618</td>\n",
       "      <td>434.923889</td>\n",
       "      <td>-6.783660</td>\n",
       "      <td>469.993469</td>\n",
       "      <td>...</td>\n",
       "      <td>499</td>\n",
       "      <td>0</td>\n",
       "      <td>0</td>\n",
       "      <td>0</td>\n",
       "      <td>0</td>\n",
       "      <td>0</td>\n",
       "      <td>0</td>\n",
       "      <td>0</td>\n",
       "      <td>1</td>\n",
       "      <td>0</td>\n",
       "    </tr>\n",
       "  </tbody>\n",
       "</table>\n",
       "<p>5 rows × 263 columns</p>\n",
       "</div>"
      ],
      "text/plain": [
       "           0           1           2           3           4           5  \\\n",
       "0 -31.559971  327.360901  -45.500786  274.753204  -50.918247  253.648209   \n",
       "1 -67.149971 -372.599121  -81.090782 -425.206787  -86.508247 -446.311798   \n",
       "2 -20.919971 -127.549110  -34.860786 -180.156799  -40.278248 -201.261795   \n",
       "3 -94.259972 -193.779114 -103.960785 -233.666794 -109.378242 -254.771790   \n",
       "4 -96.799973   91.820885 -110.740784   39.213203 -116.158249   18.108210   \n",
       "\n",
       "          6           7         8           9  ...  monthly_price_rur  \\\n",
       "0  49.15382  195.883896 -1.835267  -12.831245  ...                499   \n",
       "1 -16.08618  -65.076096 -6.783660  -30.006538  ...                499   \n",
       "2 -16.08618  -65.076096 -6.783660  -30.006538  ...                499   \n",
       "3 -16.08618  -65.076096 -6.783660  -30.006538  ...                499   \n",
       "4 -16.08618  434.923889 -6.783660  469.993469  ...                499   \n",
       "\n",
       "   vas_id_1  vas_id_2  vas_id_3  vas_id_4  vas_id_5  vas_id_6  vas_id_7  \\\n",
       "0         0         0         0         0         0         0         0   \n",
       "1         0         0         0         0         0         0         0   \n",
       "2         0         0         0         0         0         0         0   \n",
       "3         0         0         0         0         0         0         0   \n",
       "4         0         0         0         0         0         0         0   \n",
       "\n",
       "   vas_id_8  vas_id_9  \n",
       "0         1         0  \n",
       "1         1         0  \n",
       "2         1         0  \n",
       "3         1         0  \n",
       "4         1         0  \n",
       "\n",
       "[5 rows x 263 columns]"
      ]
     },
     "execution_count": 91,
     "metadata": {},
     "output_type": "execute_result"
    }
   ],
   "source": [
    "merged_test_df = pd.get_dummies(merged_test_df, columns=['vas_id'])\n",
    "merged_test_df.drop(['buy_time_x', 'Unnamed: 0', 'buy_time_y', 'id'], axis=1, inplace=True)\n",
    "merged_test_df.insert(256, \"vas_id_3\", 0)\n",
    "merged_test_df.head()"
   ]
  },
  {
   "cell_type": "code",
   "execution_count": 92,
   "metadata": {},
   "outputs": [
    {
     "name": "stderr",
     "output_type": "stream",
     "text": [
      "C:\\ProgramData\\Anaconda3\\envs\\tf_env\\lib\\site-packages\\ipykernel_launcher.py:1: DataConversionWarning: Data with input dtype uint8, float32, int64 were all converted to float64 by StandardScaler.\n",
      "  \"\"\"Entry point for launching an IPython kernel.\n"
     ]
    }
   ],
   "source": [
    "scal_test_data = scaler.transform(merged_test_df)"
   ]
  },
  {
   "cell_type": "code",
   "execution_count": 93,
   "metadata": {},
   "outputs": [
    {
     "data": {
      "text/plain": [
       "'print(pd.Series(predicted_classes).value_counts(normalize=True))\\nprint(pd.Series(predicted_classes).value_counts())'"
      ]
     },
     "execution_count": 93,
     "metadata": {},
     "output_type": "execute_result"
    }
   ],
   "source": [
    "predicted_classes = model.predict_classes(scal_test_data)\n",
    "\n",
    "'''print(pd.Series(predicted_classes).value_counts(normalize=True))\n",
    "print(pd.Series(predicted_classes).value_counts())'''"
   ]
  },
  {
   "cell_type": "code",
   "execution_count": 94,
   "metadata": {},
   "outputs": [
    {
     "data": {
      "text/html": [
       "<div>\n",
       "<style scoped>\n",
       "    .dataframe tbody tr th:only-of-type {\n",
       "        vertical-align: middle;\n",
       "    }\n",
       "\n",
       "    .dataframe tbody tr th {\n",
       "        vertical-align: top;\n",
       "    }\n",
       "\n",
       "    .dataframe thead th {\n",
       "        text-align: right;\n",
       "    }\n",
       "</style>\n",
       "<table border=\"1\" class=\"dataframe\">\n",
       "  <thead>\n",
       "    <tr style=\"text-align: right;\">\n",
       "      <th></th>\n",
       "      <th>id</th>\n",
       "      <th>vas_id</th>\n",
       "      <th>buy_time</th>\n",
       "      <th>target</th>\n",
       "    </tr>\n",
       "  </thead>\n",
       "  <tbody>\n",
       "    <tr>\n",
       "      <th>0</th>\n",
       "      <td>540968</td>\n",
       "      <td>8</td>\n",
       "      <td>1537131600</td>\n",
       "      <td>0</td>\n",
       "    </tr>\n",
       "    <tr>\n",
       "      <th>1</th>\n",
       "      <td>3173665</td>\n",
       "      <td>8</td>\n",
       "      <td>1532898000</td>\n",
       "      <td>0</td>\n",
       "    </tr>\n",
       "    <tr>\n",
       "      <th>2</th>\n",
       "      <td>3022623</td>\n",
       "      <td>8</td>\n",
       "      <td>1538946000</td>\n",
       "      <td>0</td>\n",
       "    </tr>\n",
       "    <tr>\n",
       "      <th>3</th>\n",
       "      <td>2958020</td>\n",
       "      <td>8</td>\n",
       "      <td>1536526800</td>\n",
       "      <td>0</td>\n",
       "    </tr>\n",
       "    <tr>\n",
       "      <th>4</th>\n",
       "      <td>2371954</td>\n",
       "      <td>8</td>\n",
       "      <td>1533502800</td>\n",
       "      <td>0</td>\n",
       "    </tr>\n",
       "  </tbody>\n",
       "</table>\n",
       "</div>"
      ],
      "text/plain": [
       "        id  vas_id    buy_time  target\n",
       "0   540968       8  1537131600       0\n",
       "1  3173665       8  1532898000       0\n",
       "2  3022623       8  1538946000       0\n",
       "3  2958020       8  1536526800       0\n",
       "4  2371954       8  1533502800       0"
      ]
     },
     "execution_count": 94,
     "metadata": {},
     "output_type": "execute_result"
    }
   ],
   "source": [
    "saver['target'] = predicted_classes\n",
    "saver.rename(columns={'buy_time_x':'buy_time'}, inplace=True)\n",
    "saver.head()"
   ]
  },
  {
   "cell_type": "markdown",
   "metadata": {},
   "source": [
    "Добавим к датафрейму с тестовыми данными наши пресказания"
   ]
  },
  {
   "cell_type": "code",
   "execution_count": 95,
   "metadata": {},
   "outputs": [
    {
     "data": {
      "text/html": [
       "<div>\n",
       "<style scoped>\n",
       "    .dataframe tbody tr th:only-of-type {\n",
       "        vertical-align: middle;\n",
       "    }\n",
       "\n",
       "    .dataframe tbody tr th {\n",
       "        vertical-align: top;\n",
       "    }\n",
       "\n",
       "    .dataframe thead th {\n",
       "        text-align: right;\n",
       "    }\n",
       "</style>\n",
       "<table border=\"1\" class=\"dataframe\">\n",
       "  <thead>\n",
       "    <tr style=\"text-align: right;\">\n",
       "      <th></th>\n",
       "      <th>id</th>\n",
       "      <th>vas_id</th>\n",
       "      <th>buy_time</th>\n",
       "      <th>target</th>\n",
       "    </tr>\n",
       "  </thead>\n",
       "  <tbody>\n",
       "    <tr>\n",
       "      <th>0</th>\n",
       "      <td>540968</td>\n",
       "      <td>8</td>\n",
       "      <td>1537131600</td>\n",
       "      <td>0</td>\n",
       "    </tr>\n",
       "    <tr>\n",
       "      <th>1</th>\n",
       "      <td>1454121</td>\n",
       "      <td>4</td>\n",
       "      <td>1531688400</td>\n",
       "      <td>1</td>\n",
       "    </tr>\n",
       "    <tr>\n",
       "      <th>2</th>\n",
       "      <td>2458816</td>\n",
       "      <td>1</td>\n",
       "      <td>1534107600</td>\n",
       "      <td>0</td>\n",
       "    </tr>\n",
       "    <tr>\n",
       "      <th>3</th>\n",
       "      <td>3535012</td>\n",
       "      <td>5</td>\n",
       "      <td>1535922000</td>\n",
       "      <td>0</td>\n",
       "    </tr>\n",
       "    <tr>\n",
       "      <th>4</th>\n",
       "      <td>1693214</td>\n",
       "      <td>1</td>\n",
       "      <td>1535922000</td>\n",
       "      <td>0</td>\n",
       "    </tr>\n",
       "    <tr>\n",
       "      <th>5</th>\n",
       "      <td>3173665</td>\n",
       "      <td>8</td>\n",
       "      <td>1532898000</td>\n",
       "      <td>0</td>\n",
       "    </tr>\n",
       "    <tr>\n",
       "      <th>6</th>\n",
       "      <td>2611143</td>\n",
       "      <td>2</td>\n",
       "      <td>1544994000</td>\n",
       "      <td>0</td>\n",
       "    </tr>\n",
       "    <tr>\n",
       "      <th>7</th>\n",
       "      <td>3577737</td>\n",
       "      <td>5</td>\n",
       "      <td>1545598800</td>\n",
       "      <td>0</td>\n",
       "    </tr>\n",
       "    <tr>\n",
       "      <th>8</th>\n",
       "      <td>2000856</td>\n",
       "      <td>1</td>\n",
       "      <td>1534712400</td>\n",
       "      <td>0</td>\n",
       "    </tr>\n",
       "    <tr>\n",
       "      <th>9</th>\n",
       "      <td>1232876</td>\n",
       "      <td>2</td>\n",
       "      <td>1544994000</td>\n",
       "      <td>0</td>\n",
       "    </tr>\n",
       "  </tbody>\n",
       "</table>\n",
       "</div>"
      ],
      "text/plain": [
       "        id  vas_id    buy_time  target\n",
       "0   540968       8  1537131600       0\n",
       "1  1454121       4  1531688400       1\n",
       "2  2458816       1  1534107600       0\n",
       "3  3535012       5  1535922000       0\n",
       "4  1693214       1  1535922000       0\n",
       "5  3173665       8  1532898000       0\n",
       "6  2611143       2  1544994000       0\n",
       "7  3577737       5  1545598800       0\n",
       "8  2000856       1  1534712400       0\n",
       "9  1232876       2  1544994000       0"
      ]
     },
     "execution_count": 95,
     "metadata": {},
     "output_type": "execute_result"
    }
   ],
   "source": [
    "prediction = test_df.merge(saver, on=['id', 'vas_id','buy_time'])\n",
    "prediction.head(10)"
   ]
  },
  {
   "cell_type": "code",
   "execution_count": 96,
   "metadata": {},
   "outputs": [
    {
     "data": {
      "text/html": [
       "<div>\n",
       "<style scoped>\n",
       "    .dataframe tbody tr th:only-of-type {\n",
       "        vertical-align: middle;\n",
       "    }\n",
       "\n",
       "    .dataframe tbody tr th {\n",
       "        vertical-align: top;\n",
       "    }\n",
       "\n",
       "    .dataframe thead th {\n",
       "        text-align: right;\n",
       "    }\n",
       "</style>\n",
       "<table border=\"1\" class=\"dataframe\">\n",
       "  <thead>\n",
       "    <tr style=\"text-align: right;\">\n",
       "      <th></th>\n",
       "      <th>id</th>\n",
       "      <th>vas_id</th>\n",
       "      <th>buy_time</th>\n",
       "    </tr>\n",
       "  </thead>\n",
       "  <tbody>\n",
       "    <tr>\n",
       "      <th>0</th>\n",
       "      <td>540968</td>\n",
       "      <td>8</td>\n",
       "      <td>1537131600</td>\n",
       "    </tr>\n",
       "    <tr>\n",
       "      <th>1</th>\n",
       "      <td>1454121</td>\n",
       "      <td>4</td>\n",
       "      <td>1531688400</td>\n",
       "    </tr>\n",
       "    <tr>\n",
       "      <th>2</th>\n",
       "      <td>2458816</td>\n",
       "      <td>1</td>\n",
       "      <td>1534107600</td>\n",
       "    </tr>\n",
       "    <tr>\n",
       "      <th>3</th>\n",
       "      <td>3535012</td>\n",
       "      <td>5</td>\n",
       "      <td>1535922000</td>\n",
       "    </tr>\n",
       "    <tr>\n",
       "      <th>4</th>\n",
       "      <td>1693214</td>\n",
       "      <td>1</td>\n",
       "      <td>1535922000</td>\n",
       "    </tr>\n",
       "    <tr>\n",
       "      <th>5</th>\n",
       "      <td>3173665</td>\n",
       "      <td>8</td>\n",
       "      <td>1532898000</td>\n",
       "    </tr>\n",
       "    <tr>\n",
       "      <th>6</th>\n",
       "      <td>2611143</td>\n",
       "      <td>2</td>\n",
       "      <td>1544994000</td>\n",
       "    </tr>\n",
       "    <tr>\n",
       "      <th>7</th>\n",
       "      <td>3577737</td>\n",
       "      <td>5</td>\n",
       "      <td>1545598800</td>\n",
       "    </tr>\n",
       "    <tr>\n",
       "      <th>8</th>\n",
       "      <td>2000856</td>\n",
       "      <td>1</td>\n",
       "      <td>1534712400</td>\n",
       "    </tr>\n",
       "    <tr>\n",
       "      <th>9</th>\n",
       "      <td>1232876</td>\n",
       "      <td>2</td>\n",
       "      <td>1544994000</td>\n",
       "    </tr>\n",
       "  </tbody>\n",
       "</table>\n",
       "</div>"
      ],
      "text/plain": [
       "        id  vas_id    buy_time\n",
       "0   540968       8  1537131600\n",
       "1  1454121       4  1531688400\n",
       "2  2458816       1  1534107600\n",
       "3  3535012       5  1535922000\n",
       "4  1693214       1  1535922000\n",
       "5  3173665       8  1532898000\n",
       "6  2611143       2  1544994000\n",
       "7  3577737       5  1545598800\n",
       "8  2000856       1  1534712400\n",
       "9  1232876       2  1544994000"
      ]
     },
     "execution_count": 96,
     "metadata": {},
     "output_type": "execute_result"
    }
   ],
   "source": [
    "test_df.head(10)"
   ]
  },
  {
   "cell_type": "markdown",
   "metadata": {},
   "source": [
    "Посмотрим на размеры датафреймов, чтобы не было ошибок"
   ]
  },
  {
   "cell_type": "code",
   "execution_count": 97,
   "metadata": {},
   "outputs": [
    {
     "name": "stdout",
     "output_type": "stream",
     "text": [
      "(902884, 3) (902884, 4) (902884, 263) (902884, 4)\n"
     ]
    }
   ],
   "source": [
    "print(test_df.shape, prediction.shape, merged_test_df.shape, saver.shape)"
   ]
  },
  {
   "cell_type": "markdown",
   "metadata": {},
   "source": [
    "Проверим порядок строк в датафрейме с результатами относительно данных из test.csv"
   ]
  },
  {
   "cell_type": "code",
   "execution_count": 98,
   "metadata": {},
   "outputs": [
    {
     "name": "stdout",
     "output_type": "stream",
     "text": [
      "5280643065600\n",
      "0\n"
     ]
    }
   ],
   "source": [
    "print(np.sum(np.abs(test_df.buy_time.values - saver.buy_time.values)))\n",
    "print(np.sum(np.abs(test_df.buy_time.values - prediction.buy_time.values)))"
   ]
  },
  {
   "cell_type": "markdown",
   "metadata": {},
   "source": [
    "Сохраним файл с предсказаниями"
   ]
  },
  {
   "cell_type": "code",
   "execution_count": 99,
   "metadata": {},
   "outputs": [],
   "source": [
    "prediction.to_csv('prediction_beta_nn.csv', index = False, sep = '\\t')"
   ]
  },
  {
   "cell_type": "code",
   "execution_count": 101,
   "metadata": {},
   "outputs": [
    {
     "data": {
      "text/plain": [
       "4    87277\n",
       "6    70744\n",
       "9      439\n",
       "2       25\n",
       "1       16\n",
       "5        6\n",
       "7        2\n",
       "8        1\n",
       "Name: vas_id, dtype: int64"
      ]
     },
     "execution_count": 101,
     "metadata": {},
     "output_type": "execute_result"
    }
   ],
   "source": [
    "prediction[prediction.target == 1].vas_id.value_counts()"
   ]
  },
  {
   "cell_type": "code",
   "execution_count": null,
   "metadata": {},
   "outputs": [],
   "source": []
  },
  {
   "cell_type": "markdown",
   "metadata": {},
   "source": [
    "### Персонализированные предложения"
   ]
  },
  {
   "cell_type": "code",
   "execution_count": 102,
   "metadata": {},
   "outputs": [
    {
     "data": {
      "text/html": [
       "<div>\n",
       "<style scoped>\n",
       "    .dataframe tbody tr th:only-of-type {\n",
       "        vertical-align: middle;\n",
       "    }\n",
       "\n",
       "    .dataframe tbody tr th {\n",
       "        vertical-align: top;\n",
       "    }\n",
       "\n",
       "    .dataframe thead th {\n",
       "        text-align: right;\n",
       "    }\n",
       "</style>\n",
       "<table border=\"1\" class=\"dataframe\">\n",
       "  <thead>\n",
       "    <tr style=\"text-align: right;\">\n",
       "      <th></th>\n",
       "      <th>id</th>\n",
       "    </tr>\n",
       "  </thead>\n",
       "  <tbody>\n",
       "    <tr>\n",
       "      <th>0</th>\n",
       "      <td>1834535</td>\n",
       "    </tr>\n",
       "    <tr>\n",
       "      <th>1</th>\n",
       "      <td>2076220</td>\n",
       "    </tr>\n",
       "    <tr>\n",
       "      <th>2</th>\n",
       "      <td>2026698</td>\n",
       "    </tr>\n",
       "    <tr>\n",
       "      <th>3</th>\n",
       "      <td>1092893</td>\n",
       "    </tr>\n",
       "    <tr>\n",
       "      <th>4</th>\n",
       "      <td>656446</td>\n",
       "    </tr>\n",
       "  </tbody>\n",
       "</table>\n",
       "</div>"
      ],
      "text/plain": [
       "        id\n",
       "0  1834535\n",
       "1  2076220\n",
       "2  2026698\n",
       "3  1092893\n",
       "4   656446"
      ]
     },
     "execution_count": 102,
     "metadata": {},
     "output_type": "execute_result"
    }
   ],
   "source": [
    "target_df = pd.read_csv('target_users.csv',  sep='\\t')\n",
    "target_df.head()"
   ]
  },
  {
   "cell_type": "code",
   "execution_count": 103,
   "metadata": {},
   "outputs": [
    {
     "data": {
      "text/html": [
       "<div>\n",
       "<style scoped>\n",
       "    .dataframe tbody tr th:only-of-type {\n",
       "        vertical-align: middle;\n",
       "    }\n",
       "\n",
       "    .dataframe tbody tr th {\n",
       "        vertical-align: top;\n",
       "    }\n",
       "\n",
       "    .dataframe thead th {\n",
       "        text-align: right;\n",
       "    }\n",
       "</style>\n",
       "<table border=\"1\" class=\"dataframe\">\n",
       "  <thead>\n",
       "    <tr style=\"text-align: right;\">\n",
       "      <th></th>\n",
       "      <th>id</th>\n",
       "      <th>vas_id</th>\n",
       "    </tr>\n",
       "  </thead>\n",
       "  <tbody>\n",
       "    <tr>\n",
       "      <th>9</th>\n",
       "      <td>656446</td>\n",
       "      <td>1</td>\n",
       "    </tr>\n",
       "    <tr>\n",
       "      <th>19</th>\n",
       "      <td>656446</td>\n",
       "      <td>2</td>\n",
       "    </tr>\n",
       "    <tr>\n",
       "      <th>29</th>\n",
       "      <td>656446</td>\n",
       "      <td>3</td>\n",
       "    </tr>\n",
       "    <tr>\n",
       "      <th>39</th>\n",
       "      <td>656446</td>\n",
       "      <td>4</td>\n",
       "    </tr>\n",
       "    <tr>\n",
       "      <th>4</th>\n",
       "      <td>656446</td>\n",
       "      <td>5</td>\n",
       "    </tr>\n",
       "    <tr>\n",
       "      <th>14</th>\n",
       "      <td>656446</td>\n",
       "      <td>6</td>\n",
       "    </tr>\n",
       "    <tr>\n",
       "      <th>24</th>\n",
       "      <td>656446</td>\n",
       "      <td>7</td>\n",
       "    </tr>\n",
       "    <tr>\n",
       "      <th>34</th>\n",
       "      <td>656446</td>\n",
       "      <td>8</td>\n",
       "    </tr>\n",
       "    <tr>\n",
       "      <th>44</th>\n",
       "      <td>656446</td>\n",
       "      <td>9</td>\n",
       "    </tr>\n",
       "    <tr>\n",
       "      <th>18</th>\n",
       "      <td>1092893</td>\n",
       "      <td>1</td>\n",
       "    </tr>\n",
       "  </tbody>\n",
       "</table>\n",
       "</div>"
      ],
      "text/plain": [
       "         id  vas_id\n",
       "9    656446       1\n",
       "19   656446       2\n",
       "29   656446       3\n",
       "39   656446       4\n",
       "4    656446       5\n",
       "14   656446       6\n",
       "24   656446       7\n",
       "34   656446       8\n",
       "44   656446       9\n",
       "18  1092893       1"
      ]
     },
     "execution_count": 103,
     "metadata": {},
     "output_type": "execute_result"
    }
   ],
   "source": [
    "target_df = pd.concat([target_df]*9, ignore_index=True)\n",
    "target_df['vas_id'] = list(range(1, 10)) * int(target_df.shape[0]/9)\n",
    "target_df.sort_values(['id', 'vas_id'], inplace=True)\n",
    "target_df.head(10)"
   ]
  },
  {
   "cell_type": "code",
   "execution_count": 104,
   "metadata": {},
   "outputs": [],
   "source": [
    "merged_target = target_df.merge(features_df, on='id')\n",
    "merged_target = merged_target.merge(price_df, on='vas_id')"
   ]
  },
  {
   "cell_type": "code",
   "execution_count": 105,
   "metadata": {},
   "outputs": [
    {
     "data": {
      "text/html": [
       "<div>\n",
       "<style scoped>\n",
       "    .dataframe tbody tr th:only-of-type {\n",
       "        vertical-align: middle;\n",
       "    }\n",
       "\n",
       "    .dataframe tbody tr th {\n",
       "        vertical-align: top;\n",
       "    }\n",
       "\n",
       "    .dataframe thead th {\n",
       "        text-align: right;\n",
       "    }\n",
       "</style>\n",
       "<table border=\"1\" class=\"dataframe\">\n",
       "  <thead>\n",
       "    <tr style=\"text-align: right;\">\n",
       "      <th></th>\n",
       "      <th>id</th>\n",
       "      <th>vas_id</th>\n",
       "      <th>Unnamed: 0</th>\n",
       "      <th>buy_time</th>\n",
       "      <th>0</th>\n",
       "      <th>1</th>\n",
       "      <th>2</th>\n",
       "      <th>3</th>\n",
       "      <th>4</th>\n",
       "      <th>5</th>\n",
       "      <th>...</th>\n",
       "      <th>244</th>\n",
       "      <th>245</th>\n",
       "      <th>246</th>\n",
       "      <th>247</th>\n",
       "      <th>248</th>\n",
       "      <th>249</th>\n",
       "      <th>250</th>\n",
       "      <th>251</th>\n",
       "      <th>252</th>\n",
       "      <th>monthly_price_rur</th>\n",
       "    </tr>\n",
       "  </thead>\n",
       "  <tbody>\n",
       "    <tr>\n",
       "      <th>0</th>\n",
       "      <td>656446</td>\n",
       "      <td>1</td>\n",
       "      <td>1346722</td>\n",
       "      <td>1534712400</td>\n",
       "      <td>-72.719971</td>\n",
       "      <td>545.820862</td>\n",
       "      <td>-82.420784</td>\n",
       "      <td>552.533203</td>\n",
       "      <td>-87.838249</td>\n",
       "      <td>556.838196</td>\n",
       "      <td>...</td>\n",
       "      <td>-566.770813</td>\n",
       "      <td>-25.996269</td>\n",
       "      <td>-3.630448</td>\n",
       "      <td>-260.747711</td>\n",
       "      <td>-25.832888</td>\n",
       "      <td>-0.694429</td>\n",
       "      <td>-12.175933</td>\n",
       "      <td>-0.45614</td>\n",
       "      <td>0.0</td>\n",
       "      <td>199</td>\n",
       "    </tr>\n",
       "    <tr>\n",
       "      <th>1</th>\n",
       "      <td>1092893</td>\n",
       "      <td>1</td>\n",
       "      <td>3412663</td>\n",
       "      <td>1531688400</td>\n",
       "      <td>-62.899971</td>\n",
       "      <td>-371.739105</td>\n",
       "      <td>-72.600784</td>\n",
       "      <td>-420.106812</td>\n",
       "      <td>-78.018250</td>\n",
       "      <td>-441.211792</td>\n",
       "      <td>...</td>\n",
       "      <td>-613.770813</td>\n",
       "      <td>-25.996269</td>\n",
       "      <td>-37.630447</td>\n",
       "      <td>-306.747711</td>\n",
       "      <td>-25.832888</td>\n",
       "      <td>-0.694429</td>\n",
       "      <td>-12.175933</td>\n",
       "      <td>-0.45614</td>\n",
       "      <td>1.0</td>\n",
       "      <td>199</td>\n",
       "    </tr>\n",
       "    <tr>\n",
       "      <th>2</th>\n",
       "      <td>1834535</td>\n",
       "      <td>1</td>\n",
       "      <td>3040805</td>\n",
       "      <td>1538341200</td>\n",
       "      <td>369.300018</td>\n",
       "      <td>290.970886</td>\n",
       "      <td>355.359222</td>\n",
       "      <td>386.663208</td>\n",
       "      <td>349.941742</td>\n",
       "      <td>365.558197</td>\n",
       "      <td>...</td>\n",
       "      <td>3036.229248</td>\n",
       "      <td>-25.996269</td>\n",
       "      <td>-36.630447</td>\n",
       "      <td>-158.747726</td>\n",
       "      <td>-25.832888</td>\n",
       "      <td>-0.694429</td>\n",
       "      <td>-12.175933</td>\n",
       "      <td>-0.45614</td>\n",
       "      <td>0.0</td>\n",
       "      <td>199</td>\n",
       "    </tr>\n",
       "    <tr>\n",
       "      <th>3</th>\n",
       "      <td>2026698</td>\n",
       "      <td>1</td>\n",
       "      <td>3108893</td>\n",
       "      <td>1537131600</td>\n",
       "      <td>-96.799973</td>\n",
       "      <td>185.040894</td>\n",
       "      <td>-110.740784</td>\n",
       "      <td>184.983200</td>\n",
       "      <td>-116.158249</td>\n",
       "      <td>163.878204</td>\n",
       "      <td>...</td>\n",
       "      <td>3905.229248</td>\n",
       "      <td>-25.996269</td>\n",
       "      <td>-37.630447</td>\n",
       "      <td>275.252289</td>\n",
       "      <td>-18.832888</td>\n",
       "      <td>-0.694429</td>\n",
       "      <td>-5.175933</td>\n",
       "      <td>-0.45614</td>\n",
       "      <td>0.0</td>\n",
       "      <td>199</td>\n",
       "    </tr>\n",
       "    <tr>\n",
       "      <th>4</th>\n",
       "      <td>2076220</td>\n",
       "      <td>1</td>\n",
       "      <td>3007617</td>\n",
       "      <td>1544994000</td>\n",
       "      <td>645.070007</td>\n",
       "      <td>370.810883</td>\n",
       "      <td>636.209229</td>\n",
       "      <td>323.283203</td>\n",
       "      <td>630.791748</td>\n",
       "      <td>302.178223</td>\n",
       "      <td>...</td>\n",
       "      <td>-613.770813</td>\n",
       "      <td>-25.996269</td>\n",
       "      <td>-37.630447</td>\n",
       "      <td>-271.747711</td>\n",
       "      <td>-25.832888</td>\n",
       "      <td>-0.694429</td>\n",
       "      <td>-12.175933</td>\n",
       "      <td>-0.45614</td>\n",
       "      <td>1.0</td>\n",
       "      <td>199</td>\n",
       "    </tr>\n",
       "  </tbody>\n",
       "</table>\n",
       "<p>5 rows × 258 columns</p>\n",
       "</div>"
      ],
      "text/plain": [
       "        id  vas_id  Unnamed: 0    buy_time           0           1  \\\n",
       "0   656446       1     1346722  1534712400  -72.719971  545.820862   \n",
       "1  1092893       1     3412663  1531688400  -62.899971 -371.739105   \n",
       "2  1834535       1     3040805  1538341200  369.300018  290.970886   \n",
       "3  2026698       1     3108893  1537131600  -96.799973  185.040894   \n",
       "4  2076220       1     3007617  1544994000  645.070007  370.810883   \n",
       "\n",
       "            2           3           4           5  ...          244  \\\n",
       "0  -82.420784  552.533203  -87.838249  556.838196  ...  -566.770813   \n",
       "1  -72.600784 -420.106812  -78.018250 -441.211792  ...  -613.770813   \n",
       "2  355.359222  386.663208  349.941742  365.558197  ...  3036.229248   \n",
       "3 -110.740784  184.983200 -116.158249  163.878204  ...  3905.229248   \n",
       "4  636.209229  323.283203  630.791748  302.178223  ...  -613.770813   \n",
       "\n",
       "         245        246         247        248       249        250      251  \\\n",
       "0 -25.996269  -3.630448 -260.747711 -25.832888 -0.694429 -12.175933 -0.45614   \n",
       "1 -25.996269 -37.630447 -306.747711 -25.832888 -0.694429 -12.175933 -0.45614   \n",
       "2 -25.996269 -36.630447 -158.747726 -25.832888 -0.694429 -12.175933 -0.45614   \n",
       "3 -25.996269 -37.630447  275.252289 -18.832888 -0.694429  -5.175933 -0.45614   \n",
       "4 -25.996269 -37.630447 -271.747711 -25.832888 -0.694429 -12.175933 -0.45614   \n",
       "\n",
       "   252  monthly_price_rur  \n",
       "0  0.0                199  \n",
       "1  1.0                199  \n",
       "2  0.0                199  \n",
       "3  0.0                199  \n",
       "4  1.0                199  \n",
       "\n",
       "[5 rows x 258 columns]"
      ]
     },
     "execution_count": 105,
     "metadata": {},
     "output_type": "execute_result"
    }
   ],
   "source": [
    "merged_target.head()"
   ]
  },
  {
   "cell_type": "code",
   "execution_count": 106,
   "metadata": {},
   "outputs": [],
   "source": [
    "saver = merged_target[['id', 'vas_id']]"
   ]
  },
  {
   "cell_type": "code",
   "execution_count": 107,
   "metadata": {},
   "outputs": [
    {
     "data": {
      "text/html": [
       "<div>\n",
       "<style scoped>\n",
       "    .dataframe tbody tr th:only-of-type {\n",
       "        vertical-align: middle;\n",
       "    }\n",
       "\n",
       "    .dataframe tbody tr th {\n",
       "        vertical-align: top;\n",
       "    }\n",
       "\n",
       "    .dataframe thead th {\n",
       "        text-align: right;\n",
       "    }\n",
       "</style>\n",
       "<table border=\"1\" class=\"dataframe\">\n",
       "  <thead>\n",
       "    <tr style=\"text-align: right;\">\n",
       "      <th></th>\n",
       "      <th>0</th>\n",
       "      <th>1</th>\n",
       "      <th>2</th>\n",
       "      <th>3</th>\n",
       "      <th>4</th>\n",
       "      <th>5</th>\n",
       "      <th>6</th>\n",
       "      <th>7</th>\n",
       "      <th>8</th>\n",
       "      <th>9</th>\n",
       "      <th>...</th>\n",
       "      <th>monthly_price_rur</th>\n",
       "      <th>vas_id_1</th>\n",
       "      <th>vas_id_2</th>\n",
       "      <th>vas_id_3</th>\n",
       "      <th>vas_id_4</th>\n",
       "      <th>vas_id_5</th>\n",
       "      <th>vas_id_6</th>\n",
       "      <th>vas_id_7</th>\n",
       "      <th>vas_id_8</th>\n",
       "      <th>vas_id_9</th>\n",
       "    </tr>\n",
       "  </thead>\n",
       "  <tbody>\n",
       "    <tr>\n",
       "      <th>0</th>\n",
       "      <td>-72.719971</td>\n",
       "      <td>545.820862</td>\n",
       "      <td>-82.420784</td>\n",
       "      <td>552.533203</td>\n",
       "      <td>-87.838249</td>\n",
       "      <td>556.838196</td>\n",
       "      <td>0.86382</td>\n",
       "      <td>-46.076096</td>\n",
       "      <td>10.16634</td>\n",
       "      <td>-13.056539</td>\n",
       "      <td>...</td>\n",
       "      <td>199</td>\n",
       "      <td>1</td>\n",
       "      <td>0</td>\n",
       "      <td>0</td>\n",
       "      <td>0</td>\n",
       "      <td>0</td>\n",
       "      <td>0</td>\n",
       "      <td>0</td>\n",
       "      <td>0</td>\n",
       "      <td>0</td>\n",
       "    </tr>\n",
       "    <tr>\n",
       "      <th>1</th>\n",
       "      <td>-62.899971</td>\n",
       "      <td>-371.739105</td>\n",
       "      <td>-72.600784</td>\n",
       "      <td>-420.106812</td>\n",
       "      <td>-78.018250</td>\n",
       "      <td>-441.211792</td>\n",
       "      <td>17.81382</td>\n",
       "      <td>-31.176098</td>\n",
       "      <td>-6.78366</td>\n",
       "      <td>-30.006538</td>\n",
       "      <td>...</td>\n",
       "      <td>199</td>\n",
       "      <td>1</td>\n",
       "      <td>0</td>\n",
       "      <td>0</td>\n",
       "      <td>0</td>\n",
       "      <td>0</td>\n",
       "      <td>0</td>\n",
       "      <td>0</td>\n",
       "      <td>0</td>\n",
       "      <td>0</td>\n",
       "    </tr>\n",
       "    <tr>\n",
       "      <th>2</th>\n",
       "      <td>369.300018</td>\n",
       "      <td>290.970886</td>\n",
       "      <td>355.359222</td>\n",
       "      <td>386.663208</td>\n",
       "      <td>349.941742</td>\n",
       "      <td>365.558197</td>\n",
       "      <td>-16.08618</td>\n",
       "      <td>-65.076096</td>\n",
       "      <td>-6.78366</td>\n",
       "      <td>-30.006538</td>\n",
       "      <td>...</td>\n",
       "      <td>199</td>\n",
       "      <td>1</td>\n",
       "      <td>0</td>\n",
       "      <td>0</td>\n",
       "      <td>0</td>\n",
       "      <td>0</td>\n",
       "      <td>0</td>\n",
       "      <td>0</td>\n",
       "      <td>0</td>\n",
       "      <td>0</td>\n",
       "    </tr>\n",
       "    <tr>\n",
       "      <th>3</th>\n",
       "      <td>-96.799973</td>\n",
       "      <td>185.040894</td>\n",
       "      <td>-110.740784</td>\n",
       "      <td>184.983200</td>\n",
       "      <td>-116.158249</td>\n",
       "      <td>163.878204</td>\n",
       "      <td>-16.08618</td>\n",
       "      <td>-65.076096</td>\n",
       "      <td>-6.78366</td>\n",
       "      <td>-30.006538</td>\n",
       "      <td>...</td>\n",
       "      <td>199</td>\n",
       "      <td>1</td>\n",
       "      <td>0</td>\n",
       "      <td>0</td>\n",
       "      <td>0</td>\n",
       "      <td>0</td>\n",
       "      <td>0</td>\n",
       "      <td>0</td>\n",
       "      <td>0</td>\n",
       "      <td>0</td>\n",
       "    </tr>\n",
       "    <tr>\n",
       "      <th>4</th>\n",
       "      <td>645.070007</td>\n",
       "      <td>370.810883</td>\n",
       "      <td>636.209229</td>\n",
       "      <td>323.283203</td>\n",
       "      <td>630.791748</td>\n",
       "      <td>302.178223</td>\n",
       "      <td>-16.08618</td>\n",
       "      <td>-65.076096</td>\n",
       "      <td>-6.78366</td>\n",
       "      <td>-30.006538</td>\n",
       "      <td>...</td>\n",
       "      <td>199</td>\n",
       "      <td>1</td>\n",
       "      <td>0</td>\n",
       "      <td>0</td>\n",
       "      <td>0</td>\n",
       "      <td>0</td>\n",
       "      <td>0</td>\n",
       "      <td>0</td>\n",
       "      <td>0</td>\n",
       "      <td>0</td>\n",
       "    </tr>\n",
       "  </tbody>\n",
       "</table>\n",
       "<p>5 rows × 263 columns</p>\n",
       "</div>"
      ],
      "text/plain": [
       "            0           1           2           3           4           5  \\\n",
       "0  -72.719971  545.820862  -82.420784  552.533203  -87.838249  556.838196   \n",
       "1  -62.899971 -371.739105  -72.600784 -420.106812  -78.018250 -441.211792   \n",
       "2  369.300018  290.970886  355.359222  386.663208  349.941742  365.558197   \n",
       "3  -96.799973  185.040894 -110.740784  184.983200 -116.158249  163.878204   \n",
       "4  645.070007  370.810883  636.209229  323.283203  630.791748  302.178223   \n",
       "\n",
       "          6          7         8          9  ...  monthly_price_rur  vas_id_1  \\\n",
       "0   0.86382 -46.076096  10.16634 -13.056539  ...                199         1   \n",
       "1  17.81382 -31.176098  -6.78366 -30.006538  ...                199         1   \n",
       "2 -16.08618 -65.076096  -6.78366 -30.006538  ...                199         1   \n",
       "3 -16.08618 -65.076096  -6.78366 -30.006538  ...                199         1   \n",
       "4 -16.08618 -65.076096  -6.78366 -30.006538  ...                199         1   \n",
       "\n",
       "   vas_id_2  vas_id_3  vas_id_4  vas_id_5  vas_id_6  vas_id_7  vas_id_8  \\\n",
       "0         0         0         0         0         0         0         0   \n",
       "1         0         0         0         0         0         0         0   \n",
       "2         0         0         0         0         0         0         0   \n",
       "3         0         0         0         0         0         0         0   \n",
       "4         0         0         0         0         0         0         0   \n",
       "\n",
       "   vas_id_9  \n",
       "0         0  \n",
       "1         0  \n",
       "2         0  \n",
       "3         0  \n",
       "4         0  \n",
       "\n",
       "[5 rows x 263 columns]"
      ]
     },
     "execution_count": 107,
     "metadata": {},
     "output_type": "execute_result"
    }
   ],
   "source": [
    "merged_target = pd.get_dummies(merged_target, columns=['vas_id'])\n",
    "merged_target.drop([ 'Unnamed: 0',  'id', 'buy_time'], axis=1, inplace=True)\n",
    "merged_target.head()"
   ]
  },
  {
   "cell_type": "code",
   "execution_count": 108,
   "metadata": {},
   "outputs": [
    {
     "name": "stderr",
     "output_type": "stream",
     "text": [
      "C:\\ProgramData\\Anaconda3\\envs\\tf_env\\lib\\site-packages\\ipykernel_launcher.py:1: DataConversionWarning: Data with input dtype uint8, float32, int64 were all converted to float64 by StandardScaler.\n",
      "  \"\"\"Entry point for launching an IPython kernel.\n"
     ]
    }
   ],
   "source": [
    "scal_target_data = scaler.transform(merged_target)"
   ]
  },
  {
   "cell_type": "code",
   "execution_count": 109,
   "metadata": {},
   "outputs": [],
   "source": [
    "predicted_classes = modelLR.predict_proba(scal_target_data)"
   ]
  },
  {
   "cell_type": "code",
   "execution_count": 110,
   "metadata": {},
   "outputs": [
    {
     "data": {
      "text/html": [
       "<div>\n",
       "<style scoped>\n",
       "    .dataframe tbody tr th:only-of-type {\n",
       "        vertical-align: middle;\n",
       "    }\n",
       "\n",
       "    .dataframe tbody tr th {\n",
       "        vertical-align: top;\n",
       "    }\n",
       "\n",
       "    .dataframe thead th {\n",
       "        text-align: right;\n",
       "    }\n",
       "</style>\n",
       "<table border=\"1\" class=\"dataframe\">\n",
       "  <thead>\n",
       "    <tr style=\"text-align: right;\">\n",
       "      <th></th>\n",
       "      <th>id</th>\n",
       "      <th>vas_id</th>\n",
       "      <th>target</th>\n",
       "    </tr>\n",
       "  </thead>\n",
       "  <tbody>\n",
       "    <tr>\n",
       "      <th>0</th>\n",
       "      <td>656446</td>\n",
       "      <td>1</td>\n",
       "      <td>0.071103</td>\n",
       "    </tr>\n",
       "    <tr>\n",
       "      <th>1</th>\n",
       "      <td>1092893</td>\n",
       "      <td>1</td>\n",
       "      <td>0.071103</td>\n",
       "    </tr>\n",
       "    <tr>\n",
       "      <th>2</th>\n",
       "      <td>1834535</td>\n",
       "      <td>1</td>\n",
       "      <td>0.071103</td>\n",
       "    </tr>\n",
       "    <tr>\n",
       "      <th>3</th>\n",
       "      <td>2026698</td>\n",
       "      <td>1</td>\n",
       "      <td>0.071103</td>\n",
       "    </tr>\n",
       "    <tr>\n",
       "      <th>4</th>\n",
       "      <td>2076220</td>\n",
       "      <td>1</td>\n",
       "      <td>0.071103</td>\n",
       "    </tr>\n",
       "    <tr>\n",
       "      <th>5</th>\n",
       "      <td>656446</td>\n",
       "      <td>2</td>\n",
       "      <td>0.071103</td>\n",
       "    </tr>\n",
       "    <tr>\n",
       "      <th>6</th>\n",
       "      <td>1092893</td>\n",
       "      <td>2</td>\n",
       "      <td>0.071103</td>\n",
       "    </tr>\n",
       "    <tr>\n",
       "      <th>7</th>\n",
       "      <td>1834535</td>\n",
       "      <td>2</td>\n",
       "      <td>0.071103</td>\n",
       "    </tr>\n",
       "    <tr>\n",
       "      <th>8</th>\n",
       "      <td>2026698</td>\n",
       "      <td>2</td>\n",
       "      <td>0.071103</td>\n",
       "    </tr>\n",
       "    <tr>\n",
       "      <th>9</th>\n",
       "      <td>2076220</td>\n",
       "      <td>2</td>\n",
       "      <td>0.071103</td>\n",
       "    </tr>\n",
       "  </tbody>\n",
       "</table>\n",
       "</div>"
      ],
      "text/plain": [
       "        id  vas_id    target\n",
       "0   656446       1  0.071103\n",
       "1  1092893       1  0.071103\n",
       "2  1834535       1  0.071103\n",
       "3  2026698       1  0.071103\n",
       "4  2076220       1  0.071103\n",
       "5   656446       2  0.071103\n",
       "6  1092893       2  0.071103\n",
       "7  1834535       2  0.071103\n",
       "8  2026698       2  0.071103\n",
       "9  2076220       2  0.071103"
      ]
     },
     "execution_count": 110,
     "metadata": {},
     "output_type": "execute_result"
    }
   ],
   "source": [
    "saver['target'] = predicted_classes[:,1]\n",
    "saver.rename(columns={'buy_time_x':'buy_time'}, inplace=True)\n",
    "saver.head(10)"
   ]
  },
  {
   "cell_type": "code",
   "execution_count": 111,
   "metadata": {},
   "outputs": [],
   "source": [
    "saver.to_csv('personal_prediction_des_tree.csv', index = False, sep = ';')"
   ]
  },
  {
   "cell_type": "code",
   "execution_count": null,
   "metadata": {},
   "outputs": [],
   "source": []
  },
  {
   "cell_type": "code",
   "execution_count": null,
   "metadata": {},
   "outputs": [],
   "source": []
  },
  {
   "cell_type": "code",
   "execution_count": 79,
   "metadata": {},
   "outputs": [
    {
     "data": {
      "text/plain": [
       "Index(['191', '193', 'monthly_price_rur', 'vas_id_4', 'vas_id_5', 'vas_id_9'], dtype='object')"
      ]
     },
     "execution_count": 79,
     "metadata": {},
     "output_type": "execute_result"
    }
   ],
   "source": [
    "merged_test_df.columns[modelLR.feature_importances_ >0]"
   ]
  }
 ],
 "metadata": {
  "accelerator": "GPU",
  "colab": {
   "name": "megafon.ipynb",
   "provenance": [],
   "toc_visible": true,
   "version": "0.3.2"
  },
  "kernelspec": {
   "display_name": "Python 3",
   "language": "python",
   "name": "python3"
  },
  "language_info": {
   "codemirror_mode": {
    "name": "ipython",
    "version": 3
   },
   "file_extension": ".py",
   "mimetype": "text/x-python",
   "name": "python",
   "nbconvert_exporter": "python",
   "pygments_lexer": "ipython3",
   "version": "3.7.2"
  }
 },
 "nbformat": 4,
 "nbformat_minor": 1
}
