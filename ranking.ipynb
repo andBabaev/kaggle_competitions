{
  "nbformat": 4,
  "nbformat_minor": 0,
  "metadata": {
    "colab": {
      "name": "ranking.ipynb",
      "version": "0.3.2",
      "provenance": [],
      "collapsed_sections": [],
      "toc_visible": true
    },
    "kernelspec": {
      "name": "python3",
      "display_name": "Python 3"
    },
    "accelerator": "GPU"
  },
  "cells": [
    {
      "metadata": {
        "id": "NOmhqMdf6SOo",
        "colab_type": "text"
      },
      "cell_type": "markdown",
      "source": [
        "# Ранжирование\n",
        "\n",
        "[Ссылка на соревнование](https://www.kaggle.com/c/changellenge-cupit-2019-posneg)"
      ]
    },
    {
      "metadata": {
        "id": "Fncq2cb6xAME",
        "colab_type": "code",
        "colab": {}
      },
      "cell_type": "code",
      "source": [
        "import pandas as pd  \n",
        "import numpy as np\n",
        "from sklearn.feature_extraction.text import TfidfVectorizer\n",
        "from sklearn.model_selection import StratifiedKFold, cross_val_score, train_test_split\n",
        "from keras.models import Sequential\n",
        "from keras.layers import Dense, Dropout\n",
        "from keras.wrappers.scikit_learn import KerasClassifier\n",
        "\n",
        "import warnings\n",
        "warnings.simplefilter('ignore')"
      ],
      "execution_count": 0,
      "outputs": []
    },
    {
      "metadata": {
        "id": "bk96MVfq6F2L",
        "colab_type": "text"
      },
      "cell_type": "markdown",
      "source": [
        "## Загрузка данных"
      ]
    },
    {
      "metadata": {
        "id": "ho1klW3xB0Zi",
        "colab_type": "code",
        "colab": {}
      },
      "cell_type": "code",
      "source": [
        "!mkdir ~/.kaggle\n",
        "!mv kaggle.json /root/.kaggle\n",
        "!kaggle competitions download -c changellenge-cupit-2019-posneg"
      ],
      "execution_count": 0,
      "outputs": []
    },
    {
      "metadata": {
        "id": "DVZ4zr_h6jba",
        "colab_type": "text"
      },
      "cell_type": "markdown",
      "source": [
        "## Подготовка данных"
      ]
    },
    {
      "metadata": {
        "id": "FUxM-VGgynml",
        "colab_type": "code",
        "outputId": "208fa487-3829-4738-d116-fb9f1dc5a94c",
        "colab": {
          "base_uri": "https://localhost:8080/",
          "height": 195
        }
      },
      "cell_type": "code",
      "source": [
        "train_df = pd.read_csv('train_data.csv.zip', index_col=0)\n",
        "train_df.head()"
      ],
      "execution_count": 0,
      "outputs": [
        {
          "output_type": "execute_result",
          "data": {
            "text/html": [
              "<div>\n",
              "<style scoped>\n",
              "    .dataframe tbody tr th:only-of-type {\n",
              "        vertical-align: middle;\n",
              "    }\n",
              "\n",
              "    .dataframe tbody tr th {\n",
              "        vertical-align: top;\n",
              "    }\n",
              "\n",
              "    .dataframe thead th {\n",
              "        text-align: right;\n",
              "    }\n",
              "</style>\n",
              "<table border=\"1\" class=\"dataframe\">\n",
              "  <thead>\n",
              "    <tr style=\"text-align: right;\">\n",
              "      <th></th>\n",
              "      <th>title</th>\n",
              "      <th>text</th>\n",
              "      <th>score</th>\n",
              "    </tr>\n",
              "  </thead>\n",
              "  <tbody>\n",
              "    <tr>\n",
              "      <th>0</th>\n",
              "      <td>Просьба об отмене штрафа КАСКО</td>\n",
              "      <td>Здравствуйте! 10.06.2016г. мною был заключен д...</td>\n",
              "      <td>Позитивный</td>\n",
              "    </tr>\n",
              "    <tr>\n",
              "      <th>1</th>\n",
              "      <td>В целом хорошо, работали по ипотеке.</td>\n",
              "      <td>Брала  ипотеку в юникоре, порадовали квалифика...</td>\n",
              "      <td>Негативный</td>\n",
              "    </tr>\n",
              "    <tr>\n",
              "      <th>2</th>\n",
              "      <td>Нас всегда выручает банк Уралсиб!</td>\n",
              "      <td>Знакомство с банком началось с ипотеки в 2009 ...</td>\n",
              "      <td>Позитивный</td>\n",
              "    </tr>\n",
              "    <tr>\n",
              "      <th>3</th>\n",
              "      <td>Абсолютно неприемлемая ситуация и ее решение</td>\n",
              "      <td>Клиент Совкомбанка с 2017 года. В феврале 2018...</td>\n",
              "      <td>Позитивный</td>\n",
              "    </tr>\n",
              "    <tr>\n",
              "      <th>4</th>\n",
              "      <td>Внёс не туда</td>\n",
              "      <td>Пришёл оплачивать кредит и ошибочно внёс деньг...</td>\n",
              "      <td>Позитивный</td>\n",
              "    </tr>\n",
              "  </tbody>\n",
              "</table>\n",
              "</div>"
            ],
            "text/plain": [
              "                                          title  \\\n",
              "0                Просьба об отмене штрафа КАСКО   \n",
              "1          В целом хорошо, работали по ипотеке.   \n",
              "2             Нас всегда выручает банк Уралсиб!   \n",
              "3  Абсолютно неприемлемая ситуация и ее решение   \n",
              "4                                  Внёс не туда   \n",
              "\n",
              "                                                text       score  \n",
              "0  Здравствуйте! 10.06.2016г. мною был заключен д...  Позитивный  \n",
              "1  Брала  ипотеку в юникоре, порадовали квалифика...  Негативный  \n",
              "2  Знакомство с банком началось с ипотеки в 2009 ...  Позитивный  \n",
              "3  Клиент Совкомбанка с 2017 года. В феврале 2018...  Позитивный  \n",
              "4  Пришёл оплачивать кредит и ошибочно внёс деньг...  Позитивный  "
            ]
          },
          "metadata": {
            "tags": []
          },
          "execution_count": 18
        }
      ]
    },
    {
      "metadata": {
        "id": "8SM85ZEbye3j",
        "colab_type": "code",
        "outputId": "f386482b-ead4-498f-fb4a-5450bde9e4fe",
        "colab": {
          "base_uri": "https://localhost:8080/",
          "height": 195
        }
      },
      "cell_type": "code",
      "source": [
        "train_df['score'] = train_df['score'].map({'Позитивный': 1, 'Негативный': 0})\n",
        "train_df['data'] = train_df['title'] + ' ' + train_df['text']\n",
        "train_df.drop(['title', 'text'], axis=1, inplace=True)\n",
        "\n",
        "train_df.rename(index=str, columns={\"data\": \"text\"}, inplace=True)\n",
        "train_df.rename(index=str, columns={\"score\": \"target\"}, inplace=True)\n",
        "train_df.head()"
      ],
      "execution_count": 0,
      "outputs": [
        {
          "output_type": "execute_result",
          "data": {
            "text/html": [
              "<div>\n",
              "<style scoped>\n",
              "    .dataframe tbody tr th:only-of-type {\n",
              "        vertical-align: middle;\n",
              "    }\n",
              "\n",
              "    .dataframe tbody tr th {\n",
              "        vertical-align: top;\n",
              "    }\n",
              "\n",
              "    .dataframe thead th {\n",
              "        text-align: right;\n",
              "    }\n",
              "</style>\n",
              "<table border=\"1\" class=\"dataframe\">\n",
              "  <thead>\n",
              "    <tr style=\"text-align: right;\">\n",
              "      <th></th>\n",
              "      <th>target</th>\n",
              "      <th>text</th>\n",
              "    </tr>\n",
              "  </thead>\n",
              "  <tbody>\n",
              "    <tr>\n",
              "      <th>0</th>\n",
              "      <td>1</td>\n",
              "      <td>Просьба об отмене штрафа КАСКО Здравствуйте! 1...</td>\n",
              "    </tr>\n",
              "    <tr>\n",
              "      <th>1</th>\n",
              "      <td>0</td>\n",
              "      <td>В целом хорошо, работали по ипотеке. Брала  ип...</td>\n",
              "    </tr>\n",
              "    <tr>\n",
              "      <th>2</th>\n",
              "      <td>1</td>\n",
              "      <td>Нас всегда выручает банк Уралсиб! Знакомство с...</td>\n",
              "    </tr>\n",
              "    <tr>\n",
              "      <th>3</th>\n",
              "      <td>1</td>\n",
              "      <td>Абсолютно неприемлемая ситуация и ее решение К...</td>\n",
              "    </tr>\n",
              "    <tr>\n",
              "      <th>4</th>\n",
              "      <td>1</td>\n",
              "      <td>Внёс не туда Пришёл оплачивать кредит и ошибоч...</td>\n",
              "    </tr>\n",
              "  </tbody>\n",
              "</table>\n",
              "</div>"
            ],
            "text/plain": [
              "   target                                               text\n",
              "0       1  Просьба об отмене штрафа КАСКО Здравствуйте! 1...\n",
              "1       0  В целом хорошо, работали по ипотеке. Брала  ип...\n",
              "2       1  Нас всегда выручает банк Уралсиб! Знакомство с...\n",
              "3       1  Абсолютно неприемлемая ситуация и ее решение К...\n",
              "4       1  Внёс не туда Пришёл оплачивать кредит и ошибоч..."
            ]
          },
          "metadata": {
            "tags": []
          },
          "execution_count": 19
        }
      ]
    },
    {
      "metadata": {
        "id": "LUbdLLz57ow9",
        "colab_type": "code",
        "outputId": "389af5c3-6690-438d-d508-f16a3d190793",
        "colab": {
          "base_uri": "https://localhost:8080/",
          "height": 134
        }
      },
      "cell_type": "code",
      "source": [
        "train_df.dropna(inplace=True)\n",
        "train_df.reset_index(drop=True,inplace=True)\n",
        "train_df.info()"
      ],
      "execution_count": 0,
      "outputs": [
        {
          "output_type": "stream",
          "text": [
            "<class 'pandas.core.frame.DataFrame'>\n",
            "RangeIndex: 10000 entries, 0 to 9999\n",
            "Data columns (total 2 columns):\n",
            "target    10000 non-null int64\n",
            "text      10000 non-null object\n",
            "dtypes: int64(1), object(1)\n",
            "memory usage: 156.3+ KB\n"
          ],
          "name": "stdout"
        }
      ]
    },
    {
      "metadata": {
        "colab_type": "code",
        "id": "HQPaUTBwCJqP",
        "colab": {}
      },
      "cell_type": "code",
      "source": [
        "x = train_df.text\n",
        "y = train_df.target"
      ],
      "execution_count": 0,
      "outputs": []
    },
    {
      "metadata": {
        "id": "j3X-pmE-xAMW",
        "colab_type": "code",
        "colab": {}
      },
      "cell_type": "code",
      "source": [
        "x_train, x_validation, y_train, y_validation = train_test_split(x, y, test_size=.2, random_state=7)"
      ],
      "execution_count": 0,
      "outputs": []
    },
    {
      "metadata": {
        "id": "NPicAgR0xAMa",
        "colab_type": "code",
        "outputId": "add09fd4-6450-430e-e2a1-5b317fc2ddfb",
        "colab": {
          "base_uri": "https://localhost:8080/",
          "height": 50
        }
      },
      "cell_type": "code",
      "source": [
        "print (\"Train set has total {0} entries with {1:.2f}% negative, {2:.2f}% positive\".format(len(x_train),\n",
        "                                                                             (len(x_train[y_train == 0]) / (len(x_train)*1.))*100,\n",
        "                                                                            (len(x_train[y_train == 1]) / (len(x_train)*1.))*100))\n",
        "print (\"Validation set has total {0} entries with {1:.2f}% negative, {2:.2f}% positive\".format(len(x_validation),\n",
        "                                                                             (len(x_validation[y_validation == 0]) / (len(x_validation)*1.))*100,\n",
        "                                                                            (len(x_validation[y_validation == 1]) / (len(x_validation)*1.))*100))"
      ],
      "execution_count": 0,
      "outputs": [
        {
          "output_type": "stream",
          "text": [
            "Train set has total 8000 entries with 25.40% negative, 74.60% positive\n",
            "Validation set has total 2000 entries with 27.15% negative, 72.85% positive\n"
          ],
          "name": "stdout"
        }
      ]
    },
    {
      "metadata": {
        "id": "0zGBLjRj9MyS",
        "colab_type": "text"
      },
      "cell_type": "markdown",
      "source": [
        "## TFIDF Bag of Words"
      ]
    },
    {
      "metadata": {
        "id": "47wvPTI9-l74",
        "colab_type": "code",
        "colab": {}
      },
      "cell_type": "code",
      "source": [
        "n_features = 150000"
      ],
      "execution_count": 0,
      "outputs": []
    },
    {
      "metadata": {
        "id": "BrtJrzDdxAMm",
        "colab_type": "code",
        "outputId": "448dc41c-b3ab-4819-b9d8-90ff3e28cfc9",
        "colab": {
          "base_uri": "https://localhost:8080/",
          "height": 134
        }
      },
      "cell_type": "code",
      "source": [
        "tf_idf = TfidfVectorizer(max_features=n_features,ngram_range=(1, 2))\n",
        "tf_idf.fit(x_train)"
      ],
      "execution_count": 0,
      "outputs": [
        {
          "output_type": "execute_result",
          "data": {
            "text/plain": [
              "TfidfVectorizer(analyzer='word', binary=False, decode_error='strict',\n",
              "        dtype=<class 'numpy.float64'>, encoding='utf-8', input='content',\n",
              "        lowercase=True, max_df=1.0, max_features=150000, min_df=1,\n",
              "        ngram_range=(1, 2), norm='l2', preprocessor=None, smooth_idf=True,\n",
              "        stop_words=None, strip_accents=None, sublinear_tf=False,\n",
              "        token_pattern='(?u)\\\\b\\\\w\\\\w+\\\\b', tokenizer=None, use_idf=True,\n",
              "        vocabulary=None)"
            ]
          },
          "metadata": {
            "tags": []
          },
          "execution_count": 25
        }
      ]
    },
    {
      "metadata": {
        "id": "ocGyq3JExAMq",
        "colab_type": "code",
        "colab": {}
      },
      "cell_type": "code",
      "source": [
        "x_train_tfidf = tf_idf.transform(x_train)\n",
        "x_validation_tfidf = tf_idf.transform(x_validation)"
      ],
      "execution_count": 0,
      "outputs": []
    },
    {
      "metadata": {
        "id": "eveBFGzR98-D",
        "colab_type": "text"
      },
      "cell_type": "markdown",
      "source": [
        "## Создание нейронной сети"
      ]
    },
    {
      "metadata": {
        "id": "tLJCkHDR-DZe",
        "colab_type": "code",
        "colab": {}
      },
      "cell_type": "code",
      "source": [
        "seed = 7\n",
        "np.random.seed(seed)"
      ],
      "execution_count": 0,
      "outputs": []
    },
    {
      "metadata": {
        "colab_type": "code",
        "outputId": "cde68d86-87f4-4dc8-f791-02cf76a051ad",
        "id": "4s91mFS9-IFm",
        "colab": {
          "base_uri": "https://localhost:8080/",
          "height": 235
        }
      },
      "cell_type": "code",
      "source": [
        "%%time\n",
        "model = Sequential()\n",
        "model.add(Dense(16, activation='relu', input_dim=n_features))\n",
        "model.add(Dense(1, activation='sigmoid'))\n",
        "model.compile(optimizer='adam',\n",
        "              loss='binary_crossentropy',\n",
        "              metrics=['accuracy'])\n",
        "\n",
        "model.fit(x_train_tfidf, y_train, \n",
        "          validation_data=(x_validation_tfidf, y_validation),\n",
        "          batch_size=32,\n",
        "          epochs=5)"
      ],
      "execution_count": 0,
      "outputs": [
        {
          "output_type": "stream",
          "text": [
            "Train on 8000 samples, validate on 2000 samples\n",
            "Epoch 1/5\n",
            "8000/8000 [==============================] - 15s 2ms/step - loss: 0.4334 - acc: 0.7969 - val_loss: 0.3036 - val_acc: 0.8705\n",
            "Epoch 2/5\n",
            "8000/8000 [==============================] - 13s 2ms/step - loss: 0.1444 - acc: 0.9607 - val_loss: 0.2799 - val_acc: 0.8830\n",
            "Epoch 3/5\n",
            "8000/8000 [==============================] - 14s 2ms/step - loss: 0.0342 - acc: 0.9950 - val_loss: 0.2950 - val_acc: 0.8800\n",
            "Epoch 4/5\n",
            "8000/8000 [==============================] - 14s 2ms/step - loss: 0.0099 - acc: 0.9988 - val_loss: 0.3101 - val_acc: 0.8790\n",
            "Epoch 5/5\n",
            "8000/8000 [==============================] - 14s 2ms/step - loss: 0.0043 - acc: 0.9998 - val_loss: 0.3311 - val_acc: 0.8775\n",
            "CPU times: user 55 s, sys: 9.73 s, total: 1min 4s\n",
            "Wall time: 1min 10s\n"
          ],
          "name": "stdout"
        }
      ]
    },
    {
      "metadata": {
        "id": "zp-94nESAlPb",
        "colab_type": "code",
        "outputId": "dfe68347-6100-4eb6-84ff-7806cb3e584c",
        "colab": {
          "base_uri": "https://localhost:8080/",
          "height": 34
        }
      },
      "cell_type": "code",
      "source": [
        "def create_model():\n",
        "  model = Sequential()\n",
        "  model.add(Dense(16, activation='relu', input_dim=n_features))\n",
        "  model.add(Dropout(0.2))\n",
        "  model.add(Dense(1, activation='sigmoid'))\n",
        "  model.compile(optimizer='adam',\n",
        "                loss='binary_crossentropy',\n",
        "                metrics=['accuracy'])\n",
        "  return model\n",
        "\n",
        "model = KerasClassifier(build_fn=create_model, epochs=5, batch_size=32, verbose=0)\n",
        "kfold = StratifiedKFold(n_splits=5, shuffle=True, random_state=seed)\n",
        "results = cross_val_score(model, x_train_tfidf, y_train, cv=kfold, scoring='roc_auc')\n",
        "print(results.mean())"
      ],
      "execution_count": 0,
      "outputs": [
        {
          "output_type": "stream",
          "text": [
            "0.93269479901958\n"
          ],
          "name": "stdout"
        }
      ]
    },
    {
      "metadata": {
        "id": "rbBOVFG1Ep1Q",
        "colab_type": "text"
      },
      "cell_type": "markdown",
      "source": [
        "## Тренировка на всех данных"
      ]
    },
    {
      "metadata": {
        "id": "x2G3WxPYE0gk",
        "colab_type": "code",
        "outputId": "9eecf28f-cb21-40a6-d6a0-7bff64ae7a85",
        "colab": {
          "base_uri": "https://localhost:8080/",
          "height": 195
        }
      },
      "cell_type": "code",
      "source": [
        "test_df = pd.read_csv('test_data.csv.zip', index_col=0)\n",
        "test_df['data'] = test_df['title'] + ' ' + test_df['text']\n",
        "\n",
        "test_df.drop(['title', 'text'], axis=1, inplace=True)\n",
        "\n",
        "test_df.rename(index=str, columns={\"data\": \"text\"}, inplace=True)\n",
        "test_df.rename(index=str, columns={\"score\": \"target\"}, inplace=True)\n",
        "test_df.dropna(inplace=True)\n",
        "test_df.reset_index(drop=True,inplace=True)\n",
        "\n",
        "test_df.head()"
      ],
      "execution_count": 0,
      "outputs": [
        {
          "output_type": "execute_result",
          "data": {
            "text/html": [
              "<div>\n",
              "<style scoped>\n",
              "    .dataframe tbody tr th:only-of-type {\n",
              "        vertical-align: middle;\n",
              "    }\n",
              "\n",
              "    .dataframe tbody tr th {\n",
              "        vertical-align: top;\n",
              "    }\n",
              "\n",
              "    .dataframe thead th {\n",
              "        text-align: right;\n",
              "    }\n",
              "</style>\n",
              "<table border=\"1\" class=\"dataframe\">\n",
              "  <thead>\n",
              "    <tr style=\"text-align: right;\">\n",
              "      <th></th>\n",
              "      <th>text</th>\n",
              "    </tr>\n",
              "  </thead>\n",
              "  <tbody>\n",
              "    <tr>\n",
              "      <th>0</th>\n",
              "      <td>Благодарность менеджеру по продажам Хотелось б...</td>\n",
              "    </tr>\n",
              "    <tr>\n",
              "      <th>1</th>\n",
              "      <td>Брал рассрочку в магазине Самсунг Здравствуйте...</td>\n",
              "    </tr>\n",
              "    <tr>\n",
              "      <th>2</th>\n",
              "      <td>Тинькофф оказался лучшим Работаем с ними уже б...</td>\n",
              "    </tr>\n",
              "    <tr>\n",
              "      <th>3</th>\n",
              "      <td>Недавно открыла расчетный счет в Тинькофф Банк...</td>\n",
              "    </tr>\n",
              "    <tr>\n",
              "      <th>4</th>\n",
              "      <td>Волею судеб у меня появилась кредитная карта С...</td>\n",
              "    </tr>\n",
              "  </tbody>\n",
              "</table>\n",
              "</div>"
            ],
            "text/plain": [
              "                                                text\n",
              "0  Благодарность менеджеру по продажам Хотелось б...\n",
              "1  Брал рассрочку в магазине Самсунг Здравствуйте...\n",
              "2  Тинькофф оказался лучшим Работаем с ними уже б...\n",
              "3  Недавно открыла расчетный счет в Тинькофф Банк...\n",
              "4  Волею судеб у меня появилась кредитная карта С..."
            ]
          },
          "metadata": {
            "tags": []
          },
          "execution_count": 30
        }
      ]
    },
    {
      "metadata": {
        "id": "H7z_5oX9goY8",
        "colab_type": "code",
        "colab": {}
      },
      "cell_type": "code",
      "source": [
        "tf_idf_full = TfidfVectorizer(max_features=n_features,ngram_range=(1, 2))\n",
        "tf_idf_full.fit(train_df.text)\n",
        "\n",
        "x_full_train_tfidf = tf_idf_full.transform(train_df.text)\n",
        "x_full_test_tfidf = tf_idf_full.transform(test_df.text)"
      ],
      "execution_count": 0,
      "outputs": []
    },
    {
      "metadata": {
        "id": "I-RkTLkchXPC",
        "colab_type": "code",
        "outputId": "62ab9e97-e759-4313-e062-ec121e8abf08",
        "colab": {
          "base_uri": "https://localhost:8080/",
          "height": 84
        }
      },
      "cell_type": "code",
      "source": [
        "x_full_train_tfidf, x_full_test_tfidf"
      ],
      "execution_count": 0,
      "outputs": [
        {
          "output_type": "execute_result",
          "data": {
            "text/plain": [
              "(<10000x150000 sparse matrix of type '<class 'numpy.float64'>'\n",
              " \twith 1541734 stored elements in Compressed Sparse Row format>,\n",
              " <3000x150000 sparse matrix of type '<class 'numpy.float64'>'\n",
              " \twith 412216 stored elements in Compressed Sparse Row format>)"
            ]
          },
          "metadata": {
            "tags": []
          },
          "execution_count": 32
        }
      ]
    },
    {
      "metadata": {
        "id": "j_XRs0tyhnlc",
        "colab_type": "code",
        "outputId": "7886366a-7d47-406f-c83d-77d9e1daff4f",
        "colab": {
          "base_uri": "https://localhost:8080/",
          "height": 202
        }
      },
      "cell_type": "code",
      "source": [
        "model_full = Sequential()\n",
        "model_full.add(Dense(16, activation='relu', input_dim=n_features))\n",
        "model_full.add(Dropout(0.2))\n",
        "model_full.add(Dense(1, activation='sigmoid'))\n",
        "model_full.compile(optimizer='adam',\n",
        "                   loss='binary_crossentropy',\n",
        "                   metrics=['accuracy'])\n",
        "\n",
        "model_full.fit(x_full_train_tfidf, y, \n",
        "               batch_size=32,\n",
        "               epochs=5,\n",
        "              )"
      ],
      "execution_count": 0,
      "outputs": [
        {
          "output_type": "stream",
          "text": [
            "Epoch 1/5\n",
            "10000/10000 [==============================] - 18s 2ms/step - loss: 0.4121 - acc: 0.8124\n",
            "Epoch 2/5\n",
            "10000/10000 [==============================] - 16s 2ms/step - loss: 0.1522 - acc: 0.9549\n",
            "Epoch 3/5\n",
            "10000/10000 [==============================] - 15s 2ms/step - loss: 0.0442 - acc: 0.9923\n",
            "Epoch 4/5\n",
            "10000/10000 [==============================] - 16s 2ms/step - loss: 0.0132 - acc: 0.9988\n",
            "Epoch 5/5\n",
            "10000/10000 [==============================] - 15s 2ms/step - loss: 0.0058 - acc: 0.9995\n"
          ],
          "name": "stdout"
        },
        {
          "output_type": "execute_result",
          "data": {
            "text/plain": [
              "<keras.callbacks.History at 0x7fc90f31cfd0>"
            ]
          },
          "metadata": {
            "tags": []
          },
          "execution_count": 33
        }
      ]
    },
    {
      "metadata": {
        "id": "9N-RHmZfn1EJ",
        "colab_type": "text"
      },
      "cell_type": "markdown",
      "source": [
        "## Сохранение сети"
      ]
    },
    {
      "metadata": {
        "id": "nuHPrV9Un3yT",
        "colab_type": "code",
        "colab": {}
      },
      "cell_type": "code",
      "source": [
        "model_json = model_full.to_json()\n",
        "json_file = open(\"rank_model.json\", \"w\")\n",
        "json_file.write(model_json)\n",
        "json_file.close()"
      ],
      "execution_count": 0,
      "outputs": []
    },
    {
      "metadata": {
        "id": "8xX4HF43oD22",
        "colab_type": "code",
        "outputId": "fccd786c-fd02-4aab-b5de-b379294ec7c7",
        "colab": {
          "base_uri": "https://localhost:8080/",
          "height": 34
        }
      },
      "cell_type": "code",
      "source": [
        "model_full.save_weights(\"rank_model.h5\")\n",
        "print(\"Сохранение сети завершено\")"
      ],
      "execution_count": 0,
      "outputs": [
        {
          "output_type": "stream",
          "text": [
            "Сохранение сети завершено\n"
          ],
          "name": "stdout"
        }
      ]
    },
    {
      "metadata": {
        "id": "SHtchnLEoHnQ",
        "colab_type": "text"
      },
      "cell_type": "markdown",
      "source": [
        "## Создание посылки"
      ]
    },
    {
      "metadata": {
        "id": "ogxML_Ochnie",
        "colab_type": "code",
        "colab": {}
      },
      "cell_type": "code",
      "source": [
        "p = model_full.predict_proba(x_full_test_tfidf)"
      ],
      "execution_count": 0,
      "outputs": []
    },
    {
      "metadata": {
        "id": "HIW48Lichnef",
        "colab_type": "code",
        "outputId": "3f4bdcd5-d749-48fe-8f37-89a31e314ca9",
        "colab": {
          "base_uri": "https://localhost:8080/",
          "height": 343
        }
      },
      "cell_type": "code",
      "source": [
        "prediction = pd.DataFrame()\n",
        "prediction['index'] =  [i for i in list(test_df.index)]\n",
        "# append a column with sentiment\n",
        "prediction['score'] = 1-p\n",
        "prediction.head(10)"
      ],
      "execution_count": 0,
      "outputs": [
        {
          "output_type": "execute_result",
          "data": {
            "text/html": [
              "<div>\n",
              "<style scoped>\n",
              "    .dataframe tbody tr th:only-of-type {\n",
              "        vertical-align: middle;\n",
              "    }\n",
              "\n",
              "    .dataframe tbody tr th {\n",
              "        vertical-align: top;\n",
              "    }\n",
              "\n",
              "    .dataframe thead th {\n",
              "        text-align: right;\n",
              "    }\n",
              "</style>\n",
              "<table border=\"1\" class=\"dataframe\">\n",
              "  <thead>\n",
              "    <tr style=\"text-align: right;\">\n",
              "      <th></th>\n",
              "      <th>index</th>\n",
              "      <th>score</th>\n",
              "    </tr>\n",
              "  </thead>\n",
              "  <tbody>\n",
              "    <tr>\n",
              "      <th>0</th>\n",
              "      <td>0</td>\n",
              "      <td>0.000196</td>\n",
              "    </tr>\n",
              "    <tr>\n",
              "      <th>1</th>\n",
              "      <td>1</td>\n",
              "      <td>0.159710</td>\n",
              "    </tr>\n",
              "    <tr>\n",
              "      <th>2</th>\n",
              "      <td>2</td>\n",
              "      <td>0.013490</td>\n",
              "    </tr>\n",
              "    <tr>\n",
              "      <th>3</th>\n",
              "      <td>3</td>\n",
              "      <td>0.002349</td>\n",
              "    </tr>\n",
              "    <tr>\n",
              "      <th>4</th>\n",
              "      <td>4</td>\n",
              "      <td>0.097279</td>\n",
              "    </tr>\n",
              "    <tr>\n",
              "      <th>5</th>\n",
              "      <td>5</td>\n",
              "      <td>0.000635</td>\n",
              "    </tr>\n",
              "    <tr>\n",
              "      <th>6</th>\n",
              "      <td>6</td>\n",
              "      <td>0.244834</td>\n",
              "    </tr>\n",
              "    <tr>\n",
              "      <th>7</th>\n",
              "      <td>7</td>\n",
              "      <td>0.945659</td>\n",
              "    </tr>\n",
              "    <tr>\n",
              "      <th>8</th>\n",
              "      <td>8</td>\n",
              "      <td>0.000521</td>\n",
              "    </tr>\n",
              "    <tr>\n",
              "      <th>9</th>\n",
              "      <td>9</td>\n",
              "      <td>0.016909</td>\n",
              "    </tr>\n",
              "  </tbody>\n",
              "</table>\n",
              "</div>"
            ],
            "text/plain": [
              "   index     score\n",
              "0      0  0.000196\n",
              "1      1  0.159710\n",
              "2      2  0.013490\n",
              "3      3  0.002349\n",
              "4      4  0.097279\n",
              "5      5  0.000635\n",
              "6      6  0.244834\n",
              "7      7  0.945659\n",
              "8      8  0.000521\n",
              "9      9  0.016909"
            ]
          },
          "metadata": {
            "tags": []
          },
          "execution_count": 35
        }
      ]
    },
    {
      "metadata": {
        "id": "B05XzQwKhncM",
        "colab_type": "code",
        "colab": {}
      },
      "cell_type": "code",
      "source": [
        "# write finilased results into csv\n",
        "prediction.to_csv('prediction_rank.csv', index = False, sep = ',')"
      ],
      "execution_count": 0,
      "outputs": []
    },
    {
      "metadata": {
        "id": "Pb5BXpxShnYR",
        "colab_type": "code",
        "colab": {}
      },
      "cell_type": "code",
      "source": [
        ""
      ],
      "execution_count": 0,
      "outputs": []
    }
  ]
}