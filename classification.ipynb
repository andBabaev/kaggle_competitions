{
  "nbformat": 4,
  "nbformat_minor": 0,
  "metadata": {
    "colab": {
      "name": "classification.ipynb",
      "version": "0.3.2",
      "provenance": [],
      "collapsed_sections": [],
      "toc_visible": true
    },
    "kernelspec": {
      "display_name": "Python 3",
      "language": "python",
      "name": "python3"
    }
  },
  "cells": [
    {
      "metadata": {
        "id": "iZi_Mlmsq1dP",
        "colab_type": "text"
      },
      "cell_type": "markdown",
      "source": [
        "# Классификация\n",
        "\n",
        "[Ссылка на соревнование](https://www.kaggle.com/c/changellenge-cupit-2019-posneg)"
      ]
    },
    {
      "metadata": {
        "id": "CHjtMQDWq1dR",
        "colab_type": "code",
        "colab": {}
      },
      "cell_type": "code",
      "source": [
        "import numpy as np\n",
        "import pandas as pd\n",
        "\n",
        "import re\n",
        "from nltk.corpus import stopwords\n",
        "import nltk\n",
        "import string\n",
        "\n",
        "import sklearn\n",
        "from sklearn import metrics\n",
        "from sklearn.model_selection import train_test_split\n",
        "from sklearn.feature_extraction.text import TfidfVectorizer\n",
        "\n",
        "from sklearn.svm import LinearSVC"
      ],
      "execution_count": 0,
      "outputs": []
    },
    {
      "metadata": {
        "id": "dUVzB3vkursg",
        "colab_type": "code",
        "outputId": "22b9fa49-a27d-4647-c412-1d3bd57f1bde",
        "colab": {
          "base_uri": "https://localhost:8080/",
          "height": 101
        }
      },
      "cell_type": "code",
      "source": [
        "nltk.download('stopwords')\n",
        "nltk.download('punkt')"
      ],
      "execution_count": 0,
      "outputs": [
        {
          "output_type": "stream",
          "text": [
            "[nltk_data] Downloading package stopwords to /root/nltk_data...\n",
            "[nltk_data]   Unzipping corpora/stopwords.zip.\n",
            "[nltk_data] Downloading package punkt to /root/nltk_data...\n",
            "[nltk_data]   Unzipping tokenizers/punkt.zip.\n"
          ],
          "name": "stdout"
        },
        {
          "output_type": "execute_result",
          "data": {
            "text/plain": [
              "True"
            ]
          },
          "metadata": {
            "tags": []
          },
          "execution_count": 2
        }
      ]
    },
    {
      "metadata": {
        "id": "bk96MVfq6F2L",
        "colab_type": "text"
      },
      "cell_type": "markdown",
      "source": [
        "## Загрузка данных"
      ]
    },
    {
      "metadata": {
        "id": "ho1klW3xB0Zi",
        "colab_type": "code",
        "outputId": "194aa290-e1d5-410e-cc9d-7d762966dce4",
        "colab": {
          "base_uri": "https://localhost:8080/",
          "height": 63
        }
      },
      "cell_type": "code",
      "source": [
        "!mkdir ~/.kaggle\n",
        "!mv kaggle.json /root/.kaggle\n",
        "!kaggle competitions download -c changellenge-cupit-2019-type"
      ],
      "execution_count": 0,
      "outputs": [
        {
          "output_type": "stream",
          "text": [
            "mkdir: cannot create directory ‘/root/.kaggle’: File exists\n"
          ],
          "name": "stdout"
        }
      ]
    },
    {
      "metadata": {
        "id": "Y2a149bbrgO2",
        "colab_type": "text"
      },
      "cell_type": "markdown",
      "source": [
        "## Подготовка данных"
      ]
    },
    {
      "metadata": {
        "id": "Q5YYYaXvq1dV",
        "colab_type": "code",
        "outputId": "814faa47-4eb3-4857-cf68-e09b0ff42d70",
        "colab": {
          "base_uri": "https://localhost:8080/",
          "height": 971
        }
      },
      "cell_type": "code",
      "source": [
        "train_df = pd.read_csv('train_data.csv.zip', index_col=0)\n",
        "train_df.head()"
      ],
      "execution_count": 0,
      "outputs": [
        {
          "output_type": "error",
          "ename": "FileNotFoundError",
          "evalue": "ignored",
          "traceback": [
            "\u001b[0;31m---------------------------------------------------------------------------\u001b[0m",
            "\u001b[0;31mFileNotFoundError\u001b[0m                         Traceback (most recent call last)",
            "\u001b[0;32m<ipython-input-4-4b93b80c161b>\u001b[0m in \u001b[0;36m<module>\u001b[0;34m()\u001b[0m\n\u001b[0;32m----> 1\u001b[0;31m \u001b[0mtrain_df\u001b[0m \u001b[0;34m=\u001b[0m \u001b[0mpd\u001b[0m\u001b[0;34m.\u001b[0m\u001b[0mread_csv\u001b[0m\u001b[0;34m(\u001b[0m\u001b[0;34m'train_data.csv.zip'\u001b[0m\u001b[0;34m,\u001b[0m \u001b[0mindex_col\u001b[0m\u001b[0;34m=\u001b[0m\u001b[0;36m0\u001b[0m\u001b[0;34m)\u001b[0m\u001b[0;34m\u001b[0m\u001b[0;34m\u001b[0m\u001b[0m\n\u001b[0m\u001b[1;32m      2\u001b[0m \u001b[0mtrain_df\u001b[0m\u001b[0;34m.\u001b[0m\u001b[0mhead\u001b[0m\u001b[0;34m(\u001b[0m\u001b[0;34m)\u001b[0m\u001b[0;34m\u001b[0m\u001b[0;34m\u001b[0m\u001b[0m\n",
            "\u001b[0;32m/usr/local/lib/python3.6/dist-packages/pandas/io/parsers.py\u001b[0m in \u001b[0;36mparser_f\u001b[0;34m(filepath_or_buffer, sep, delimiter, header, names, index_col, usecols, squeeze, prefix, mangle_dupe_cols, dtype, engine, converters, true_values, false_values, skipinitialspace, skiprows, nrows, na_values, keep_default_na, na_filter, verbose, skip_blank_lines, parse_dates, infer_datetime_format, keep_date_col, date_parser, dayfirst, iterator, chunksize, compression, thousands, decimal, lineterminator, quotechar, quoting, escapechar, comment, encoding, dialect, tupleize_cols, error_bad_lines, warn_bad_lines, skipfooter, skip_footer, doublequote, delim_whitespace, as_recarray, compact_ints, use_unsigned, low_memory, buffer_lines, memory_map, float_precision)\u001b[0m\n\u001b[1;32m    707\u001b[0m                     skip_blank_lines=skip_blank_lines)\n\u001b[1;32m    708\u001b[0m \u001b[0;34m\u001b[0m\u001b[0m\n\u001b[0;32m--> 709\u001b[0;31m         \u001b[0;32mreturn\u001b[0m \u001b[0m_read\u001b[0m\u001b[0;34m(\u001b[0m\u001b[0mfilepath_or_buffer\u001b[0m\u001b[0;34m,\u001b[0m \u001b[0mkwds\u001b[0m\u001b[0;34m)\u001b[0m\u001b[0;34m\u001b[0m\u001b[0;34m\u001b[0m\u001b[0m\n\u001b[0m\u001b[1;32m    710\u001b[0m \u001b[0;34m\u001b[0m\u001b[0m\n\u001b[1;32m    711\u001b[0m     \u001b[0mparser_f\u001b[0m\u001b[0;34m.\u001b[0m\u001b[0m__name__\u001b[0m \u001b[0;34m=\u001b[0m \u001b[0mname\u001b[0m\u001b[0;34m\u001b[0m\u001b[0;34m\u001b[0m\u001b[0m\n",
            "\u001b[0;32m/usr/local/lib/python3.6/dist-packages/pandas/io/parsers.py\u001b[0m in \u001b[0;36m_read\u001b[0;34m(filepath_or_buffer, kwds)\u001b[0m\n\u001b[1;32m    447\u001b[0m \u001b[0;34m\u001b[0m\u001b[0m\n\u001b[1;32m    448\u001b[0m     \u001b[0;31m# Create the parser.\u001b[0m\u001b[0;34m\u001b[0m\u001b[0;34m\u001b[0m\u001b[0;34m\u001b[0m\u001b[0m\n\u001b[0;32m--> 449\u001b[0;31m     \u001b[0mparser\u001b[0m \u001b[0;34m=\u001b[0m \u001b[0mTextFileReader\u001b[0m\u001b[0;34m(\u001b[0m\u001b[0mfilepath_or_buffer\u001b[0m\u001b[0;34m,\u001b[0m \u001b[0;34m**\u001b[0m\u001b[0mkwds\u001b[0m\u001b[0;34m)\u001b[0m\u001b[0;34m\u001b[0m\u001b[0;34m\u001b[0m\u001b[0m\n\u001b[0m\u001b[1;32m    450\u001b[0m \u001b[0;34m\u001b[0m\u001b[0m\n\u001b[1;32m    451\u001b[0m     \u001b[0;32mif\u001b[0m \u001b[0mchunksize\u001b[0m \u001b[0;32mor\u001b[0m \u001b[0miterator\u001b[0m\u001b[0;34m:\u001b[0m\u001b[0;34m\u001b[0m\u001b[0;34m\u001b[0m\u001b[0m\n",
            "\u001b[0;32m/usr/local/lib/python3.6/dist-packages/pandas/io/parsers.py\u001b[0m in \u001b[0;36m__init__\u001b[0;34m(self, f, engine, **kwds)\u001b[0m\n\u001b[1;32m    816\u001b[0m             \u001b[0mself\u001b[0m\u001b[0;34m.\u001b[0m\u001b[0moptions\u001b[0m\u001b[0;34m[\u001b[0m\u001b[0;34m'has_index_names'\u001b[0m\u001b[0;34m]\u001b[0m \u001b[0;34m=\u001b[0m \u001b[0mkwds\u001b[0m\u001b[0;34m[\u001b[0m\u001b[0;34m'has_index_names'\u001b[0m\u001b[0;34m]\u001b[0m\u001b[0;34m\u001b[0m\u001b[0;34m\u001b[0m\u001b[0m\n\u001b[1;32m    817\u001b[0m \u001b[0;34m\u001b[0m\u001b[0m\n\u001b[0;32m--> 818\u001b[0;31m         \u001b[0mself\u001b[0m\u001b[0;34m.\u001b[0m\u001b[0m_make_engine\u001b[0m\u001b[0;34m(\u001b[0m\u001b[0mself\u001b[0m\u001b[0;34m.\u001b[0m\u001b[0mengine\u001b[0m\u001b[0;34m)\u001b[0m\u001b[0;34m\u001b[0m\u001b[0;34m\u001b[0m\u001b[0m\n\u001b[0m\u001b[1;32m    819\u001b[0m \u001b[0;34m\u001b[0m\u001b[0m\n\u001b[1;32m    820\u001b[0m     \u001b[0;32mdef\u001b[0m \u001b[0mclose\u001b[0m\u001b[0;34m(\u001b[0m\u001b[0mself\u001b[0m\u001b[0;34m)\u001b[0m\u001b[0;34m:\u001b[0m\u001b[0;34m\u001b[0m\u001b[0;34m\u001b[0m\u001b[0m\n",
            "\u001b[0;32m/usr/local/lib/python3.6/dist-packages/pandas/io/parsers.py\u001b[0m in \u001b[0;36m_make_engine\u001b[0;34m(self, engine)\u001b[0m\n\u001b[1;32m   1047\u001b[0m     \u001b[0;32mdef\u001b[0m \u001b[0m_make_engine\u001b[0m\u001b[0;34m(\u001b[0m\u001b[0mself\u001b[0m\u001b[0;34m,\u001b[0m \u001b[0mengine\u001b[0m\u001b[0;34m=\u001b[0m\u001b[0;34m'c'\u001b[0m\u001b[0;34m)\u001b[0m\u001b[0;34m:\u001b[0m\u001b[0;34m\u001b[0m\u001b[0;34m\u001b[0m\u001b[0m\n\u001b[1;32m   1048\u001b[0m         \u001b[0;32mif\u001b[0m \u001b[0mengine\u001b[0m \u001b[0;34m==\u001b[0m \u001b[0;34m'c'\u001b[0m\u001b[0;34m:\u001b[0m\u001b[0;34m\u001b[0m\u001b[0;34m\u001b[0m\u001b[0m\n\u001b[0;32m-> 1049\u001b[0;31m             \u001b[0mself\u001b[0m\u001b[0;34m.\u001b[0m\u001b[0m_engine\u001b[0m \u001b[0;34m=\u001b[0m \u001b[0mCParserWrapper\u001b[0m\u001b[0;34m(\u001b[0m\u001b[0mself\u001b[0m\u001b[0;34m.\u001b[0m\u001b[0mf\u001b[0m\u001b[0;34m,\u001b[0m \u001b[0;34m**\u001b[0m\u001b[0mself\u001b[0m\u001b[0;34m.\u001b[0m\u001b[0moptions\u001b[0m\u001b[0;34m)\u001b[0m\u001b[0;34m\u001b[0m\u001b[0;34m\u001b[0m\u001b[0m\n\u001b[0m\u001b[1;32m   1050\u001b[0m         \u001b[0;32melse\u001b[0m\u001b[0;34m:\u001b[0m\u001b[0;34m\u001b[0m\u001b[0;34m\u001b[0m\u001b[0m\n\u001b[1;32m   1051\u001b[0m             \u001b[0;32mif\u001b[0m \u001b[0mengine\u001b[0m \u001b[0;34m==\u001b[0m \u001b[0;34m'python'\u001b[0m\u001b[0;34m:\u001b[0m\u001b[0;34m\u001b[0m\u001b[0;34m\u001b[0m\u001b[0m\n",
            "\u001b[0;32m/usr/local/lib/python3.6/dist-packages/pandas/io/parsers.py\u001b[0m in \u001b[0;36m__init__\u001b[0;34m(self, src, **kwds)\u001b[0m\n\u001b[1;32m   1693\u001b[0m         \u001b[0mkwds\u001b[0m\u001b[0;34m[\u001b[0m\u001b[0;34m'allow_leading_cols'\u001b[0m\u001b[0;34m]\u001b[0m \u001b[0;34m=\u001b[0m \u001b[0mself\u001b[0m\u001b[0;34m.\u001b[0m\u001b[0mindex_col\u001b[0m \u001b[0;32mis\u001b[0m \u001b[0;32mnot\u001b[0m \u001b[0;32mFalse\u001b[0m\u001b[0;34m\u001b[0m\u001b[0;34m\u001b[0m\u001b[0m\n\u001b[1;32m   1694\u001b[0m \u001b[0;34m\u001b[0m\u001b[0m\n\u001b[0;32m-> 1695\u001b[0;31m         \u001b[0mself\u001b[0m\u001b[0;34m.\u001b[0m\u001b[0m_reader\u001b[0m \u001b[0;34m=\u001b[0m \u001b[0mparsers\u001b[0m\u001b[0;34m.\u001b[0m\u001b[0mTextReader\u001b[0m\u001b[0;34m(\u001b[0m\u001b[0msrc\u001b[0m\u001b[0;34m,\u001b[0m \u001b[0;34m**\u001b[0m\u001b[0mkwds\u001b[0m\u001b[0;34m)\u001b[0m\u001b[0;34m\u001b[0m\u001b[0;34m\u001b[0m\u001b[0m\n\u001b[0m\u001b[1;32m   1696\u001b[0m \u001b[0;34m\u001b[0m\u001b[0m\n\u001b[1;32m   1697\u001b[0m         \u001b[0;31m# XXX\u001b[0m\u001b[0;34m\u001b[0m\u001b[0;34m\u001b[0m\u001b[0;34m\u001b[0m\u001b[0m\n",
            "\u001b[0;32mpandas/_libs/parsers.pyx\u001b[0m in \u001b[0;36mpandas._libs.parsers.TextReader.__cinit__\u001b[0;34m()\u001b[0m\n",
            "\u001b[0;32mpandas/_libs/parsers.pyx\u001b[0m in \u001b[0;36mpandas._libs.parsers.TextReader._setup_parser_source\u001b[0;34m()\u001b[0m\n",
            "\u001b[0;32m/usr/lib/python3.6/zipfile.py\u001b[0m in \u001b[0;36m__init__\u001b[0;34m(self, file, mode, compression, allowZip64)\u001b[0m\n\u001b[1;32m   1111\u001b[0m             \u001b[0;32mwhile\u001b[0m \u001b[0;32mTrue\u001b[0m\u001b[0;34m:\u001b[0m\u001b[0;34m\u001b[0m\u001b[0;34m\u001b[0m\u001b[0m\n\u001b[1;32m   1112\u001b[0m                 \u001b[0;32mtry\u001b[0m\u001b[0;34m:\u001b[0m\u001b[0;34m\u001b[0m\u001b[0;34m\u001b[0m\u001b[0m\n\u001b[0;32m-> 1113\u001b[0;31m                     \u001b[0mself\u001b[0m\u001b[0;34m.\u001b[0m\u001b[0mfp\u001b[0m \u001b[0;34m=\u001b[0m \u001b[0mio\u001b[0m\u001b[0;34m.\u001b[0m\u001b[0mopen\u001b[0m\u001b[0;34m(\u001b[0m\u001b[0mfile\u001b[0m\u001b[0;34m,\u001b[0m \u001b[0mfilemode\u001b[0m\u001b[0;34m)\u001b[0m\u001b[0;34m\u001b[0m\u001b[0;34m\u001b[0m\u001b[0m\n\u001b[0m\u001b[1;32m   1114\u001b[0m                 \u001b[0;32mexcept\u001b[0m \u001b[0mOSError\u001b[0m\u001b[0;34m:\u001b[0m\u001b[0;34m\u001b[0m\u001b[0;34m\u001b[0m\u001b[0m\n\u001b[1;32m   1115\u001b[0m                     \u001b[0;32mif\u001b[0m \u001b[0mfilemode\u001b[0m \u001b[0;32min\u001b[0m \u001b[0mmodeDict\u001b[0m\u001b[0;34m:\u001b[0m\u001b[0;34m\u001b[0m\u001b[0;34m\u001b[0m\u001b[0m\n",
            "\u001b[0;31mFileNotFoundError\u001b[0m: [Errno 2] No such file or directory: 'train_data.csv.zip'"
          ]
        }
      ]
    },
    {
      "metadata": {
        "id": "H99r7K6dq1do",
        "colab_type": "code",
        "colab": {}
      },
      "cell_type": "code",
      "source": [
        "train_df['data'] = train_df['title'] + ' ' + train_df['text']\n",
        "train_df.drop(['title', 'text'], axis=1, inplace=True)\n",
        "train_df.rename(index=str, columns={\"data\": \"text\"}, inplace=True)"
      ],
      "execution_count": 0,
      "outputs": []
    },
    {
      "metadata": {
        "id": "sglgse7bq1eD",
        "colab_type": "code",
        "colab": {}
      },
      "cell_type": "code",
      "source": [
        "set(train_df['type'])"
      ],
      "execution_count": 0,
      "outputs": []
    },
    {
      "metadata": {
        "id": "Fa-8vIe_q1eL",
        "colab_type": "code",
        "colab": {}
      },
      "cell_type": "code",
      "source": [
        "train_df['type'] = train_df['type'].map(\n",
        "    {\n",
        "        'Бизнес услуги': 0,\n",
        "        'Вклад': 1,\n",
        "        'Дебетовая карта': 2,\n",
        "        'Денежные переводы': 3,\n",
        "        'Инвестиционные продукты': 4,\n",
        "        'Ипотека': 5,\n",
        "        'Кредит': 6,\n",
        "        'Обслуживание физ. и юр. лиц': 7,\n",
        "        'Реструктуризация': 8\n",
        "    })"
      ],
      "execution_count": 0,
      "outputs": []
    },
    {
      "metadata": {
        "id": "nycHnTYvq1eO",
        "colab_type": "code",
        "colab": {}
      },
      "cell_type": "code",
      "source": [
        "train_df.head()"
      ],
      "execution_count": 0,
      "outputs": []
    },
    {
      "metadata": {
        "id": "A6COo-P1q1eZ",
        "colab_type": "text"
      },
      "cell_type": "markdown",
      "source": [
        "Преобразуем данные в отдельные списки для удобства дальнейшего анализа"
      ]
    },
    {
      "metadata": {
        "id": "mg7vteuAq1ea",
        "colab_type": "code",
        "colab": {}
      },
      "cell_type": "code",
      "source": [
        "target = train_df['type']\n",
        "text = train_df['text']"
      ],
      "execution_count": 0,
      "outputs": []
    },
    {
      "metadata": {
        "id": "LhKxk6EPq1ee",
        "colab_type": "code",
        "outputId": "05dad033-0d51-4c3e-d106-813101970bd0",
        "colab": {
          "base_uri": "https://localhost:8080/",
          "height": 54
        }
      },
      "cell_type": "code",
      "source": [
        "text[0]"
      ],
      "execution_count": 0,
      "outputs": [
        {
          "output_type": "execute_result",
          "data": {
            "text/plain": [
              "'Просьба об отмене штрафа КАСКО Здравствуйте! 10.06.2016г. мною был заключен договор №С04101713432 с ООО «Сетелем Банк» о предоставлении целевого потребительского кредита на приобретение автотранспортного средства марки Ford сроком на 3 (три) года. По настоящее время кредитный договор является действующим, финансовые обязательства по погашению задолженности мною выполняются добросовестно. В кредитный договор включен пункт об обязанности страхования автомобиля по КАСКО.В силу ст. 972 ГК РФ страхование может носить обязательный характер только в случаях, предусмотренных законом. Страхование же транспортного средства по полису КАСКО в силу закона носит добровольный характер. Обязанность заемщика страховать транспортное средство по полису КАСКО законом не предусмотрена. В силу п. 2 статьи 16 Закона РФ от 07.02.1992 № 2300-1 (в ред. От 13.07.2015г.) «О защите прав потребителей» запрещается обуславливать приобретение одних товаров (работ, услуг) обязательным приобретением иных товаров (работ, услуг). Понимаю\\xa0что дополнительным способом обеспечения возвратности кредита (ст.343 ГК РФ) является полис КАСКО.\\xa0Два года я исправно исполнял обязанность по пролонгации полиса КАСКО. Исходя из вышеуказанного, при истечении срока действия полиса КАСКО, мною было принято решение отказаться\\xa0от продления КАСКО на следующий (последний) год. Являясь ответственным клиентом Банка, задолженностей по кредитному договору, согласно графика платежей, не имею и иметь не собираюсь. Прошу, с учетом вышеуказанного, пойти мне навстречу и отменить мне пролонгацию полиса КАСКО и не назначать штраф в размере 10 000 рублей. Искренне надеюсь на Ваше понимание и лояльное отношение к клиенту с возможной дальнейшей перспективой на сотрудничество. Прошу Вас отправить письменный ответ на E-mail: ***@bk.ru.'"
            ]
          },
          "metadata": {
            "tags": []
          },
          "execution_count": 44
        }
      ]
    },
    {
      "metadata": {
        "id": "atiOa_NMq1en",
        "colab_type": "text"
      },
      "cell_type": "markdown",
      "source": [
        "Чистим текст"
      ]
    },
    {
      "metadata": {
        "id": "QN1akk9Mq1eq",
        "colab_type": "code",
        "colab": {}
      },
      "cell_type": "code",
      "source": [
        "def tokenize_me(file_text):\n",
        "    #firstly let's apply nltk tokenization\n",
        "    tokens = nltk.word_tokenize(file_text)\n",
        " \n",
        "    #let's delete punctuation symbols\n",
        "    tokens = [i for i in tokens if ( i not in string.punctuation )]\n",
        " \n",
        "    #deleting stop_words\n",
        "    stop_words = stopwords.words('russian')\n",
        "    stop_words.extend(['что', 'это', 'так', 'вот', 'быть', 'как', 'в', '—', 'к', 'на', 'п', 'рф', 'ред', 'г', 'ооо', 'ст', 'гк', 'здравствуйте', 'из-за', '–'])\n",
        "    tokens = [i for i in tokens if ( i not in stop_words )]\n",
        " \n",
        "    #cleaning words\n",
        "    tokens = [i.replace(\"«\", \"\").replace(\"»\", \"\") for i in tokens]\n",
        "    tokens = [i.replace(\"“\", \"\").replace(\"”\", \"\") for i in tokens]\n",
        "    tokens = [i.replace(\"`\", \"\") for i in tokens]\n",
        "    tokens = [i.replace(\"'\", \"\") for i in tokens]\n",
        "    tokens = [i.replace(\"ё\", \"е\") for i in tokens]\n",
        " \n",
        "    return tokens"
      ],
      "execution_count": 0,
      "outputs": []
    },
    {
      "metadata": {
        "id": "FFbBcK32q1et",
        "colab_type": "code",
        "colab": {}
      },
      "cell_type": "code",
      "source": [
        "def text_cleaner(text):\n",
        "  clean = []\n",
        "  for s in text:\n",
        "      t = \"\"\n",
        "      t = re.sub('(E-mail\\S+)', \"\", s)\n",
        "      t = re.sub('(@\\S+)', \"\", t)\n",
        "      t = re.sub('(№\\S+)', \"\", t)\n",
        "      t = re.sub('(№)', \"\", t)\n",
        "      t = re.sub('(\\*\\S+)', \"\", t)\n",
        "      t = re.sub('\\.', \" \", t)\n",
        "      t = re.sub('  ', \" \", t)\n",
        "      t = re.sub('(#\\w+)|(@\\w+)|(\\d+)|(&gt;)|(&lt;)', \"\", t)\n",
        "\n",
        "      t = t.lower()\n",
        "\n",
        "\n",
        "      s = \"\"\n",
        "      for w in tokenize_me(t):\n",
        "          s = s + ' ' + w\n",
        "\n",
        "      t = s\n",
        "      t = re.sub('  ', \" \", t)\n",
        "\n",
        "      if (t[0]==' '):\n",
        "          t = t[1:]\n",
        "\n",
        "      clean.append(t)\n",
        "  return clean"
      ],
      "execution_count": 0,
      "outputs": []
    },
    {
      "metadata": {
        "id": "Amx1Hvjiq1ev",
        "colab_type": "code",
        "outputId": "4d89b189-c067-495f-9864-80314a59ae91",
        "colab": {
          "base_uri": "https://localhost:8080/",
          "height": 54
        }
      },
      "cell_type": "code",
      "source": [
        "clean = text_cleaner(text)\n",
        "clean[0]"
      ],
      "execution_count": 0,
      "outputs": [
        {
          "output_type": "execute_result",
          "data": {
            "text/plain": [
              "'просьба отмене штрафа каско мною заключен договор сетелем банк предоставлении целевого потребительского кредита приобретение автотранспортного средства марки ford сроком года настоящее время кредитный договор является действующим финансовые обязательства погашению задолженности мною выполняются добросовестно кредитный договор включен пункт обязанности страхования автомобиля каско силу страхование носить обязательный характер случаях предусмотренных законом страхование транспортного средства полису каско силу закона носит добровольный характер обязанность заемщика страховать транспортное средство полису каско законом предусмотрена силу статьи закона защите прав потребителей запрещается обуславливать приобретение одних товаров работ услуг обязательным приобретением иных товаров работ услуг понимаю дополнительным способом обеспечения возвратности кредита является полис каско года исправно исполнял обязанность пролонгации полиса каско исходя вышеуказанного истечении срока действия полиса каско мною принято решение отказаться продления каско следующий последний год являясь ответственным клиентом банка задолженностей кредитному договору согласно графика платежей имею иметь собираюсь прошу учетом вышеуказанного пойти навстречу отменить пролонгацию полиса каско назначать штраф размере рублей искренне надеюсь ваше понимание лояльное отношение клиенту возможной дальнейшей перспективой сотрудничество прошу отправить письменный ответ'"
            ]
          },
          "metadata": {
            "tags": []
          },
          "execution_count": 47
        }
      ]
    },
    {
      "metadata": {
        "id": "pwGqae3Oq1e-",
        "colab_type": "text"
      },
      "cell_type": "markdown",
      "source": [
        "## TFIDF Bag of Words"
      ]
    },
    {
      "metadata": {
        "id": "D-w_1l50q1e_",
        "colab_type": "code",
        "outputId": "c20781b9-9743-433e-ff26-dc3fd1f92b24",
        "colab": {
          "base_uri": "https://localhost:8080/",
          "height": 134
        }
      },
      "cell_type": "code",
      "source": [
        "tfidf_vectorizer = TfidfVectorizer(ngram_range=(1, 2), max_features=None)\n",
        "tfidf_vectorizer.fit(clean)"
      ],
      "execution_count": 0,
      "outputs": [
        {
          "output_type": "execute_result",
          "data": {
            "text/plain": [
              "TfidfVectorizer(analyzer='word', binary=False, decode_error='strict',\n",
              "        dtype=<class 'numpy.float64'>, encoding='utf-8', input='content',\n",
              "        lowercase=True, max_df=1.0, max_features=None, min_df=1,\n",
              "        ngram_range=(1, 2), norm='l2', preprocessor=None, smooth_idf=True,\n",
              "        stop_words=None, strip_accents=None, sublinear_tf=False,\n",
              "        token_pattern='(?u)\\\\b\\\\w\\\\w+\\\\b', tokenizer=None, use_idf=True,\n",
              "        vocabulary=None)"
            ]
          },
          "metadata": {
            "tags": []
          },
          "execution_count": 48
        }
      ]
    },
    {
      "metadata": {
        "id": "vt2H8onaq1fE",
        "colab_type": "code",
        "outputId": "d1e9f198-f50e-4770-d2eb-72c54fe3cedc",
        "colab": {
          "base_uri": "https://localhost:8080/",
          "height": 50
        }
      },
      "cell_type": "code",
      "source": [
        "x_tfidf = tfidf_vectorizer.transform(clean)\n",
        "tfidf"
      ],
      "execution_count": 0,
      "outputs": [
        {
          "output_type": "execute_result",
          "data": {
            "text/plain": [
              "<9151x542785 sparse matrix of type '<class 'numpy.float64'>'\n",
              "\twith 1367172 stored elements in Compressed Sparse Row format>"
            ]
          },
          "metadata": {
            "tags": []
          },
          "execution_count": 49
        }
      ]
    },
    {
      "metadata": {
        "id": "cUAzrHHv8F8M",
        "colab_type": "code",
        "colab": {}
      },
      "cell_type": "code",
      "source": [
        "x_train, x_test, y_train, y_test = train_test_split(x_tfidf, target, test_size=0.2)"
      ],
      "execution_count": 0,
      "outputs": []
    },
    {
      "metadata": {
        "id": "E_HIzeTH7_0b",
        "colab_type": "text"
      },
      "cell_type": "markdown",
      "source": [
        "## Создание и обучение модели"
      ]
    },
    {
      "metadata": {
        "id": "LbS6dNDTq1fP",
        "colab_type": "code",
        "colab": {}
      },
      "cell_type": "code",
      "source": [
        "model = LinearSVC(C=1).fit(x_train, y_train)"
      ],
      "execution_count": 0,
      "outputs": []
    },
    {
      "metadata": {
        "id": "AoZzyVB8q1fR",
        "colab_type": "code",
        "outputId": "00a0dfa1-b12f-47be-e497-62092b8df333",
        "colab": {
          "base_uri": "https://localhost:8080/",
          "height": 34
        }
      },
      "cell_type": "code",
      "source": [
        "predicted = model.predict(x_test)\n",
        "metrics.accuracy_score(y_test, predicted)"
      ],
      "execution_count": 0,
      "outputs": [
        {
          "output_type": "execute_result",
          "data": {
            "text/plain": [
              "0.6646641179683234"
            ]
          },
          "metadata": {
            "tags": []
          },
          "execution_count": 22
        }
      ]
    },
    {
      "metadata": {
        "id": "vmq85YJRq1fV",
        "colab_type": "code",
        "outputId": "14b77c34-d5ae-4b9f-d7cf-f5c302157d8a",
        "colab": {
          "base_uri": "https://localhost:8080/",
          "height": 34
        }
      },
      "cell_type": "code",
      "source": [
        "kfold = sklearn.model_selection.KFold(n_splits=10, random_state=7)\n",
        "\n",
        "scoring = 'accuracy'\n",
        "accuracy = sklearn.model_selection.cross_val_score(model, \n",
        "                tfidf, target, cv=kfold, scoring=scoring)\n",
        "print(\"10-fold cross validation average accuracy: \", (accuracy.mean()))"
      ],
      "execution_count": 0,
      "outputs": [
        {
          "output_type": "stream",
          "text": [
            "10-fold cross validation average accuracy:  0.6807974801345836\n"
          ],
          "name": "stdout"
        }
      ]
    },
    {
      "metadata": {
        "id": "JtjXVbvKq1fp",
        "colab_type": "text"
      },
      "cell_type": "markdown",
      "source": [
        "## Тренировка на всех данных"
      ]
    },
    {
      "metadata": {
        "id": "KyAJ9Yhzq1fp",
        "colab_type": "code",
        "outputId": "9560839b-2d58-4ba4-d663-11e3d1cccecc",
        "colab": {
          "base_uri": "https://localhost:8080/",
          "height": 195
        }
      },
      "cell_type": "code",
      "source": [
        "test_df = pd.read_csv('test_data.csv.zip', index_col=0)\n",
        "test_df['data'] = test_df['title'] + ' ' + test_df['text']\n",
        "test_df.drop(['title', 'text'], axis=1, inplace=True)\n",
        "test_df.rename(index=str, columns={\"data\": \"text\"}, inplace=True)\n",
        "test_df.head()"
      ],
      "execution_count": 0,
      "outputs": [
        {
          "output_type": "execute_result",
          "data": {
            "text/html": [
              "<div>\n",
              "<style scoped>\n",
              "    .dataframe tbody tr th:only-of-type {\n",
              "        vertical-align: middle;\n",
              "    }\n",
              "\n",
              "    .dataframe tbody tr th {\n",
              "        vertical-align: top;\n",
              "    }\n",
              "\n",
              "    .dataframe thead th {\n",
              "        text-align: right;\n",
              "    }\n",
              "</style>\n",
              "<table border=\"1\" class=\"dataframe\">\n",
              "  <thead>\n",
              "    <tr style=\"text-align: right;\">\n",
              "      <th></th>\n",
              "      <th>text</th>\n",
              "    </tr>\n",
              "  </thead>\n",
              "  <tbody>\n",
              "    <tr>\n",
              "      <th>0</th>\n",
              "      <td>Благодарность менеджеру по продажам Хотелось б...</td>\n",
              "    </tr>\n",
              "    <tr>\n",
              "      <th>1</th>\n",
              "      <td>Брал рассрочку в магазине Самсунг Здравствуйте...</td>\n",
              "    </tr>\n",
              "    <tr>\n",
              "      <th>2</th>\n",
              "      <td>Тинькофф оказался лучшим Работаем с ними уже б...</td>\n",
              "    </tr>\n",
              "    <tr>\n",
              "      <th>3</th>\n",
              "      <td>Недавно открыла расчетный счет в Тинькофф Банк...</td>\n",
              "    </tr>\n",
              "    <tr>\n",
              "      <th>4</th>\n",
              "      <td>Волею судеб у меня появилась кредитная карта С...</td>\n",
              "    </tr>\n",
              "  </tbody>\n",
              "</table>\n",
              "</div>"
            ],
            "text/plain": [
              "                                                text\n",
              "0  Благодарность менеджеру по продажам Хотелось б...\n",
              "1  Брал рассрочку в магазине Самсунг Здравствуйте...\n",
              "2  Тинькофф оказался лучшим Работаем с ними уже б...\n",
              "3  Недавно открыла расчетный счет в Тинькофф Банк...\n",
              "4  Волею судеб у меня появилась кредитная карта С..."
            ]
          },
          "metadata": {
            "tags": []
          },
          "execution_count": 24
        }
      ]
    },
    {
      "metadata": {
        "id": "POBSXYpXq1gP",
        "colab_type": "code",
        "colab": {}
      },
      "cell_type": "code",
      "source": [
        "text_t = test_df['text']\n",
        "clean_t = text_cleaner(text_t)\n",
        "clean_t[0]"
      ],
      "execution_count": 0,
      "outputs": []
    },
    {
      "metadata": {
        "id": "hNI4aUs-O4yI",
        "colab_type": "code",
        "colab": {}
      },
      "cell_type": "code",
      "source": [
        "model = LinearSVC(C=1).fit(x_tfidf, target)"
      ],
      "execution_count": 0,
      "outputs": []
    },
    {
      "metadata": {
        "id": "0r-dL8EGq1gf",
        "colab_type": "code",
        "outputId": "c6fbe958-a467-40b6-eb11-ab9201aa9e63",
        "colab": {
          "base_uri": "https://localhost:8080/",
          "height": 50
        }
      },
      "cell_type": "code",
      "source": [
        "test_tfidf = tfidf_vectorizer.transform(clean_t)\n",
        "test_tfidf"
      ],
      "execution_count": 0,
      "outputs": [
        {
          "output_type": "execute_result",
          "data": {
            "text/plain": [
              "<2750x542785 sparse matrix of type '<class 'numpy.float64'>'\n",
              "\twith 267448 stored elements in Compressed Sparse Row format>"
            ]
          },
          "metadata": {
            "tags": []
          },
          "execution_count": 53
        }
      ]
    },
    {
      "metadata": {
        "id": "KIP0Xb2Xq1gi",
        "colab_type": "code",
        "colab": {}
      },
      "cell_type": "code",
      "source": [
        "predicted = model.predict(test_tfidf)"
      ],
      "execution_count": 0,
      "outputs": []
    },
    {
      "metadata": {
        "id": "QbWHD-OFq1gk",
        "colab_type": "code",
        "colab": {}
      },
      "cell_type": "code",
      "source": [
        "categories = ['Бизнес услуги',\n",
        " 'Вклад',\n",
        " 'Дебетовая карта',\n",
        " 'Денежные переводы',\n",
        " 'Инвестиционные продукты',\n",
        " 'Ипотека',\n",
        " 'Кредит',\n",
        " 'Обслуживание физ. и юр. лиц',\n",
        " 'Реструктуризация']"
      ],
      "execution_count": 0,
      "outputs": []
    },
    {
      "metadata": {
        "id": "tQs-Xi0Yq1gp",
        "colab_type": "code",
        "outputId": "16be5c04-3dd7-4776-fc1a-42e7a4a81acd",
        "colab": {
          "base_uri": "https://localhost:8080/",
          "height": 34
        }
      },
      "cell_type": "code",
      "source": [
        "categories[predicted[5]]"
      ],
      "execution_count": 0,
      "outputs": [
        {
          "output_type": "execute_result",
          "data": {
            "text/plain": [
              "'Ипотека'"
            ]
          },
          "metadata": {
            "tags": []
          },
          "execution_count": 56
        }
      ]
    },
    {
      "metadata": {
        "id": "j-sBAtfSq1gt",
        "colab_type": "code",
        "outputId": "4c1e7e3f-a414-4baa-b3cc-89eaf6f10bec",
        "colab": {
          "base_uri": "https://localhost:8080/",
          "height": 54
        }
      },
      "cell_type": "code",
      "source": [
        "test_df.iloc[5]['text']"
      ],
      "execution_count": 0,
      "outputs": [
        {
          "output_type": "execute_result",
          "data": {
            "text/plain": [
              "'Оформление ипотеки Добрый день! Оформили ипотеку в Сбербанке России,очень довольны работой менеджера по ипотечному кредитованию Ш-вой Ралины отделение 8598/0195. Менеджер узнавала звонила интересовалась, консультировала по телефону во время поиска квартиры. Так же очень помогла в консультации вопросов которые встречались по ходу сделки. Приятно работать с такими хорошими сотрудниками! Спасибо большое! Побольше бы таких\\xa0добрых, умных, пунктуальных специалистов!!!'"
            ]
          },
          "metadata": {
            "tags": []
          },
          "execution_count": 57
        }
      ]
    },
    {
      "metadata": {
        "id": "ZUw0utkhq1gw",
        "colab_type": "code",
        "colab": {}
      },
      "cell_type": "code",
      "source": [
        "p = [categories[predicted[i]] for i in range(predicted.shape[0])]"
      ],
      "execution_count": 0,
      "outputs": []
    },
    {
      "metadata": {
        "id": "t3ii01M1q1gz",
        "colab_type": "code",
        "colab": {}
      },
      "cell_type": "code",
      "source": [
        "prediction = pd.DataFrame()\n",
        "prediction['index'] =  [i for i in list(test_df.index)]\n",
        "prediction['type'] = p"
      ],
      "execution_count": 0,
      "outputs": []
    },
    {
      "metadata": {
        "id": "2coESaIaq1g1",
        "colab_type": "code",
        "outputId": "19c79c17-4a17-4556-ec0c-8a831f7de9e4",
        "colab": {
          "base_uri": "https://localhost:8080/",
          "height": 343
        }
      },
      "cell_type": "code",
      "source": [
        "prediction.head(10)"
      ],
      "execution_count": 0,
      "outputs": [
        {
          "output_type": "execute_result",
          "data": {
            "text/html": [
              "<div>\n",
              "<style scoped>\n",
              "    .dataframe tbody tr th:only-of-type {\n",
              "        vertical-align: middle;\n",
              "    }\n",
              "\n",
              "    .dataframe tbody tr th {\n",
              "        vertical-align: top;\n",
              "    }\n",
              "\n",
              "    .dataframe thead th {\n",
              "        text-align: right;\n",
              "    }\n",
              "</style>\n",
              "<table border=\"1\" class=\"dataframe\">\n",
              "  <thead>\n",
              "    <tr style=\"text-align: right;\">\n",
              "      <th></th>\n",
              "      <th>index</th>\n",
              "      <th>type</th>\n",
              "    </tr>\n",
              "  </thead>\n",
              "  <tbody>\n",
              "    <tr>\n",
              "      <th>0</th>\n",
              "      <td>0</td>\n",
              "      <td>Ипотека</td>\n",
              "    </tr>\n",
              "    <tr>\n",
              "      <th>1</th>\n",
              "      <td>1</td>\n",
              "      <td>Кредит</td>\n",
              "    </tr>\n",
              "    <tr>\n",
              "      <th>2</th>\n",
              "      <td>2</td>\n",
              "      <td>Обслуживание физ. и юр. лиц</td>\n",
              "    </tr>\n",
              "    <tr>\n",
              "      <th>3</th>\n",
              "      <td>3</td>\n",
              "      <td>Обслуживание физ. и юр. лиц</td>\n",
              "    </tr>\n",
              "    <tr>\n",
              "      <th>4</th>\n",
              "      <td>4</td>\n",
              "      <td>Кредит</td>\n",
              "    </tr>\n",
              "    <tr>\n",
              "      <th>5</th>\n",
              "      <td>5</td>\n",
              "      <td>Ипотека</td>\n",
              "    </tr>\n",
              "    <tr>\n",
              "      <th>6</th>\n",
              "      <td>6</td>\n",
              "      <td>Вклад</td>\n",
              "    </tr>\n",
              "    <tr>\n",
              "      <th>7</th>\n",
              "      <td>7</td>\n",
              "      <td>Кредит</td>\n",
              "    </tr>\n",
              "    <tr>\n",
              "      <th>8</th>\n",
              "      <td>8</td>\n",
              "      <td>Ипотека</td>\n",
              "    </tr>\n",
              "    <tr>\n",
              "      <th>9</th>\n",
              "      <td>9</td>\n",
              "      <td>Кредит</td>\n",
              "    </tr>\n",
              "  </tbody>\n",
              "</table>\n",
              "</div>"
            ],
            "text/plain": [
              "  index                         type\n",
              "0     0                      Ипотека\n",
              "1     1                       Кредит\n",
              "2     2  Обслуживание физ. и юр. лиц\n",
              "3     3  Обслуживание физ. и юр. лиц\n",
              "4     4                       Кредит\n",
              "5     5                      Ипотека\n",
              "6     6                        Вклад\n",
              "7     7                       Кредит\n",
              "8     8                      Ипотека\n",
              "9     9                       Кредит"
            ]
          },
          "metadata": {
            "tags": []
          },
          "execution_count": 60
        }
      ]
    },
    {
      "metadata": {
        "id": "vsrhjeQQq1g8",
        "colab_type": "code",
        "colab": {}
      },
      "cell_type": "code",
      "source": [
        "# write finilased results into csv\n",
        "prediction.to_csv('prediction_class.csv', index = False, sep = ',')"
      ],
      "execution_count": 0,
      "outputs": []
    },
    {
      "metadata": {
        "id": "9Gs3lKM0q1g_",
        "colab_type": "code",
        "colab": {}
      },
      "cell_type": "code",
      "source": [
        ""
      ],
      "execution_count": 0,
      "outputs": []
    }
  ]
}